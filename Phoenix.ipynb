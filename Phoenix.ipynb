{
 "cells": [
  {
   "cell_type": "code",
   "execution_count": 16,
   "metadata": {},
   "outputs": [
    {
     "name": "stderr",
     "output_type": "stream",
     "text": [
      "C:\\Users\\zhutk\\Anaconda2\\lib\\site-packages\\IPython\\core\\interactiveshell.py:2717: DtypeWarning: Columns (1375) have mixed types. Specify dtype option on import or set low_memory=False.\n",
      "  interactivity=interactivity, compiler=compiler, result=result)\n"
     ]
    }
   ],
   "source": [
    "import pandas as pd\n",
    "import numpy as np\n",
    "import matplotlib.pyplot as plt\n",
    "from sklearn import linear_model\n",
    "d13 = pd.read_csv('thads2013n.txt')\n",
    "df = pd.read_csv('tAHS2013N.csv')"
   ]
  },
  {
   "cell_type": "code",
   "execution_count": 17,
   "metadata": {
    "collapsed": true
   },
   "outputs": [],
   "source": [
    "df.columns = [a.upper() for a in df.columns]\n",
    "d13.columns = [a.upper() for a in d13.columns]"
   ]
  },
  {
   "cell_type": "code",
   "execution_count": 18,
   "metadata": {
    "collapsed": true,
    "scrolled": true
   },
   "outputs": [],
   "source": [
    "df = df[['CONTROL','CMSA','SMSA','NUNIT2','ELEV','SHARAT','SHARFR','GARAGE','PORCH','NOSTEP',\n",
    "    'DINING','LAUNDY','LOT','EBAR','MOBILTYP','ACCESS','CLIMB','INCP','CELLAR','FLOORS','UNITSF','KITCH',\n",
    "    'BATHS','SHARPF','KITCHEN','KEXCLU','BSINK','TOILET','TUB','PTDISBUS','PTDISRAIL','PTDISSUB','PTDISSHUT','DRUGSTORE',\n",
    "   'GROCERY','EWATER','WFPROP','NHDBLDSUD','NHDBLDSUA','NHDBLDMU','NHDBLDMH','ECOM1','ECOM2','EBARCL','EABAN','EJUNK','EGREEN',\n",
    "   'EHEIGHT','EPRKG','EROAD','SATPOL','CEFTRUSTED','HEQUIP','FPLWK','GASPIP','AIR','AIRSYS','WATER','SEWDIS','WFUEL','REFR',\n",
    "   'DISH','SINK','WASH','DRY','BURNER','COOK','DISPL','OVEN']]"
   ]
  },
  {
   "cell_type": "code",
   "execution_count": 19,
   "metadata": {
    "collapsed": true
   },
   "outputs": [],
   "source": [
    "features = ['SMSA','NUNIT2','ELEV','SHARAT','SHARFR','GARAGE','PORCH','NOSTEP',\n",
    "    'DINING','LAUNDY','LOT','EBAR','MOBILTYP','ACCESS','CLIMB','INCP','CELLAR','FLOORS','UNITSF','KITCH',\n",
    "    'BATHS','SHARPF','KITCHEN','KEXCLU','BSINK','TOILET','TUB','PTDISBUS','PTDISRAIL','PTDISSUB','PTDISSHUT','DRUGSTORE',\n",
    "   'GROCERY','EWATER','WFPROP','NHDBLDSUD','NHDBLDSUA','NHDBLDMU','NHDBLDMH','ECOM1','ECOM2','EBARCL','EABAN','EJUNK','EGREEN',\n",
    "   'EHEIGHT','EPRKG','EROAD','SATPOL','CEFTRUSTED','HEQUIP','FPLWK','GASPIP','AIR','AIRSYS','WATER','SEWDIS','WFUEL','REFR',\n",
    "   'DISH','SINK','WASH','DRY','BURNER','COOK','DISPL','OVEN','NUNITS','BUILT']"
   ]
  },
  {
   "cell_type": "code",
   "execution_count": 20,
   "metadata": {
    "collapsed": true
   },
   "outputs": [],
   "source": [
    "df = df.merge(d13,on = 'CONTROL')"
   ]
  },
  {
   "cell_type": "code",
   "execution_count": 21,
   "metadata": {
    "collapsed": true
   },
   "outputs": [],
   "source": [
    "for a in df.columns:\n",
    "    if type(df.loc[1,a]) == str:\n",
    "        df.loc[:,a] = df[a].str.strip(\"'\")\n",
    "        \n",
    "cols = [c for c in df.columns if c[:3] != 'FMT']\n",
    "df = df[cols]\n",
    "\n",
    "df.columns = [a.upper() for a in df.columns]"
   ]
  },
  {
   "cell_type": "code",
   "execution_count": 22,
   "metadata": {},
   "outputs": [
    {
     "data": {
      "text/plain": [
       "1.0    23903\n",
       "0.0     7050\n",
       "Name: AFFORDABLE, dtype: int64"
      ]
     },
     "execution_count": 22,
     "metadata": {},
     "output_type": "execute_result"
    }
   ],
   "source": [
    "#The new AFFORDABLE variable represents whether or not a property would be affordable or not at area median income.\n",
    "df.loc[df.COSTMEDRELAMICAT.isin([1,2,3,4,5]),'AFFORDABLE']=1\n",
    "df.loc[df.COSTMEDRELAMICAT.isin([6,7]),'AFFORDABLE']=0\n",
    "df.AFFORDABLE.value_counts()"
   ]
  },
  {
   "cell_type": "code",
   "execution_count": 23,
   "metadata": {
    "scrolled": true
   },
   "outputs": [
    {
     "data": {
      "text/plain": [
       "ASSISTED            20267\n",
       "INCRELFMRCAT         2183\n",
       "INCRELAMIPCT         2183\n",
       "INCRELFMRPCT         2183\n",
       "INCRELPOVCAT         2183\n",
       "COST08RELPOVPCT      2183\n",
       "COST08RELPOVCAT      2183\n",
       "INCRELPOVPCT         2183\n",
       "AGE1                 2183\n",
       "INCRELAMICAT         2183\n",
       "COST12RELPOVPCT      2183\n",
       "COST06RELPOVCAT      2183\n",
       "COST12RELPOVCAT      2183\n",
       "BURDEN               2183\n",
       "APLMED               2183\n",
       "COSTMEDRELPOVPCT     2183\n",
       "COSTMEDRELPOVCAT     2183\n",
       "TOTSAL               2183\n",
       "COST06RELPOVPCT      2183\n",
       "INCP                    2\n",
       "STRUCTURETYPE           1\n",
       "NOSTEP                  1\n",
       "GARAGE                  1\n",
       "EROAD                   0\n",
       "EBARCL                  0\n",
       "dtype: int64"
      ]
     },
     "execution_count": 23,
     "metadata": {},
     "output_type": "execute_result"
    }
   ],
   "source": [
    "df.isin([-9,'-9']).sum().sort_values(ascending=False).head(25)"
   ]
  },
  {
   "cell_type": "code",
   "execution_count": 24,
   "metadata": {
    "collapsed": true
   },
   "outputs": [],
   "source": [
    "df.drop('ASSISTED',axis=1,inplace=True)\n",
    "#Assisted is only in HADS not AHS and its meaning is not clear.  The goal is to predict based on the features of the property."
   ]
  },
  {
   "cell_type": "code",
   "execution_count": 25,
   "metadata": {},
   "outputs": [
    {
     "data": {
      "text/plain": [
       "1    1317\n",
       "3     519\n",
       "5     155\n",
       "2     115\n",
       "4      77\n",
       "Name: VACANCY, dtype: int64"
      ]
     },
     "execution_count": 25,
     "metadata": {},
     "output_type": "execute_result"
    }
   ],
   "source": [
    "#Investigating the 2183 rows.\n",
    "df[df.AGE1 ==-9].VACANCY.value_counts()\n",
    "#They are all vacant properties (no -6 values)"
   ]
  },
  {
   "cell_type": "code",
   "execution_count": 26,
   "metadata": {},
   "outputs": [
    {
     "data": {
      "text/plain": [
       "-6         1509\n",
       " 150000      34\n",
       " 60000       31\n",
       " 40000       31\n",
       " 70000       29\n",
       " 100000      26\n",
       " 200000      25\n",
       " 30000       25\n",
       " 160000      23\n",
       " 80000       23\n",
       "Name: VALUE, dtype: int64"
      ]
     },
     "execution_count": 26,
     "metadata": {},
     "output_type": "execute_result"
    }
   ],
   "source": [
    "df[df.AGE1==-9].VALUE.value_counts().head(10)\n",
    "#Most not applicable values anyway so may as well drop these row"
   ]
  },
  {
   "cell_type": "code",
   "execution_count": 27,
   "metadata": {},
   "outputs": [
    {
     "data": {
      "text/plain": [
       "INCP          1\n",
       "EWATER        0\n",
       "CEFTRUSTED    0\n",
       "SATPOL        0\n",
       "EROAD         0\n",
       "dtype: int64"
      ]
     },
     "execution_count": 27,
     "metadata": {},
     "output_type": "execute_result"
    }
   ],
   "source": [
    "df = df.loc[df.AGE1!=-9,:]\n",
    "df.isin([-9,'-9']).sum().sort_values(ascending=False).head()"
   ]
  },
  {
   "cell_type": "code",
   "execution_count": 28,
   "metadata": {
    "collapsed": true
   },
   "outputs": [],
   "source": [
    "df = df[~df.INCP.isin(['-9'])]"
   ]
  },
  {
   "cell_type": "code",
   "execution_count": 29,
   "metadata": {},
   "outputs": [
    {
     "data": {
      "image/png": "[encoded data removed]",
      "text/plain": [
       "<matplotlib.figure.Figure at 0x7055ce48>"
      ]
     },
     "metadata": {},
     "output_type": "display_data"
    }
   ],
   "source": [
    "plt.plot(df[['AFFORDABLE','ROOMS']].groupby('ROOMS').mean())\n",
    "plt.show()"
   ]
  },
  {
   "cell_type": "code",
   "execution_count": 30,
   "metadata": {},
   "outputs": [
    {
     "data": {
      "text/plain": [
       "1    3069\n",
       "2    5861\n",
       "3    3881\n",
       "4    5820\n",
       "5    3469\n",
       "6    2212\n",
       "7    4457\n",
       "Name: COSTMEDRELAMICAT, dtype: int64"
      ]
     },
     "execution_count": 30,
     "metadata": {},
     "output_type": "execute_result"
    }
   ],
   "source": [
    "df.COSTMEDRELAMICAT.value_counts().sort_index()"
   ]
  },
  {
   "cell_type": "code",
   "execution_count": 35,
   "metadata": {},
   "outputs": [
    {
     "name": "stdout",
     "output_type": "stream",
     "text": [
      "28768\n",
      "28768\n"
     ]
    }
   ],
   "source": [
    "print len(df)\n",
    "df.dropna(axis=0,inplace=True)\n",
    "print len(df)"
   ]
  },
  {
   "cell_type": "code",
   "execution_count": 36,
   "metadata": {},
   "outputs": [
    {
     "data": {
      "text/plain": [
       "0.82643957826439574"
      ]
     },
     "execution_count": 36,
     "metadata": {},
     "output_type": "execute_result"
    }
   ],
   "source": [
    "from sklearn.ensemble import RandomForestClassifier\n",
    "RFC_AFF = RandomForestClassifier(n_jobs=-1,n_estimators=300,max_features=.15,max_depth=20)\n",
    "from sklearn.model_selection import train_test_split, cross_val_score, GridSearchCV\n",
    "X = df[features]\n",
    "y = df.AFFORDABLE\n",
    "xtrain, xtest, ytrain, ytest = train_test_split(X,y,test_size = .3)\n",
    "RFC_AFF.fit(xtrain,ytrain)\n",
    "RFC_AFF.score(xtest, ytest)"
   ]
  },
  {
   "cell_type": "code",
   "execution_count": 37,
   "metadata": {},
   "outputs": [
    {
     "data": {
      "text/plain": [
       "array([[ 788, 1203],\n",
       "       [ 295, 6345]])"
      ]
     },
     "execution_count": 37,
     "metadata": {},
     "output_type": "execute_result"
    }
   ],
   "source": [
    "from sklearn.metrics import confusion_matrix\n",
    "confusion_matrix(ytest,RFC_AFF.predict(xtest))"
   ]
  },
  {
   "cell_type": "markdown",
   "metadata": {},
   "source": [
    "\n",
    "mis_cls = [train \n",
    "           for test, truth, train in \n",
    "           zip(xtest, ytest, xtrain) \n",
    "           if RFC.predict(test) != truth]"
   ]
  },
  {
   "cell_type": "code",
   "execution_count": 38,
   "metadata": {
    "scrolled": true
   },
   "outputs": [
    {
     "data": {
      "text/plain": [
       "UNITSF        0.131922\n",
       "SMSA          0.070021\n",
       "BATHS         0.065993\n",
       "BUILT         0.065868\n",
       "LOT           0.062375\n",
       "FPLWK         0.045783\n",
       "FLOORS        0.040162\n",
       "CELLAR        0.029002\n",
       "DISH          0.028751\n",
       "HEQUIP        0.026384\n",
       "WFUEL         0.022971\n",
       "DINING        0.021370\n",
       "NUNITS        0.020782\n",
       "CEFTRUSTED    0.017849\n",
       "DISPL         0.016531\n",
       "GASPIP        0.016153\n",
       "INCP          0.015872\n",
       "NOSTEP        0.015779\n",
       "LAUNDY        0.014996\n",
       "CLIMB         0.012945\n",
       "EROAD         0.012916\n",
       "AIRSYS        0.012378\n",
       "GARAGE        0.011954\n",
       "PTDISSUB      0.011102\n",
       "AIR           0.010930\n",
       "NUNIT2        0.009492\n",
       "EGREEN        0.009171\n",
       "PORCH         0.008008\n",
       "SEWDIS        0.007836\n",
       "ECOM1         0.007636\n",
       "                ...   \n",
       "NHDBLDSUD     0.006727\n",
       "GROCERY       0.006427\n",
       "EWATER        0.006334\n",
       "EABAN         0.006317\n",
       "EBAR          0.006134\n",
       "NHDBLDSUA     0.005988\n",
       "DRY           0.005714\n",
       "NHDBLDMU      0.005071\n",
       "EJUNK         0.004691\n",
       "PTDISRAIL     0.004600\n",
       "WASH          0.004539\n",
       "SHARAT        0.003696\n",
       "SHARFR        0.003603\n",
       "NHDBLDMH      0.003506\n",
       "ECOM2         0.003311\n",
       "KITCH         0.003291\n",
       "KEXCLU        0.002606\n",
       "MOBILTYP      0.002581\n",
       "PTDISSHUT     0.002192\n",
       "KITCHEN       0.001390\n",
       "BURNER        0.001046\n",
       "SHARPF        0.000986\n",
       "COOK          0.000880\n",
       "OVEN          0.000803\n",
       "REFR          0.000405\n",
       "SINK          0.000386\n",
       "BSINK         0.000122\n",
       "TUB           0.000075\n",
       "TOILET        0.000049\n",
       "ACCESS        0.000000\n",
       "Length: 69, dtype: float64"
      ]
     },
     "execution_count": 38,
     "metadata": {},
     "output_type": "execute_result"
    }
   ],
   "source": [
    "pd.Series(RFC_AFF.feature_importances_,X.columns).sort_values(ascending=False)"
   ]
  },
  {
   "cell_type": "code",
   "execution_count": 39,
   "metadata": {},
   "outputs": [
    {
     "data": {
      "text/plain": [
       "0.82493337967790525"
      ]
     },
     "execution_count": 39,
     "metadata": {},
     "output_type": "execute_result"
    }
   ],
   "source": [
    "new_features = ['SMSA','UNITSF','BUILT','BATHS','LOT','FPLWK','FLOORS','CELLAR','DISH','HEQUIP','WFUEL','DINING','NUNITS',\n",
    "               'CEFTRUSTED','DISPL','INCP','GASPIP','NOSTEP','LAUNDY','CLIMB','EROAD','GARAGE','AIRSYS','AIR']\n",
    "X = df[new_features]\n",
    "y = df.AFFORDABLE\n",
    "X_train, X_test, y_train, y_test = train_test_split(X,y,test_size=.3)\n",
    "RFC_AFF.fit(X_train,y_train)\n",
    "RFC_AFF.score(X_test, y_test)"
   ]
  },
  {
   "cell_type": "code",
   "execution_count": 40,
   "metadata": {},
   "outputs": [
    {
     "ename": "NameError",
     "evalue": "name 'dl' is not defined",
     "output_type": "error",
     "traceback": [
      "\u001b[1;31m---------------------------------------------------------------------------\u001b[0m",
      "\u001b[1;31mNameError\u001b[0m                                 Traceback (most recent call last)",
      "\u001b[1;32m<ipython-input-40-5753f35b7a7f>\u001b[0m in \u001b[0;36m<module>\u001b[1;34m()\u001b[0m\n\u001b[1;32m----> 1\u001b[1;33m \u001b[0mlen\u001b[0m\u001b[1;33m(\u001b[0m\u001b[0mdl\u001b[0m\u001b[1;33m)\u001b[0m\u001b[1;33m\u001b[0m\u001b[0m\n\u001b[0m",
      "\u001b[1;31mNameError\u001b[0m: name 'dl' is not defined"
     ]
    }
   ],
   "source": [
    "len(dl)"
   ]
  },
  {
   "cell_type": "code",
   "execution_count": 41,
   "metadata": {},
   "outputs": [
    {
     "data": {
      "text/plain": [
       "0.62669447340980189"
      ]
     },
     "execution_count": 41,
     "metadata": {},
     "output_type": "execute_result"
    }
   ],
   "source": [
    "RFC_FMR = RandomForestClassifier(n_jobs=-1,n_estimators=300,max_features=.15,max_depth=20)\n",
    "X = df[new_features]\n",
    "y = df.COSTMEDRELFMRCAT\n",
    "xtrain, xtest, ytrain, ytest = train_test_split(X,y,test_size=.3)\n",
    "RFC_FMR.fit(xtrain,ytrain)\n",
    "RFC_FMR.score(xtest,ytest)"
   ]
  },
  {
   "cell_type": "code",
   "execution_count": 42,
   "metadata": {},
   "outputs": [
    {
     "data": {
      "text/plain": [
       "0.67883211678832112"
      ]
     },
     "execution_count": 42,
     "metadata": {},
     "output_type": "execute_result"
    }
   ],
   "source": [
    "RFC_POV = RandomForestClassifier(n_jobs=-1,n_estimators=300,max_features=.15,max_depth=20)\n",
    "X = df[new_features]\n",
    "y = df.COSTMEDRELPOVCAT\n",
    "xtrain, xtest, ytrain, ytest = train_test_split(X,y,test_size=.3)\n",
    "RFC_POV.fit(xtrain,ytrain)\n",
    "RFC_POV.score(xtest,ytest)"
   ]
  },
  {
   "cell_type": "code",
   "execution_count": 43,
   "metadata": {},
   "outputs": [
    {
     "data": {
      "text/plain": [
       "9999    11106\n",
       "2160     2087\n",
       "6160     1923\n",
       "9991     1356\n",
       "9993     1311\n",
       "9992      845\n",
       "5600      829\n",
       "4480      754\n",
       "1600      506\n",
       "8840      273\n",
       "3360      250\n",
       "7320      236\n",
       "0360      212\n",
       "1120      210\n",
       "1920      209\n",
       "5775      203\n",
       "6200      196\n",
       "5120      193\n",
       "5380      174\n",
       "7600      173\n",
       "Name: SMSA, dtype: int64"
      ]
     },
     "execution_count": 43,
     "metadata": {},
     "output_type": "execute_result"
    }
   ],
   "source": [
    "df.SMSA.value_counts().head(20)"
   ]
  },
  {
   "cell_type": "code",
   "execution_count": 44,
   "metadata": {
    "collapsed": true
   },
   "outputs": [],
   "source": [
    "df.SMSA.value_counts()\n",
    "#2160: Detroit, 6160: Philadelphia, 5600: New York City, 4480: Los Angeles, 1600: Chicago, 8840: Washington DC, 3360: Houston\n",
    "#7320: San Diego, 0360: Anaheim, 1120: Boston, 1920: Dallas, 5775: Oakland, 6200: Phoenix, 5120: Minneapolis-Saint Paul,\n",
    "#7600: Seattle\n",
    "dl = df[df.SMSA.isin(['2160','6160','5600','4480','1600','8840','3360','7320','0360','1120','1920','5775','6200','5120','7600'])]"
   ]
  },
  {
   "cell_type": "code",
   "execution_count": 45,
   "metadata": {},
   "outputs": [
    {
     "data": {
      "text/plain": [
       "0.81348405329027051"
      ]
     },
     "execution_count": 45,
     "metadata": {},
     "output_type": "execute_result"
    }
   ],
   "source": [
    "RFC_AFF = RandomForestClassifier(n_jobs=-1,n_estimators=300,max_features=.15,max_depth=20)\n",
    "X = dl[features]\n",
    "y = dl.AFFORDABLE\n",
    "xtrain, xtest, ytrain, ytest = train_test_split(X,y,test_size=.3)\n",
    "RFC_AFF.fit(xtrain,ytrain)\n",
    "RFC_AFF.score(xtest, ytest)"
   ]
  },
  {
   "cell_type": "code",
   "execution_count": 46,
   "metadata": {
    "scrolled": true
   },
   "outputs": [
    {
     "data": {
      "text/plain": [
       "array(['UNITSF', 'SMSA', 'BUILT', 'BATHS', 'LOT', 'FPLWK', 'FLOORS',\n",
       "       'DISH', 'CELLAR', 'NUNITS', 'HEQUIP', 'DINING', 'WFUEL',\n",
       "       'CEFTRUSTED', 'INCP', 'CLIMB', 'GARAGE', 'NOSTEP', 'DISPL',\n",
       "       'LAUNDY', 'EROAD', 'PTDISSUB', 'AIR', 'AIRSYS', 'GASPIP'], dtype=object)"
      ]
     },
     "execution_count": 46,
     "metadata": {},
     "output_type": "execute_result"
    }
   ],
   "source": [
    "focus = pd.Series(RFC_AFF.feature_importances_,X.columns).sort_values(ascending=False).head(25)\n",
    "focus.index.values"
   ]
  },
  {
   "cell_type": "code",
   "execution_count": 47,
   "metadata": {},
   "outputs": [
    {
     "data": {
      "text/plain": [
       "0.81065805409769887"
      ]
     },
     "execution_count": 47,
     "metadata": {},
     "output_type": "execute_result"
    }
   ],
   "source": [
    "foc = ['SMSA','BUILT','UNITSF','BATHS','LOT','FPLWK','FLOORS','DISH','CELLAR','NUNITS','HEQUIP','DINING','WFUEL','CEFTRUSTED',\n",
    "       'INCP','DISPL','CLIMB','GARAGE','NOSTEP','LAUNDY']\n",
    "RFC_aff = RandomForestClassifier(n_jobs=-1, n_estimators = 300)\n",
    "X = dl[foc]\n",
    "y = dl.AFFORDABLE\n",
    "xtrain, xtest, ytrain, ytest = train_test_split(X,y,test_size=.3)\n",
    "RFC_aff.fit(xtrain,ytrain)\n",
    "RFC_aff.score(xtest, ytest)"
   ]
  },
  {
   "cell_type": "code",
   "execution_count": 48,
   "metadata": {},
   "outputs": [
    {
     "data": {
      "text/plain": [
       "0.63584981832862331"
      ]
     },
     "execution_count": 48,
     "metadata": {},
     "output_type": "execute_result"
    }
   ],
   "source": [
    "RFC_fmr = RandomForestClassifier(n_jobs=-1, n_estimators = 300)\n",
    "X = dl[foc]\n",
    "y = dl.COSTMEDRELFMRCAT\n",
    "xtrain, xtest, ytrain, ytest = train_test_split(X,y,test_size=.3)\n",
    "RFC_fmr.fit(xtrain,ytrain)\n",
    "RFC_fmr.score(xtest, ytest)"
   ]
  },
  {
   "cell_type": "code",
   "execution_count": 50,
   "metadata": {},
   "outputs": [
    {
     "data": {
      "text/plain": [
       "0.71094065401695594"
      ]
     },
     "execution_count": 50,
     "metadata": {},
     "output_type": "execute_result"
    }
   ],
   "source": [
    "RFC_pov = RandomForestClassifier(n_jobs=-1, n_estimators = 300)\n",
    "X = dl[foc]\n",
    "y = dl.COSTMEDRELPOVCAT\n",
    "xtrain, xtest, ytrain, ytest = train_test_split(X,y,test_size=.3)\n",
    "RFC_pov.fit(xtrain,ytrain)\n",
    "RFC_pov.score(xtest, ytest)\n"
   ]
  },
  {
   "cell_type": "code",
   "execution_count": 56,
   "metadata": {
    "collapsed": true
   },
   "outputs": [],
   "source": [
    "def Affordable_Test():\n",
    "    a = raw_input('Where is the unit located? 2160: Detroit, 6160: Philadelphia, 5600: New York City, 4480: Los Angeles, 1600: Chicago, 8840: Washington DC, 3360: Houston, 7320: San Diego, 0360: Anaheim, 1120: Boston, 1920: Dallas, 5775: Oakland, 6200: Phoenix, 5120: Minneapolis-Saint Paul, 7600: Seattle') \n",
    "    b = raw_input('What year was the unit built?')\n",
    "    c = raw_input('How many square feet is the unit?')\n",
    "    d = raw_input('Number of full bathrooms?')\n",
    "    e = raw_input('How many square feet is the lot? Answer -6 if n/a')\n",
    "    f = raw_input('Does the unit have a useable fireplace? 1 for yes 2 for no')\n",
    "    g = raw_input('How many floors are in the unit?')\n",
    "    h = raw_input('Does the unit have a  working dishwasher? 1 for yes, 2 for no')\n",
    "    i = raw_input('Is this house build with 1: basement under the whole house, 2: basement under part of the house, 3:a crawl space, 4: On a concrete slab?')\n",
    "    j = raw_input('How many apartments are in the building? answer 1 if not an apartment')\n",
    "    k = raw_input('Is the unit heated by 1: Forced warm-air furnace with ducts and vents to individual rooms, 2: Steam or hot water system with radiators OR other system using steam or hot water, 3: Electric heat pump, 4: Built-in electric baseboard heating or electric coils in floors, ceilings, or walls, 5: Floor, wall, or other pipeless furnace built into the building')\n",
    "    l = raw_input('How many dining Rooms in the unit?')\n",
    "    m = raw_input('Water is heated using 1: Electricity, 2: Gas, LP gas (liquid propane(LP) same as bottled gas), 3: Fuel oil, 4: Kerosene or other liquid fuel, 5: Coal or coke, 6: Wood, 7: Solar energy')\n",
    "    n = raw_input('People in the neighborhood surrounding the unit can be trusted 1: Strongly agree, 2: Somewhat agree, 3: Somewhat disagree, 4: Strongly disagree')\n",
    "    o = raw_input('Is a driveway/lot/parking area off the street provided? 1 for yes, 2 for no')\n",
    "    p = raw_input('Does the unit have a working garbage disposal? 1 for yes, 2 for no')\n",
    "    q = raw_input('How many stories are there from the main entrance of the building to the main entrance of this apartment?')\n",
    "    r = raw_input('Is a garage or carport included with this unit? 1 for yes, 2 for no')\n",
    "    s = raw_input('Is it possible to enter this unit WITHOUT climbing up or down any steps or stairs? 1 for yes, 2 for no')\n",
    "    t = raw_input('How many laundry, utility, or pantry rooms?')\n",
    "   \n",
    "    X = np.array([a,b,c,d,e,f,g,h,i,j,k,l,m,n,o,p,q,r,s,t]).reshape(1,-1)\n",
    "    z = RFC_aff.predict((X))\n",
    "    aa = RFC_fmr.predict((X))\n",
    "    bb = RFC_pov.predict((X))\n",
    "    if z == 0:\n",
    "        print 'This unit is Not Affordable at Area Median Income'\n",
    "    else:\n",
    "        print 'This unit is Affordable at Area Median Income'\n",
    "    if aa == 1:\n",
    "        print 'This unit is Affordable at less than 50% of Fair Market Rent'\n",
    "    elif aa == 2: \n",
    "        print 'This unit is Affordable at 50-100% of Fair Market Rent'\n",
    "    else:\n",
    "        print 'This unit is Affordable at over 100% of Fair Market Rent'\n",
    "    if bb == 1:\n",
    "        print 'This unit is Affordable at less than Poverty Income'\n",
    "    elif bb == 2:\n",
    "        print 'This unit is Affordable at 100-150% of Poverty Income'\n",
    "    elif bb == 3:\n",
    "        print 'This unit is Affordable at 150-200% of Poverty Income'\n",
    "    elif bb == 4:\n",
    "        print 'This unit is Affordable at over 200% of Poverty Income'"
   ]
  },
  {
   "cell_type": "code",
   "execution_count": 58,
   "metadata": {},
   "outputs": [
    {
     "data": {
      "text/plain": [
       "array([1, 2, 4])"
      ]
     },
     "execution_count": 58,
     "metadata": {},
     "output_type": "execute_result"
    }
   ],
   "source": [
    "a = np.array([1,2,4])\n",
    "a"
   ]
  },
  {
   "cell_type": "code",
   "execution_count": 54,
   "metadata": {},
   "outputs": [
    {
     "data": {
      "text/plain": [
       "['model.pkl']"
      ]
     },
     "execution_count": 54,
     "metadata": {},
     "output_type": "execute_result"
    }
   ],
   "source": [
    "from sklearn.externals import joblib\n",
    "joblib.dump(RFC_aff,'model.pkl')"
   ]
  },
  {
   "cell_type": "code",
   "execution_count": 55,
   "metadata": {
    "collapsed": true
   },
   "outputs": [],
   "source": [
    "rfcc = joblib.load('model.pkl')"
   ]
  }
 ],
 "metadata": {
  "kernelspec": {
   "display_name": "Python 2",
   "language": "python",
   "name": "python2"
  },
  "language_info": {
   "codemirror_mode": {
    "name": "ipython",
    "version": 2
   },
   "file_extension": ".py",
   "mimetype": "text/x-python",
   "name": "python",
   "nbconvert_exporter": "python",
   "pygments_lexer": "ipython2",
   "version": "2.7.13"
  }
 },
 "nbformat": 4,
 "nbformat_minor": 2
}
