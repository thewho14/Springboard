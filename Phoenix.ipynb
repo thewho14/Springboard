{
 "cells": [
  {
   "cell_type": "code",
   "execution_count": 1,
   "metadata": {},
   "outputs": [
    {
     "name": "stderr",
     "output_type": "stream",
     "text": [
      "C:\\Users\\zhutk\\Anaconda2\\lib\\site-packages\\IPython\\core\\interactiveshell.py:2717: DtypeWarning: Columns (1375) have mixed types. Specify dtype option on import or set low_memory=False.\n",
      "  interactivity=interactivity, compiler=compiler, result=result)\n"
     ]
    },
    {
     "data": {
      "text/plain": [
       "40710"
      ]
     },
     "execution_count": 1,
     "metadata": {},
     "output_type": "execute_result"
    }
   ],
   "source": [
    "import pandas as pd\n",
    "import numpy as np\n",
    "import scipy\n",
    "import matplotlib.pyplot as plt\n",
    "from sklearn import linear_model\n",
    "d13 = pd.read_csv('thads2013n.txt')\n",
    "df = pd.read_csv('tAHS2013N.csv')\n",
    "len(df)"
   ]
  },
  {
   "cell_type": "code",
   "execution_count": 2,
   "metadata": {
    "collapsed": true
   },
   "outputs": [],
   "source": [
    "df.columns = [a.upper() for a in df.columns]\n",
    "d13.columns = [a.upper() for a in d13.columns]"
   ]
  },
  {
   "cell_type": "code",
   "execution_count": 3,
   "metadata": {
    "collapsed": true,
    "scrolled": true
   },
   "outputs": [],
   "source": [
    "df = df[['CONTROL','CMSA','SMSA','NUNIT2','ELEV','SHARAT','SHARFR','GARAGE','PORCH','NOSTEP',\n",
    "    'DINING','LAUNDY','LOT','EBAR','MOBILTYP','ACCESS','CLIMB','INCP','CELLAR','FLOORS','UNITSF','KITCH',\n",
    "    'BATHS','SHARPF','KITCHEN','KEXCLU','BSINK','TOILET','TUB','PTDISBUS','PTDISRAIL','PTDISSUB','PTDISSHUT','DRUGSTORE',\n",
    "   'GROCERY','EWATER','WFPROP','NHDBLDSUD','NHDBLDSUA','NHDBLDMU','NHDBLDMH','ECOM1','ECOM2','EBARCL','EABAN','EJUNK','EGREEN',\n",
    "   'EHEIGHT','EPRKG','EROAD','SATPOL','CEFTRUSTED','HEQUIP','FPLWK','GASPIP','AIR','AIRSYS','WATER','SEWDIS','WFUEL','REFR',\n",
    "   'DISH','SINK','WASH','DRY','BURNER','COOK','DISPL','OVEN']]"
   ]
  },
  {
   "cell_type": "code",
   "execution_count": 4,
   "metadata": {
    "collapsed": true
   },
   "outputs": [],
   "source": [
    "features = ['SMSA','NUNIT2','ELEV','SHARAT','SHARFR','GARAGE','PORCH','NOSTEP',\n",
    "    'DINING','LAUNDY','LOT','EBAR','MOBILTYP','ACCESS','CLIMB','INCP','CELLAR','FLOORS','UNITSF','KITCH',\n",
    "    'BATHS','SHARPF','KITCHEN','KEXCLU','BSINK','TOILET','TUB','PTDISBUS','PTDISRAIL','PTDISSUB','PTDISSHUT','DRUGSTORE',\n",
    "   'GROCERY','EWATER','WFPROP','NHDBLDSUD','NHDBLDSUA','NHDBLDMU','NHDBLDMH','ECOM1','ECOM2','EBARCL','EABAN','EJUNK','EGREEN',\n",
    "   'EHEIGHT','EPRKG','EROAD','SATPOL','CEFTRUSTED','HEQUIP','FPLWK','GASPIP','AIR','AIRSYS','WATER','SEWDIS','WFUEL','REFR',\n",
    "   'DISH','SINK','WASH','DRY','BURNER','COOK','DISPL','OVEN','NUNITS','BUILT']"
   ]
  },
  {
   "cell_type": "code",
   "execution_count": 5,
   "metadata": {},
   "outputs": [
    {
     "data": {
      "text/plain": [
       "30953"
      ]
     },
     "execution_count": 5,
     "metadata": {},
     "output_type": "execute_result"
    }
   ],
   "source": [
    "df = df.merge(d13,on = 'CONTROL')\n",
    "len(df)"
   ]
  },
  {
   "cell_type": "code",
   "execution_count": 6,
   "metadata": {
    "collapsed": true
   },
   "outputs": [],
   "source": [
    "for a in df.columns:\n",
    "    if type(df.loc[1,a]) == str:\n",
    "        df.loc[:,a] = df[a].str.strip(\"'\")\n",
    "        \n",
    "cols = [c for c in df.columns if c[:3] != 'FMT']\n",
    "df = df[cols]\n",
    "\n",
    "df.columns = [a.upper() for a in df.columns]"
   ]
  },
  {
   "cell_type": "code",
   "execution_count": 7,
   "metadata": {},
   "outputs": [
    {
     "data": {
      "text/plain": [
       "1.0    23903\n",
       "0.0     7050\n",
       "Name: AFFORDABLE, dtype: int64"
      ]
     },
     "execution_count": 7,
     "metadata": {},
     "output_type": "execute_result"
    }
   ],
   "source": [
    "#The new AFFORDABLE variable represents whether or not a property would be affordable or not at area median income.\n",
    "df.loc[df.COSTMEDRELAMICAT.isin([1,2,3,4,5]),'AFFORDABLE']=1\n",
    "df.loc[df.COSTMEDRELAMICAT.isin([6,7]),'AFFORDABLE']=0\n",
    "df.AFFORDABLE.value_counts()"
   ]
  },
  {
   "cell_type": "code",
   "execution_count": 8,
   "metadata": {
    "scrolled": false
   },
   "outputs": [
    {
     "data": {
      "text/plain": [
       "ASSISTED            20267\n",
       "INCRELFMRCAT         2183\n",
       "INCRELAMIPCT         2183\n",
       "INCRELFMRPCT         2183\n",
       "INCRELPOVCAT         2183\n",
       "COST08RELPOVPCT      2183\n",
       "COST08RELPOVCAT      2183\n",
       "INCRELPOVPCT         2183\n",
       "AGE1                 2183\n",
       "INCRELAMICAT         2183\n",
       "COST12RELPOVPCT      2183\n",
       "COST06RELPOVCAT      2183\n",
       "COST12RELPOVCAT      2183\n",
       "BURDEN               2183\n",
       "APLMED               2183\n",
       "COSTMEDRELPOVPCT     2183\n",
       "COSTMEDRELPOVCAT     2183\n",
       "TOTSAL               2183\n",
       "COST06RELPOVPCT      2183\n",
       "INCP                    2\n",
       "dtype: int64"
      ]
     },
     "execution_count": 8,
     "metadata": {},
     "output_type": "execute_result"
    }
   ],
   "source": [
    "df.isin([-9,'-9']).sum().sort_values(ascending=False).head(20)"
   ]
  },
  {
   "cell_type": "code",
   "execution_count": 9,
   "metadata": {
    "collapsed": true
   },
   "outputs": [],
   "source": [
    "df.drop('ASSISTED',axis=1,inplace=True)\n",
    "#Assisted is only in HADS not AHS and its meaning is not clear.  The goal is to predict based on the features of the property."
   ]
  },
  {
   "cell_type": "code",
   "execution_count": 10,
   "metadata": {},
   "outputs": [
    {
     "data": {
      "text/plain": [
       "1    1317\n",
       "3     519\n",
       "5     155\n",
       "2     115\n",
       "4      77\n",
       "Name: VACANCY, dtype: int64"
      ]
     },
     "execution_count": 10,
     "metadata": {},
     "output_type": "execute_result"
    }
   ],
   "source": [
    "#Investigating the 2183 rows.\n",
    "df[df.AGE1 ==-9].VACANCY.value_counts()\n",
    "#They are all vacant properties (no -6 values)"
   ]
  },
  {
   "cell_type": "code",
   "execution_count": 11,
   "metadata": {
    "scrolled": true
   },
   "outputs": [
    {
     "data": {
      "text/plain": [
       "2183"
      ]
     },
     "execution_count": 11,
     "metadata": {},
     "output_type": "execute_result"
    }
   ],
   "source": [
    "len(df[df.VACANCY.isin([1,2,3,4,5])])"
   ]
  },
  {
   "cell_type": "code",
   "execution_count": 12,
   "metadata": {},
   "outputs": [
    {
     "data": {
      "text/plain": [
       "-6         1509\n",
       " 150000      34\n",
       " 60000       31\n",
       " 40000       31\n",
       " 70000       29\n",
       " 100000      26\n",
       " 200000      25\n",
       " 30000       25\n",
       " 160000      23\n",
       " 80000       23\n",
       "Name: VALUE, dtype: int64"
      ]
     },
     "execution_count": 12,
     "metadata": {},
     "output_type": "execute_result"
    }
   ],
   "source": [
    "df[df.AGE1==-9].VALUE.value_counts().head(10)\n",
    "#Most not applicable values anyway so may as well drop these row"
   ]
  },
  {
   "cell_type": "code",
   "execution_count": 13,
   "metadata": {},
   "outputs": [
    {
     "data": {
      "text/plain": [
       "INCP          1\n",
       "EWATER        0\n",
       "CEFTRUSTED    0\n",
       "SATPOL        0\n",
       "EROAD         0\n",
       "dtype: int64"
      ]
     },
     "execution_count": 13,
     "metadata": {},
     "output_type": "execute_result"
    }
   ],
   "source": [
    "df = df.loc[df.AGE1!=-9,:]\n",
    "df.isin([-9,'-9']).sum().sort_values(ascending=False).head()"
   ]
  },
  {
   "cell_type": "code",
   "execution_count": 14,
   "metadata": {
    "collapsed": true
   },
   "outputs": [],
   "source": [
    "df = df[~df.INCP.isin(['-9'])]"
   ]
  },
  {
   "cell_type": "code",
   "execution_count": 15,
   "metadata": {},
   "outputs": [
    {
     "data": {
      "image/png": "[encoded data removed]",
      "text/plain": [
       "<matplotlib.figure.Figure at 0x4afe470>"
      ]
     },
     "metadata": {},
     "output_type": "display_data"
    }
   ],
   "source": [
    "plt.plot(df[['AFFORDABLE','ROOMS']].groupby('ROOMS').mean())\n",
    "plt.show()"
   ]
  },
  {
   "cell_type": "code",
   "execution_count": 16,
   "metadata": {},
   "outputs": [
    {
     "data": {
      "text/plain": [
       "1    3069\n",
       "2    5861\n",
       "3    3881\n",
       "4    5820\n",
       "5    3469\n",
       "6    2212\n",
       "7    4457\n",
       "Name: COSTMEDRELAMICAT, dtype: int64"
      ]
     },
     "execution_count": 16,
     "metadata": {},
     "output_type": "execute_result"
    }
   ],
   "source": [
    "df.COSTMEDRELAMICAT.value_counts().sort_index()"
   ]
  },
  {
   "cell_type": "code",
   "execution_count": 17,
   "metadata": {},
   "outputs": [
    {
     "name": "stdout",
     "output_type": "stream",
     "text": [
      "28769\n",
      "28768\n"
     ]
    }
   ],
   "source": [
    "print len(df)\n",
    "df.dropna(axis=0,inplace=True)\n",
    "print len(df)"
   ]
  },
  {
   "cell_type": "code",
   "execution_count": 18,
   "metadata": {},
   "outputs": [
    {
     "data": {
      "text/plain": [
       "0.81879272390221292"
      ]
     },
     "execution_count": 18,
     "metadata": {},
     "output_type": "execute_result"
    }
   ],
   "source": [
    "from sklearn.ensemble import RandomForestClassifier\n",
    "RFC_AFF = RandomForestClassifier(n_jobs=-1,n_estimators=300,max_features=.15,max_depth=20)\n",
    "from sklearn.model_selection import train_test_split, cross_val_score, GridSearchCV\n",
    "X = df[features]\n",
    "y = df.AFFORDABLE\n",
    "xtrain, xtest, ytrain, ytest = train_test_split(X,y,test_size = .3)\n",
    "RFC_AFF.fit(xtrain,ytrain)\n",
    "RFC_AFF.score(xtest, ytest)"
   ]
  },
  {
   "cell_type": "code",
   "execution_count": 19,
   "metadata": {},
   "outputs": [
    {
     "data": {
      "text/plain": [
       "array([[ 792, 1243],\n",
       "       [ 321, 6275]])"
      ]
     },
     "execution_count": 19,
     "metadata": {},
     "output_type": "execute_result"
    }
   ],
   "source": [
    "from sklearn.metrics import confusion_matrix\n",
    "confusion_matrix(ytest,RFC_AFF.predict(xtest))"
   ]
  },
  {
   "cell_type": "markdown",
   "metadata": {},
   "source": [
    "\n",
    "mis_cls = [train \n",
    "           for test, truth, train in \n",
    "           zip(xtest, ytest, xtrain) \n",
    "           if RFC.predict(test) != truth]"
   ]
  },
  {
   "cell_type": "code",
   "execution_count": 20,
   "metadata": {
    "scrolled": true
   },
   "outputs": [
    {
     "data": {
      "text/plain": [
       "UNITSF        0.137772\n",
       "SMSA          0.071034\n",
       "BATHS         0.069050\n",
       "BUILT         0.064825\n",
       "LOT           0.061095\n",
       "FPLWK         0.046097\n",
       "FLOORS        0.038445\n",
       "DISH          0.028086\n",
       "CELLAR        0.027818\n",
       "HEQUIP        0.025380\n",
       "WFUEL         0.023233\n",
       "NUNITS        0.020621\n",
       "DINING        0.019862\n",
       "CEFTRUSTED    0.018328\n",
       "INCP          0.016972\n",
       "DISPL         0.016593\n",
       "NOSTEP        0.015561\n",
       "GASPIP        0.015479\n",
       "LAUNDY        0.014715\n",
       "CLIMB         0.013990\n",
       "EROAD         0.012776\n",
       "PTDISSUB      0.011818\n",
       "AIRSYS        0.011580\n",
       "GARAGE        0.011515\n",
       "AIR           0.011157\n",
       "EGREEN        0.009360\n",
       "NUNIT2        0.009119\n",
       "PORCH         0.008125\n",
       "ELEV          0.007934\n",
       "ECOM1         0.007746\n",
       "                ...   \n",
       "GROCERY       0.006530\n",
       "EPRKG         0.006521\n",
       "EWATER        0.006509\n",
       "EABAN         0.006228\n",
       "NHDBLDSUA     0.006137\n",
       "EBAR          0.006097\n",
       "DRY           0.005285\n",
       "NHDBLDMU      0.004998\n",
       "PTDISRAIL     0.004825\n",
       "EJUNK         0.004536\n",
       "WASH          0.004276\n",
       "SHARFR        0.003595\n",
       "SHARAT        0.003571\n",
       "NHDBLDMH      0.003422\n",
       "ECOM2         0.003389\n",
       "KITCH         0.003149\n",
       "KEXCLU        0.002615\n",
       "MOBILTYP      0.002359\n",
       "PTDISSHUT     0.001524\n",
       "KITCHEN       0.001355\n",
       "SHARPF        0.001313\n",
       "BURNER        0.000848\n",
       "COOK          0.000701\n",
       "OVEN          0.000636\n",
       "REFR          0.000394\n",
       "SINK          0.000275\n",
       "BSINK         0.000156\n",
       "TUB           0.000119\n",
       "TOILET        0.000034\n",
       "ACCESS        0.000000\n",
       "Length: 69, dtype: float64"
      ]
     },
     "execution_count": 20,
     "metadata": {},
     "output_type": "execute_result"
    }
   ],
   "source": [
    "pd.Series(RFC_AFF.feature_importances_,X.columns).sort_values(ascending=False)"
   ]
  },
  {
   "cell_type": "code",
   "execution_count": 21,
   "metadata": {},
   "outputs": [
    {
     "data": {
      "text/plain": [
       "0.82377476538060479"
      ]
     },
     "execution_count": 21,
     "metadata": {},
     "output_type": "execute_result"
    }
   ],
   "source": [
    "new_features = ['SMSA','UNITSF','BUILT','BATHS','LOT','FPLWK','FLOORS','CELLAR','DISH','HEQUIP','WFUEL','DINING','NUNITS',\n",
    "               'CEFTRUSTED','DISPL','INCP','GASPIP','NOSTEP','LAUNDY','CLIMB','EROAD','GARAGE','AIRSYS','AIR']\n",
    "X = df[new_features]\n",
    "y = df.AFFORDABLE\n",
    "X_train, X_test, y_train, y_test = train_test_split(X,y,test_size=.3)\n",
    "RFC_AFF.fit(X_train,y_train)\n",
    "RFC_AFF.score(X_test, y_test)"
   ]
  },
  {
   "cell_type": "code",
   "execution_count": 22,
   "metadata": {},
   "outputs": [
    {
     "data": {
      "text/plain": [
       "0.62066967906383963"
      ]
     },
     "execution_count": 22,
     "metadata": {},
     "output_type": "execute_result"
    }
   ],
   "source": [
    "RFC_FMR = RandomForestClassifier(n_jobs=-1,n_estimators=300,max_features=.15,max_depth=20)\n",
    "X = df[new_features]\n",
    "y = df.COSTMEDRELFMRCAT\n",
    "xtrain, xtest, ytrain, ytest = train_test_split(X,y,test_size=.3)\n",
    "RFC_FMR.fit(xtrain,ytrain)\n",
    "RFC_FMR.score(xtest,ytest)"
   ]
  },
  {
   "cell_type": "code",
   "execution_count": 23,
   "metadata": {},
   "outputs": [
    {
     "data": {
      "text/plain": [
       "0.67836867106940102"
      ]
     },
     "execution_count": 23,
     "metadata": {},
     "output_type": "execute_result"
    }
   ],
   "source": [
    "RFC_POV = RandomForestClassifier(n_jobs=-1,n_estimators=300,max_features=.15,max_depth=20)\n",
    "X = df[new_features]\n",
    "y = df.COSTMEDRELPOVCAT\n",
    "xtrain, xtest, ytrain, ytest = train_test_split(X,y,test_size=.3)\n",
    "RFC_POV.fit(xtrain,ytrain)\n",
    "RFC_POV.score(xtest,ytest)"
   ]
  },
  {
   "cell_type": "code",
   "execution_count": 24,
   "metadata": {
    "collapsed": true
   },
   "outputs": [],
   "source": [
    "df.replace(['-7','-8'],'-6',inplace=True)"
   ]
  },
  {
   "cell_type": "code",
   "execution_count": 25,
   "metadata": {},
   "outputs": [
    {
     "name": "stderr",
     "output_type": "stream",
     "text": [
      "C:\\Users\\zhutk\\Anaconda2\\lib\\site-packages\\pandas\\core\\indexing.py:337: SettingWithCopyWarning: \n",
      "A value is trying to be set on a copy of a slice from a DataFrame.\n",
      "Try using .loc[row_indexer,col_indexer] = value instead\n",
      "\n",
      "See the caveats in the documentation: http://pandas.pydata.org/pandas-docs/stable/indexing.html#indexing-view-versus-copy\n",
      "  self.obj[key] = _infer_fill_value(value)\n",
      "C:\\Users\\zhutk\\Anaconda2\\lib\\site-packages\\pandas\\core\\indexing.py:517: SettingWithCopyWarning: \n",
      "A value is trying to be set on a copy of a slice from a DataFrame.\n",
      "Try using .loc[row_indexer,col_indexer] = value instead\n",
      "\n",
      "See the caveats in the documentation: http://pandas.pydata.org/pandas-docs/stable/indexing.html#indexing-view-versus-copy\n",
      "  self.obj[item] = s\n"
     ]
    }
   ],
   "source": [
    "df.SMSA.value_counts()\n",
    "cities = {'2160': 'Detroit', '6160': 'Philadelphia', '5600': 'New York City', '4480': 'Los Angeles', '1600': 'Chicago', '8840': 'Washington DC', '3360': 'Houston',\n",
    "'7320': 'San Diego', '0360': 'Anaheim', '1120': 'Boston', '1920': 'Dallas', '5775': 'Oakland', '6200': 'Phoenix', '5120': 'Minneapolis-Saint Paul',\n",
    "'7600': 'Seattle'}\n",
    "dl = df[df.SMSA.isin(['2160','6160','5600','4480','1600','8840','3360','7320','0360','1120','1920','5775','6200','5120','7600'])]\n",
    "dl.loc[:,'CITY'] = dl['SMSA'].map(cities)"
   ]
  },
  {
   "cell_type": "code",
   "execution_count": 26,
   "metadata": {
    "scrolled": true
   },
   "outputs": [
    {
     "data": {
      "image/png": "[encoded data removed]",
      "text/plain": [
       "<matplotlib.figure.Figure at 0x356ff240>"
      ]
     },
     "metadata": {},
     "output_type": "display_data"
    }
   ],
   "source": [
    "r = dl[['AFFORDABLE','CITY']].groupby('CITY').mean().sort_values('AFFORDABLE', ascending=False)\n",
    "r.plot(kind='bar')\n",
    "plt.ylabel('Proportion of Affordable Homes')\n",
    "plt.show()"
   ]
  },
  {
   "cell_type": "code",
   "execution_count": 27,
   "metadata": {},
   "outputs": [
    {
     "data": {
      "image/png": "[encoded data removed]",
      "text/plain": [
       "<matplotlib.figure.Figure at 0x356cd940>"
      ]
     },
     "metadata": {},
     "output_type": "display_data"
    }
   ],
   "source": [
    "dl[['AFFORDABLE','BATHS']].groupby('BATHS').mean().plot(kind='bar')\n",
    "plt.show()"
   ]
  },
  {
   "cell_type": "code",
   "execution_count": 28,
   "metadata": {},
   "outputs": [
    {
     "data": {
      "image/png": "[encoded data removed]",
      "text/plain": [
       "<matplotlib.figure.Figure at 0x3189b518>"
      ]
     },
     "metadata": {},
     "output_type": "display_data"
    }
   ],
   "source": [
    "dl[['AFFORDABLE','CELLAR']].groupby('CELLAR').mean().plot(kind='bar')\n",
    "plt.show()"
   ]
  },
  {
   "cell_type": "code",
   "execution_count": 29,
   "metadata": {},
   "outputs": [
    {
     "data": {
      "image/png": "[encoded data removed]",
      "text/plain": [
       "<matplotlib.figure.Figure at 0x11a6b0f0>"
      ]
     },
     "metadata": {},
     "output_type": "display_data"
    }
   ],
   "source": [
    "dl[['AFFORDABLE','CEFTRUSTED']].groupby('CEFTRUSTED').mean().plot(kind='bar')\n",
    "plt.show()"
   ]
  },
  {
   "cell_type": "code",
   "execution_count": 30,
   "metadata": {},
   "outputs": [
    {
     "data": {
      "text/html": [
       "<div>\n",
       "<style>\n",
       "    .dataframe thead tr:only-child th {\n",
       "        text-align: right;\n",
       "    }\n",
       "\n",
       "    .dataframe thead th {\n",
       "        text-align: left;\n",
       "    }\n",
       "\n",
       "    .dataframe tbody tr th {\n",
       "        vertical-align: top;\n",
       "    }\n",
       "</style>\n",
       "<table border=\"1\" class=\"dataframe\">\n",
       "  <thead>\n",
       "    <tr style=\"text-align: right;\">\n",
       "      <th></th>\n",
       "      <th>AFFORDABLE</th>\n",
       "    </tr>\n",
       "    <tr>\n",
       "      <th>CEFTRUSTED</th>\n",
       "      <th></th>\n",
       "    </tr>\n",
       "  </thead>\n",
       "  <tbody>\n",
       "    <tr>\n",
       "      <th>-6</th>\n",
       "      <td>3325.0</td>\n",
       "    </tr>\n",
       "    <tr>\n",
       "      <th>1</th>\n",
       "      <td>929.0</td>\n",
       "    </tr>\n",
       "    <tr>\n",
       "      <th>2</th>\n",
       "      <td>1196.0</td>\n",
       "    </tr>\n",
       "    <tr>\n",
       "      <th>3</th>\n",
       "      <td>340.0</td>\n",
       "    </tr>\n",
       "    <tr>\n",
       "      <th>4</th>\n",
       "      <td>180.0</td>\n",
       "    </tr>\n",
       "  </tbody>\n",
       "</table>\n",
       "</div>"
      ],
      "text/plain": [
       "            AFFORDABLE\n",
       "CEFTRUSTED            \n",
       "-6              3325.0\n",
       "1                929.0\n",
       "2               1196.0\n",
       "3                340.0\n",
       "4                180.0"
      ]
     },
     "execution_count": 30,
     "metadata": {},
     "output_type": "execute_result"
    }
   ],
   "source": [
    "dl.loc[dl.CEFTRUSTED.isin(['1','2']),'TRUST'] = 'Safe'\n",
    "dl.loc[dl.CEFTRUSTED.isin(['3','4']),'TRUST'] = 'Unsafe'\n",
    "dl.loc[dl.CEFTRUSTED.isin(['-6']),'TRUST'] = -6\n",
    "dl[['AFFORDABLE','CEFTRUSTED']].groupby('CEFTRUSTED').sum()"
   ]
  },
  {
   "cell_type": "code",
   "execution_count": 31,
   "metadata": {},
   "outputs": [
    {
     "name": "stdout",
     "output_type": "stream",
     "text": [
      "Unsafe Neighborhoods are 22.5594858721% more affordable than safe neighborhoods.\n"
     ]
    }
   ],
   "source": [
    "stat = dl[dl.TRUST.isin(['Safe','Unsafe'])]\n",
    "means = stat[['AFFORDABLE','TRUST']].groupby('TRUST').mean()\n",
    "stds = stat[['AFFORDABLE','TRUST']].groupby('TRUST').std()\n",
    "counts = stat[['AFFORDABLE','TRUST']].groupby('TRUST').count()\n",
    "diff = (means.iloc[1].values - means.iloc[0].values)\n",
    "print 'Unsafe Neighborhoods are {}% more affordable than safe neighborhoods.'.format(diff[0]*100)"
   ]
  },
  {
   "cell_type": "code",
   "execution_count": 32,
   "metadata": {},
   "outputs": [
    {
     "name": "stdout",
     "output_type": "stream",
     "text": [
      "Under the null hypothesis, this result occurs with probability 5.15858976825e-52\n"
     ]
    }
   ],
   "source": [
    "comb_std = ((stds.values[0]**2)/counts.values[0]+(stds.values[1]**2)/counts.values[1])**.5\n",
    "z_score = diff/comb_std\n",
    "p_value = scipy.stats.norm.sf(abs(z_score)) #one-sided\n",
    "print 'Under the null hypothesis, this result occurs with probability {}'.format(p_value[0])"
   ]
  },
  {
   "cell_type": "code",
   "execution_count": 33,
   "metadata": {},
   "outputs": [
    {
     "data": {
      "image/png": "[encoded data removed]",
      "text/plain": [
       "<matplotlib.figure.Figure at 0x3a5eccf8>"
      ]
     },
     "metadata": {},
     "output_type": "display_data"
    }
   ],
   "source": [
    "dl.loc[dl.TRUST.isin(['Safe','Unsafe']),['AFFORDABLE','TRUST']].groupby('TRUST').mean().plot(kind='bar',rot=0)\n",
    "plt.show()"
   ]
  },
  {
   "cell_type": "code",
   "execution_count": 34,
   "metadata": {},
   "outputs": [
    {
     "data": {
      "text/plain": [
       "1     5129\n",
       "-6      12\n",
       "2        2\n",
       "Name: GARAGE, dtype: int64"
      ]
     },
     "execution_count": 34,
     "metadata": {},
     "output_type": "execute_result"
    }
   ],
   "source": [
    "dl[dl.INCP=='-6'].GARAGE.value_counts()"
   ]
  },
  {
   "cell_type": "code",
   "execution_count": 35,
   "metadata": {},
   "outputs": [
    {
     "data": {
      "text/plain": [
       "0.82075090835688336"
      ]
     },
     "execution_count": 35,
     "metadata": {},
     "output_type": "execute_result"
    }
   ],
   "source": [
    "RFC_AFF = RandomForestClassifier(n_jobs=-1,n_estimators=300,max_features=.15,max_depth=20)\n",
    "X = dl[features]\n",
    "y = dl.AFFORDABLE\n",
    "xtrain, xtest, ytrain, ytest = train_test_split(X,y,test_size=.3)\n",
    "RFC_AFF.fit(xtrain,ytrain)\n",
    "RFC_AFF.score(xtest, ytest)"
   ]
  },
  {
   "cell_type": "code",
   "execution_count": 36,
   "metadata": {
    "scrolled": true
   },
   "outputs": [
    {
     "data": {
      "text/plain": [
       "array(['UNITSF', 'SMSA', 'BUILT', 'BATHS', 'LOT', 'FPLWK', 'FLOORS',\n",
       "       'DISH', 'CELLAR', 'NUNITS', 'HEQUIP', 'DINING', 'WFUEL', 'INCP',\n",
       "       'DISPL', 'NOSTEP', 'CLIMB', 'CEFTRUSTED', 'GARAGE', 'LAUNDY', 'AIR',\n",
       "       'GASPIP', 'AIRSYS', 'PTDISSUB', 'EROAD'], dtype=object)"
      ]
     },
     "execution_count": 36,
     "metadata": {},
     "output_type": "execute_result"
    }
   ],
   "source": [
    "focus = pd.Series(RFC_AFF.feature_importances_,X.columns).sort_values(ascending=False).head(25)\n",
    "focus.index.values"
   ]
  },
  {
   "cell_type": "code",
   "execution_count": 37,
   "metadata": {},
   "outputs": [
    {
     "data": {
      "text/plain": [
       "0.80581348405329023"
      ]
     },
     "execution_count": 37,
     "metadata": {},
     "output_type": "execute_result"
    }
   ],
   "source": [
    "foc = ['SMSA','BUILT','UNITSF','BATHS','LOT','FPLWK','FLOORS','DISH','CELLAR','NUNITS','HEQUIP','DINING','WFUEL','CEFTRUSTED',\n",
    "       'INCP','DISPL','CLIMB','GARAGE','NOSTEP','LAUNDY']\n",
    "RFC_aff = RandomForestClassifier(n_jobs=-1, n_estimators = 300)\n",
    "X = dl[foc]\n",
    "y = dl.AFFORDABLE\n",
    "Xtrain, Xtest, Ytrain, Ytest = train_test_split(X,y,test_size=.3)\n",
    "RFC_aff.fit(Xtrain,Ytrain)\n",
    "RFC_aff.score(Xtest, Ytest)"
   ]
  },
  {
   "cell_type": "code",
   "execution_count": 38,
   "metadata": {},
   "outputs": [
    {
     "data": {
      "text/plain": [
       "0.63019781994348001"
      ]
     },
     "execution_count": 38,
     "metadata": {},
     "output_type": "execute_result"
    }
   ],
   "source": [
    "RFC_fmr = RandomForestClassifier(n_jobs=-1, n_estimators = 300)\n",
    "X = dl[foc]\n",
    "y = dl.COSTMEDRELFMRCAT\n",
    "xtrain, xtest, ytrain, ytest = train_test_split(X,y,test_size=.3)\n",
    "RFC_fmr.fit(xtrain,ytrain)\n",
    "RFC_fmr.score(xtest, ytest)"
   ]
  },
  {
   "cell_type": "code",
   "execution_count": 39,
   "metadata": {},
   "outputs": [
    {
     "data": {
      "text/plain": [
       "0.71174808235769071"
      ]
     },
     "execution_count": 39,
     "metadata": {},
     "output_type": "execute_result"
    }
   ],
   "source": [
    "RFC_pov = RandomForestClassifier(n_jobs=-1, n_estimators = 300)\n",
    "X = dl[foc]\n",
    "y = dl.COSTMEDRELPOVCAT\n",
    "xtrain, xtest, ytrain, ytest = train_test_split(X,y,test_size=.3)\n",
    "RFC_pov.fit(xtrain,ytrain)\n",
    "RFC_pov.score(xtest, ytest)\n"
   ]
  },
  {
   "cell_type": "code",
   "execution_count": 40,
   "metadata": {
    "collapsed": true
   },
   "outputs": [],
   "source": [
    "def Affordable_Test():\n",
    "    a = raw_input('Where is the unit located? 2160: Detroit, 6160: Philadelphia, 5600: New York City, 4480: Los Angeles, 1600: Chicago, 8840: Washington DC, 3360: Houston, 7320: San Diego, 0360: Anaheim, 1120: Boston, 1920: Dallas, 5775: Oakland, 6200: Phoenix, 5120: Minneapolis-Saint Paul, 7600: Seattle') \n",
    "    b = raw_input('What year was the unit built?')\n",
    "    c = raw_input('How many square feet is the unit?')\n",
    "    d = raw_input('Number of full bathrooms?')\n",
    "    e = raw_input('How many square feet is the lot? Answer -6 if n/a')\n",
    "    f = raw_input('Does the unit have a useable fireplace? 1 for yes 2 for no')\n",
    "    g = raw_input('How many floors are in the unit?')\n",
    "    h = raw_input('Does the unit have a  working dishwasher? 1 for yes, 2 for no')\n",
    "    i = raw_input('Is this house build with 1: basement under the whole house, 2: basement under part of the house, 3:a crawl space, 4: On a concrete slab?')\n",
    "    j = raw_input('How many apartments are in the building? answer 1 if not an apartment')\n",
    "    k = raw_input('Is the unit heated by 1: Forced warm-air furnace with ducts and vents to individual rooms, 2: Steam or hot water system with radiators OR other system using steam or hot water, 3: Electric heat pump, 4: Built-in electric baseboard heating or electric coils in floors, ceilings, or walls, 5: Floor, wall, or other pipeless furnace built into the building')\n",
    "    l = raw_input('How many dining Rooms in the unit?')\n",
    "    m = raw_input('Water is heated using 1: Electricity, 2: Gas, LP gas (liquid propane(LP) same as bottled gas), 3: Fuel oil, 4: Kerosene or other liquid fuel, 5: Coal or coke, 6: Wood, 7: Solar energy')\n",
    "    n = raw_input('People in the neighborhood surrounding the unit can be trusted 1: Strongly agree, 2: Somewhat agree, 3: Somewhat disagree, 4: Strongly disagree')\n",
    "    o = raw_input('Is a driveway/lot/parking area off the street provided? 1 for yes, 2 for no')\n",
    "    p = raw_input('Does the unit have a working garbage disposal? 1 for yes, 2 for no')\n",
    "    q = raw_input('How many stories are there from the main entrance of the building to the main entrance of this apartment?')\n",
    "    r = raw_input('Is a garage or carport included with this unit? 1 for yes, 2 for no')\n",
    "    s = raw_input('Is it possible to enter this unit WITHOUT climbing up or down any steps or stairs? 1 for yes, 2 for no')\n",
    "    t = raw_input('How many laundry, utility, or pantry rooms?')\n",
    "   \n",
    "    X = np.array([a,b,c,d,e,f,g,h,i,j,k,l,m,n,o,p,q,r,s,t]).reshape(1,-1)\n",
    "    z = RFC_aff.predict((X))\n",
    "    aa = RFC_fmr.predict((X))\n",
    "    bb = RFC_pov.predict((X))\n",
    "    if z == 0:\n",
    "        print 'This unit is Not Affordable at Area Median Income'\n",
    "    else:\n",
    "        print 'This unit is Affordable at Area Median Income'\n",
    "    if aa == 1:\n",
    "        print 'This unit is Affordable at less than 50% of Fair Market Rent'\n",
    "    elif aa == 2: \n",
    "        print 'This unit is Affordable at 50-100% of Fair Market Rent'\n",
    "    else:\n",
    "        print 'This unit is Affordable at over 100% of Fair Market Rent'\n",
    "    if bb == 1:\n",
    "        print 'This unit is Affordable at less than Poverty Income'\n",
    "    elif bb == 2:\n",
    "        print 'This unit is Affordable at 100-150% of Poverty Income'\n",
    "    elif bb == 3:\n",
    "        print 'This unit is Affordable at 150-200% of Poverty Income'\n",
    "    elif bb == 4:\n",
    "        print 'This unit is Affordable at over 200% of Poverty Income'"
   ]
  },
  {
   "cell_type": "code",
   "execution_count": 41,
   "metadata": {},
   "outputs": [
    {
     "data": {
      "image/png": "[encoded data removed]",
      "text/plain": [
       "<matplotlib.figure.Figure at 0x35459358>"
      ]
     },
     "metadata": {},
     "output_type": "display_data"
    }
   ],
   "source": [
    "import seaborn as sns\n",
    "from matplotlib.colors import ListedColormap\n",
    "sns.set_context('talk')\n",
    "matrix = pd.crosstab(Ytest, RFC_aff.predict(Xtest), normalize=True)\n",
    "negative_class = 'Not Affordable'\n",
    "positive_class = 'Affordable'\n",
    "matrix.columns = [negative_class, positive_class]\n",
    "matrix.index = [negative_class, positive_class]\n",
    "matrix.columns.name = 'Predicted'\n",
    "matrix.index.name = 'True'\n",
    "sns.heatmap(matrix, cmap=ListedColormap(['white']), annot=True, fmt='.0%', linewidths=1, linecolor='grey', cbar=False)\n",
    "plt.show()"
   ]
  },
  {
   "cell_type": "code",
   "execution_count": 42,
   "metadata": {},
   "outputs": [
    {
     "data": {
      "text/plain": [
       "['model.pkl']"
      ]
     },
     "execution_count": 42,
     "metadata": {},
     "output_type": "execute_result"
    }
   ],
   "source": [
    "from sklearn.externals import joblib\n",
    "joblib.dump(RFC_aff,'model.pkl')"
   ]
  },
  {
   "cell_type": "code",
   "execution_count": 43,
   "metadata": {
    "collapsed": true
   },
   "outputs": [],
   "source": [
    "rfcc = joblib.load('model.pkl')"
   ]
  },
  {
   "cell_type": "code",
   "execution_count": 46,
   "metadata": {},
   "outputs": [
    {
     "data": {
      "text/html": [
       "<div>\n",
       "<style>\n",
       "    .dataframe thead tr:only-child th {\n",
       "        text-align: right;\n",
       "    }\n",
       "\n",
       "    .dataframe thead th {\n",
       "        text-align: left;\n",
       "    }\n",
       "\n",
       "    .dataframe tbody tr th {\n",
       "        vertical-align: top;\n",
       "    }\n",
       "</style>\n",
       "<table border=\"1\" class=\"dataframe\">\n",
       "  <thead>\n",
       "    <tr style=\"text-align: right;\">\n",
       "      <th></th>\n",
       "      <th>CONTROL</th>\n",
       "      <th>CMSA</th>\n",
       "      <th>SMSA</th>\n",
       "      <th>NUNIT2</th>\n",
       "      <th>ELEV</th>\n",
       "      <th>SHARAT</th>\n",
       "      <th>SHARFR</th>\n",
       "      <th>GARAGE</th>\n",
       "      <th>PORCH</th>\n",
       "      <th>NOSTEP</th>\n",
       "      <th>...</th>\n",
       "      <th>COST12RELFMRCAT</th>\n",
       "      <th>COSTMEDRELAMIPCT</th>\n",
       "      <th>COSTMEDRELAMICAT</th>\n",
       "      <th>COSTMEDRELPOVPCT</th>\n",
       "      <th>COSTMEDRELPOVCAT</th>\n",
       "      <th>COSTMEDRELFMRPCT</th>\n",
       "      <th>COSTMEDRELFMRCAT</th>\n",
       "      <th>AFFORDABLE</th>\n",
       "      <th>CITY</th>\n",
       "      <th>TRUST</th>\n",
       "    </tr>\n",
       "  </thead>\n",
       "  <tbody>\n",
       "    <tr>\n",
       "      <th>27407</th>\n",
       "      <td>402502130133</td>\n",
       "      <td>99</td>\n",
       "      <td>2160</td>\n",
       "      <td>1</td>\n",
       "      <td>-6</td>\n",
       "      <td>-6</td>\n",
       "      <td>-6</td>\n",
       "      <td>1</td>\n",
       "      <td>1</td>\n",
       "      <td>2</td>\n",
       "      <td>...</td>\n",
       "      <td>3</td>\n",
       "      <td>747.812813</td>\n",
       "      <td>7</td>\n",
       "      <td>2246.872799</td>\n",
       "      <td>4</td>\n",
       "      <td>1232.833028</td>\n",
       "      <td>3</td>\n",
       "      <td>0.0</td>\n",
       "      <td>Detroit</td>\n",
       "      <td>-6</td>\n",
       "    </tr>\n",
       "    <tr>\n",
       "      <th>28325</th>\n",
       "      <td>469258580141</td>\n",
       "      <td>99</td>\n",
       "      <td>6160</td>\n",
       "      <td>1</td>\n",
       "      <td>-6</td>\n",
       "      <td>-6</td>\n",
       "      <td>-6</td>\n",
       "      <td>2</td>\n",
       "      <td>2</td>\n",
       "      <td>2</td>\n",
       "      <td>...</td>\n",
       "      <td>2</td>\n",
       "      <td>32.855944</td>\n",
       "      <td>2</td>\n",
       "      <td>329.182896</td>\n",
       "      <td>4</td>\n",
       "      <td>50.263067</td>\n",
       "      <td>2</td>\n",
       "      <td>1.0</td>\n",
       "      <td>Philadelphia</td>\n",
       "      <td>Safe</td>\n",
       "    </tr>\n",
       "  </tbody>\n",
       "</table>\n",
       "<p>2 rows × 144 columns</p>\n",
       "</div>"
      ],
      "text/plain": [
       "            CONTROL CMSA  SMSA NUNIT2 ELEV SHARAT SHARFR GARAGE PORCH NOSTEP  \\\n",
       "27407  402502130133   99  2160      1   -6     -6     -6      1     1      2   \n",
       "28325  469258580141   99  6160      1   -6     -6     -6      2     2      2   \n",
       "\n",
       "       ...    COST12RELFMRCAT  COSTMEDRELAMIPCT  COSTMEDRELAMICAT  \\\n",
       "27407  ...                  3        747.812813                 7   \n",
       "28325  ...                  2         32.855944                 2   \n",
       "\n",
       "      COSTMEDRELPOVPCT COSTMEDRELPOVCAT COSTMEDRELFMRPCT  COSTMEDRELFMRCAT  \\\n",
       "27407      2246.872799                4      1232.833028                 3   \n",
       "28325       329.182896                4        50.263067                 2   \n",
       "\n",
       "      AFFORDABLE          CITY  TRUST  \n",
       "27407        0.0       Detroit     -6  \n",
       "28325        1.0  Philadelphia   Safe  \n",
       "\n",
       "[2 rows x 144 columns]"
      ]
     },
     "execution_count": 46,
     "metadata": {},
     "output_type": "execute_result"
    }
   ],
   "source": [
    "dl[dl.BATHS==6]"
   ]
  }
 ],
 "metadata": {
  "kernelspec": {
   "display_name": "Python 2",
   "language": "python",
   "name": "python2"
  },
  "language_info": {
   "codemirror_mode": {
    "name": "ipython",
    "version": 2
   },
   "file_extension": ".py",
   "mimetype": "text/x-python",
   "name": "python",
   "nbconvert_exporter": "python",
   "pygments_lexer": "ipython2",
   "version": "2.7.13"
  }
 },
 "nbformat": 4,
 "nbformat_minor": 2
}
