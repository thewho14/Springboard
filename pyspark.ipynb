{
 "cells": [
  {
   "cell_type": "markdown",
   "metadata": {},
   "source": [
    "# MapReduce using SPARK"
   ]
  },
  {
   "cell_type": "code",
   "execution_count": 1,
   "metadata": {},
   "outputs": [
    {
     "name": "stdout",
     "output_type": "stream",
     "text": [
      "Populating the interactive namespace from numpy and matplotlib\n"
     ]
    }
   ],
   "source": [
    "%pylab inline\n",
    "import pandas as pd\n",
    "import seaborn as sns\n",
    "pd.set_option('display.width', 500)\n",
    "pd.set_option('display.max_columns', 100)"
   ]
  },
  {
   "cell_type": "markdown",
   "metadata": {},
   "source": [
    "# Table of Contents\n",
    "\n",
    "* [SPARK](#SPARK)\n",
    "    * Installing Spark locally\n",
    "* [Spark Context](#Spark-Context)\n",
    "    * [Create A RDD](#Create-A-RDD)\n",
    "    * [Call `collect` on an RDD: Lazy Spark](#Call-collect-on-an-RDD:-Lazy-Spark)\n",
    "    * [Operations on RDDs](#Operations-on-RDDs)\n",
    "    * [Word Examples](#Word-Examples)\n",
    "    * [Key Value Pairs](#Key-Value-Pairs)\n",
    "    * [word count 1](#word-count-1)\n",
    "    * [word count 2:  `reduceByKey()`](#word-count-2:--reduceByKey%28%29)\n",
    "    * [Nested Syntax](#Nested-Syntax)\n",
    "    * [Using Cache](#Using-Cache)\n",
    "    * [Fun with words](#Fun-with-words)\n",
    "    * [DataFrames](#DataFrames)\n",
    "    * [Machine Learning](#Machine-Learning)\n"
   ]
  },
  {
   "cell_type": "markdown",
   "metadata": {
    "slideshow": {
     "slide_type": "slide"
    }
   },
   "source": [
    "With shameless stealing of some code and text from:\n",
    "\n",
    "- https://github.com/tdhopper/rta-pyspark-presentation/blob/master/slides.ipynb\n",
    "- Databricks and Berkeley Spark MOOC: https://www.edx.org/course/introduction-big-data-apache-spark-uc-berkeleyx-cs100-1x\n",
    "\n",
    "which you should go check out."
   ]
  },
  {
   "cell_type": "markdown",
   "metadata": {},
   "source": [
    "## Installing Spark locally\n",
    "\n",
    "\n",
    "**Step 1: Install Apache Spark**\n",
    "\n",
    "For example, for Mac users using Homebrew:\n",
    "\n",
    "```\n",
    "$ brew install apache-spark\n",
    "```"
   ]
  },
  {
   "cell_type": "markdown",
   "metadata": {},
   "source": [
    "**Step 2: Install the Java SDK version 1.8 or above for your platform (not just the JRE runtime)**\n",
    "\n",
    "Make sure you can access commands such as `java` on your command line."
   ]
  },
  {
   "cell_type": "markdown",
   "metadata": {},
   "source": [
    "**Step 3: Install the latest findspark package using pip**\n",
    "\n",
    "```\n",
    "➜  ~  pip install findspark\n",
    "Collecting findspark\n",
    "  Downloading findspark-0.0.5-py2.py3-none-any.whl\n",
    "Installing collected packages: findspark\n",
    "Successfully installed findspark-0.0.5\n",
    "```"
   ]
  },
  {
   "cell_type": "markdown",
   "metadata": {
    "slideshow": {
     "slide_type": "slide"
    }
   },
   "source": [
    "# Spark Context\n",
    "\n",
    "You can also use it directly from the notebook interface on the mac if you installed `apache-spark` using `brew` and also installed `findspark` above."
   ]
  },
  {
   "cell_type": "code",
   "execution_count": 1,
   "metadata": {
    "collapsed": true
   },
   "outputs": [],
   "source": [
    "import findspark\n",
    "findspark.init('C:\\opt\\spark\\spark-2.2.1-bin-hadoop2.7')\n",
    "import pyspark\n",
    "sc = pyspark.SparkContext()"
   ]
  },
  {
   "cell_type": "markdown",
   "metadata": {},
   "source": [
    "It also output's a bunch of stuff on my terminal. This is because the entire java context is started up.\n",
    "\n",
    "```Using Spark's default log4j profile: org/apache/spark/log4j-defaults.properties\n",
    "15/10/21 14:46:15 INFO SparkContext: Running Spark version 1.4.0\n",
    "2015-10-21 14:46:15.774 java[30685:c003] Unable to load realm info from SCDynamicStore\n",
    "15/10/21 14:46:15 WARN NativeCodeLoader: Unable to load native-hadoop library for your platform... using builtin-java classes where applicable\n",
    "15/10/21 14:46:15 INFO SecurityManager: Changing view acls to: rahul\n",
    "15/10/21 14:46:15 INFO SecurityManager: Changing modify acls to: rahul\n",
    "15/10/21 14:46:15 INFO SecurityManager: SecurityManager: authentication disabled; ui acls disabled; users with view permissions: Set(rahul); users with modify permissions: Set(rahul)\n",
    "15/10/21 14:46:16 INFO Slf4jLogger: Slf4jLogger started\n",
    "15/10/21 14:46:16 INFO Remoting: Starting remoting\n",
    "15/10/21 14:46:16 INFO Remoting: Remoting started; listening on addresses :[akka.tcp://sparkDriver@10.251.101.163:64359]\n",
    "15/10/21 14:46:16 INFO Utils: Successfully started service 'sparkDriver' on port 64359.\n",
    "15/10/21 14:46:16 INFO SparkEnv: Registering MapOutputTracker\n",
    "15/10/21 14:46:16 INFO SparkEnv: Registering BlockManagerMaster\n",
    "15/10/21 14:46:16 INFO DiskBlockManager: Created local directory at /private/var/folders/_f/y76rs29s3c57ykwyz9c8z12c0000gn/T/spark-00a4e09e-e5db-485f-81dc-2e5016e9a27e/blockmgr-8966e07c-223b-4c38-9273-11543aa9d3c1\n",
    "15/10/21 14:46:16 INFO MemoryStore: MemoryStore started with capacity 273.0 MB\n",
    "15/10/21 14:46:16 INFO HttpFileServer: HTTP File server directory is /private/var/folders/_f/y76rs29s3c57ykwyz9c8z12c0000gn/T/spark-00a4e09e-e5db-485f-81dc-2e5016e9a27e/httpd-6af0a9e0-1cfe-42c4-a1bd-e01715b98436\n",
    "15/10/21 14:46:16 INFO HttpServer: Starting HTTP Server\n",
    "15/10/21 14:46:17 INFO Utils: Successfully started service 'HTTP file server' on port 64360.\n",
    "15/10/21 14:46:17 INFO SparkEnv: Registering OutputCommitCoordinator\n",
    "15/10/21 14:46:18 INFO Utils: Successfully started service 'SparkUI' on port 4040.\n",
    "15/10/21 14:46:18 INFO SparkUI: Started SparkUI at http://10.251.101.163:4040\n",
    "15/10/21 14:46:18 INFO Executor: Starting executor ID driver on host localhost\n",
    "15/10/21 14:46:18 INFO Utils: Successfully started service 'org.apache.spark.network.netty.NettyBlockTransferService' on port 64361.\n",
    "15/10/21 14:46:18 INFO NettyBlockTransferService: Server created on 64361\n",
    "15/10/21 14:46:18 INFO BlockManagerMaster: Trying to register BlockManager\n",
    "15/10/21 14:46:18 INFO BlockManagerMasterEndpoint: Registering block manager localhost:64361 with 273.0 MB RAM, BlockManagerId(driver, localhost, 64361)\n",
    "15/10/21 14:46:18 INFO BlockManagerMaster: Registered BlockManager\n",
    "```"
   ]
  },
  {
   "cell_type": "code",
   "execution_count": 2,
   "metadata": {},
   "outputs": [
    {
     "data": {
      "text/html": [
       "\n",
       "        <div>\n",
       "            <p><b>SparkContext</b></p>\n",
       "\n",
       "            <p><a href=\"http://10.0.0.132:4040\">Spark UI</a></p>\n",
       "\n",
       "            <dl>\n",
       "              <dt>Version</dt>\n",
       "                <dd><code>v2.2.1</code></dd>\n",
       "              <dt>Master</dt>\n",
       "                <dd><code>local[*]</code></dd>\n",
       "              <dt>AppName</dt>\n",
       "                <dd><code>pyspark-shell</code></dd>\n",
       "            </dl>\n",
       "        </div>\n",
       "        "
      ],
      "text/plain": [
       "<SparkContext master=local[*] appName=pyspark-shell>"
      ]
     },
     "execution_count": 2,
     "metadata": {},
     "output_type": "execute_result"
    }
   ],
   "source": [
    "sc"
   ]
  },
  {
   "cell_type": "code",
   "execution_count": 3,
   "metadata": {},
   "outputs": [
    {
     "data": {
      "text/plain": [
       "385"
      ]
     },
     "execution_count": 3,
     "metadata": {},
     "output_type": "execute_result"
    }
   ],
   "source": [
    "sc.parallelize([1, 2, 3, 4, 5, 6, 7, 8, 9, 10]).map(lambda x: x**2).sum()"
   ]
  },
  {
   "cell_type": "markdown",
   "metadata": {
    "slideshow": {
     "slide_type": "slide"
    }
   },
   "source": [
    "### Create A RDD\n"
   ]
  },
  {
   "cell_type": "code",
   "execution_count": 4,
   "metadata": {},
   "outputs": [
    {
     "name": "stdout",
     "output_type": "stream",
     "text": [
      "<class 'pyspark.rdd.RDD'>\n"
     ]
    }
   ],
   "source": [
    "wordsList = ['cat', 'elephant', 'rat', 'rat', 'cat']\n",
    "wordsRDD = sc.parallelize(wordsList, 4)\n",
    "# Print out the type of wordsRDD\n",
    "print type(wordsRDD)"
   ]
  },
  {
   "cell_type": "markdown",
   "metadata": {
    "slideshow": {
     "slide_type": "slide"
    }
   },
   "source": [
    "### Call `collect` on an RDD: Lazy Spark"
   ]
  },
  {
   "cell_type": "markdown",
   "metadata": {},
   "source": [
    "Spark is lazy. Until you `collect`, nothing is actually run.\n",
    "\n",
    ">Instead, they just remember the transformations applied to some base dataset (e.g. a file). The transformations are only computed when an action requires a result to be returned to the driver program."
   ]
  },
  {
   "cell_type": "code",
   "execution_count": 5,
   "metadata": {},
   "outputs": [
    {
     "data": {
      "text/plain": [
       "['cat', 'elephant', 'rat', 'rat', 'cat']"
      ]
     },
     "execution_count": 5,
     "metadata": {},
     "output_type": "execute_result"
    }
   ],
   "source": [
    "wordsRDD.collect()"
   ]
  },
  {
   "cell_type": "markdown",
   "metadata": {},
   "source": [
    "```\n",
    "15/10/21 14:59:59 INFO SparkContext: Starting job: collect at <ipython-input-6-dee494da0714>:1\n",
    "15/10/21 14:59:59 INFO DAGScheduler: Got job 0 (collect at <ipython-input-6-dee494da0714>:1) with 4 output partitions (allowLocal=false)\n",
    "15/10/21 14:59:59 INFO DAGScheduler: Final stage: ResultStage 0(collect at <ipython-input-6-dee494da0714>:1)\n",
    "15/10/21 14:59:59 INFO DAGScheduler: Parents of final stage: List()\n",
    "15/10/21 14:59:59 INFO DAGScheduler: Missing parents: List()\n",
    "15/10/21 14:59:59 INFO DAGScheduler: Submitting ResultStage 0 (ParallelCollectionRDD[0] at parallelize at PythonRDD.scala:396), which has no missing parents\n",
    "15/10/21 15:00:00 INFO MemoryStore: ensureFreeSpace(1224) called with curMem=0, maxMem=286300569\n",
    "15/10/21 15:00:00 INFO MemoryStore: Block broadcast_0 stored as values in memory (estimated size 1224.0 B, free 273.0 MB)\n",
    "15/10/21 15:00:00 INFO MemoryStore: ensureFreeSpace(777) called with curMem=1224, maxMem=286300569\n",
    "15/10/21 15:00:00 INFO MemoryStore: Block broadcast_0_piece0 stored as bytes in memory (estimated size 777.0 B, free 273.0 MB)\n",
    "15/10/21 15:00:00 INFO BlockManagerInfo: Added broadcast_0_piece0 in memory on localhost:64361 (size: 777.0 B, free: 273.0 MB)\n",
    "15/10/21 15:00:00 INFO SparkContext: Created broadcast 0 from broadcast at DAGScheduler.scala:874\n",
    "15/10/21 15:00:00 INFO DAGScheduler: Submitting 4 missing tasks from ResultStage 0 (ParallelCollectionRDD[0] at parallelize at PythonRDD.scala:396)\n",
    "15/10/21 15:00:00 INFO TaskSchedulerImpl: Adding task set 0.0 with 4 tasks\n",
    "15/10/21 15:00:00 INFO TaskSetManager: Starting task 0.0 in stage 0.0 (TID 0, localhost, PROCESS_LOCAL, 1379 bytes)\n",
    "15/10/21 15:00:00 INFO TaskSetManager: Starting task 1.0 in stage 0.0 (TID 1, localhost, PROCESS_LOCAL, 1384 bytes)\n",
    "15/10/21 15:00:00 INFO TaskSetManager: Starting task 2.0 in stage 0.0 (TID 2, localhost, PROCESS_LOCAL, 1379 bytes)\n",
    "15/10/21 15:00:00 INFO TaskSetManager: Starting task 3.0 in stage 0.0 (TID 3, localhost, PROCESS_LOCAL, 1403 bytes)\n",
    "15/10/21 15:00:00 INFO Executor: Running task 0.0 in stage 0.0 (TID 0)\n",
    "15/10/21 15:00:00 INFO Executor: Running task 2.0 in stage 0.0 (TID 2)\n",
    "15/10/21 15:00:00 INFO Executor: Running task 1.0 in stage 0.0 (TID 1)\n",
    "15/10/21 15:00:00 INFO Executor: Running task 3.0 in stage 0.0 (TID 3)\n",
    "15/10/21 15:00:00 INFO Executor: Finished task 1.0 in stage 0.0 (TID 1). 646 bytes result sent to driver\n",
    "15/10/21 15:00:00 INFO Executor: Finished task 3.0 in stage 0.0 (TID 3). 665 bytes result sent to driver\n",
    "15/10/21 15:00:00 INFO Executor: Finished task 0.0 in stage 0.0 (TID 0). 641 bytes result sent to driver\n",
    "15/10/21 15:00:00 INFO Executor: Finished task 2.0 in stage 0.0 (TID 2). 641 bytes result sent to driver\n",
    "15/10/21 15:00:00 INFO TaskSetManager: Finished task 1.0 in stage 0.0 (TID 1) in 61 ms on localhost (1/4)\n",
    "15/10/21 15:00:00 INFO TaskSetManager: Finished task 3.0 in stage 0.0 (TID 3) in 60 ms on localhost (2/4)\n",
    "15/10/21 15:00:00 INFO TaskSetManager: Finished task 0.0 in stage 0.0 (TID 0) in 96 ms on localhost (3/4)\n",
    "15/10/21 15:00:00 INFO TaskSetManager: Finished task 2.0 in stage 0.0 (TID 2) in 63 ms on localhost (4/4)\n",
    "15/10/21 15:00:00 INFO DAGScheduler: ResultStage 0 (collect at <ipython-input-6-dee494da0714>:1) finished in 0.120 s\n",
    "15/10/21 15:00:00 INFO TaskSchedulerImpl: Removed TaskSet 0.0, whose tasks have all completed, from pool\n",
    "15/10/21 15:00:00 INFO DAGScheduler: Job 0 finished: collect at <ipython-input-6-dee494da0714>:1, took 0.872367 s\n",
    "```"
   ]
  },
  {
   "cell_type": "markdown",
   "metadata": {},
   "source": [
    "### Operations on RDDs"
   ]
  },
  {
   "cell_type": "markdown",
   "metadata": {},
   "source": [
    "From the Spark Programming Guide:\n",
    "\n",
    ">RDDs support two types of operations: transformations, which create a new dataset from an existing one, and actions, which return a value to the driver program after running a computation on the dataset. For example, map is a transformation that passes each dataset element through a function and returns a new RDD representing the results. On the other hand, reduce is an action that aggregates all the elements of the RDD using some function and returns the final result to the driver program (although there is also a parallel reduceByKey that returns a distributed dataset)."
   ]
  },
  {
   "cell_type": "markdown",
   "metadata": {},
   "source": [
    "### Word Examples"
   ]
  },
  {
   "cell_type": "code",
   "execution_count": 6,
   "metadata": {},
   "outputs": [
    {
     "name": "stdout",
     "output_type": "stream",
     "text": [
      "cats\n"
     ]
    }
   ],
   "source": [
    "def makePlural(word):\n",
    "    return word + 's'\n",
    "\n",
    "print makePlural('cat')"
   ]
  },
  {
   "cell_type": "markdown",
   "metadata": {},
   "source": [
    "Transform one RDD into another."
   ]
  },
  {
   "cell_type": "code",
   "execution_count": 7,
   "metadata": {},
   "outputs": [
    {
     "name": "stdout",
     "output_type": "stream",
     "text": [
      "cats\n",
      "['cats', 'elephants']\n"
     ]
    }
   ],
   "source": [
    "pluralRDD = wordsRDD.map(makePlural)\n",
    "print pluralRDD.first()\n",
    "print pluralRDD.take(2)\n"
   ]
  },
  {
   "cell_type": "code",
   "execution_count": 8,
   "metadata": {},
   "outputs": [
    {
     "data": {
      "text/plain": [
       "['cats']"
      ]
     },
     "execution_count": 8,
     "metadata": {},
     "output_type": "execute_result"
    }
   ],
   "source": [
    "pluralRDD.take(1)"
   ]
  },
  {
   "cell_type": "code",
   "execution_count": 9,
   "metadata": {},
   "outputs": [
    {
     "data": {
      "text/plain": [
       "['cats', 'elephants', 'rats', 'rats', 'cats']"
      ]
     },
     "execution_count": 9,
     "metadata": {},
     "output_type": "execute_result"
    }
   ],
   "source": [
    "pluralRDD.collect()"
   ]
  },
  {
   "cell_type": "markdown",
   "metadata": {
    "slideshow": {
     "slide_type": "slide"
    }
   },
   "source": [
    "### Key Value Pairs"
   ]
  },
  {
   "cell_type": "code",
   "execution_count": 10,
   "metadata": {},
   "outputs": [
    {
     "name": "stdout",
     "output_type": "stream",
     "text": [
      "[('cat', 1), ('elephant', 1), ('rat', 1), ('rat', 1), ('cat', 1)]\n"
     ]
    }
   ],
   "source": [
    "wordPairs = wordsRDD.map(lambda w: (w, 1))\n",
    "print wordPairs.collect()"
   ]
  },
  {
   "cell_type": "markdown",
   "metadata": {},
   "source": [
    "```\n",
    "➜  sparklect  ps auxwww | grep pyspark\n",
    "rahul           30685   0.4  0.8  3458120  68712 s012  S+    2:46PM   2:00.21 /System/Library/Java/JavaVirtualMachines/1.6.0.jdk/Contents/Home/bin/java -cp /usr/local/opt/apache-spark/libexec/conf/:/usr/local/opt/apache-spark/libexec/lib/spark-assembly-1.4.0-hadoop2.6.0.jar:/usr/local/opt/apache-spark/libexec/lib/datanucleus-api-jdo-3.2.6.jar:/usr/local/opt/apache-spark/libexec/lib/datanucleus-core-3.2.10.jar:/usr/local/opt/apache-spark/libexec/lib/datanucleus-rdbms-3.2.9.jar -Xms512m -Xmx512m -XX:MaxPermSize=128m org.apache.spark.deploy.SparkSubmit pyspark-shell\n",
    "rahul           31520   0.0  0.0  2432784    480 s011  R+    6:42PM   0:00.00 grep --color=auto --exclude-dir=.bzr --exclude-dir=.cvs --exclude-dir=.git --exclude-dir=.hg --exclude-dir=.svn pyspark\n",
    "rahul           31494   0.0  0.7  2548972  57288 s012  S     6:41PM   0:00.10 python -m pyspark.daemon\n",
    "rahul           31493   0.0  0.7  2548972  57308 s012  S     6:41PM   0:00.10 python -m pyspark.daemon\n",
    "rahul           31492   0.0  0.7  2548972  57288 s012  S     6:41PM   0:00.11 python -m pyspark.daemon\n",
    "rahul           31446   0.0  0.8  2548972  68460 s012  S     6:35PM   0:01.34 python -m pyspark.daemon\n",
    "```"
   ]
  },
  {
   "cell_type": "markdown",
   "metadata": {
    "slideshow": {
     "slide_type": "slide"
    }
   },
   "source": [
    "### WORD COUNT!\n",
    "\n",
    "This little exercise shows how to use mapreduce to calculate the counts of individual words in a list."
   ]
  },
  {
   "cell_type": "code",
   "execution_count": 11,
   "metadata": {},
   "outputs": [
    {
     "name": "stdout",
     "output_type": "stream",
     "text": [
      "[('rat', 2), ('elephant', 1), ('cat', 2)]\n"
     ]
    }
   ],
   "source": [
    "wordsList = ['cat', 'elephant', 'rat', 'rat', 'cat']\n",
    "wordsRDD = sc.parallelize(wordsList, 4)\n",
    "wordCountsCollected = (wordsRDD\n",
    "                       .map(lambda w: (w, 1))\n",
    "                       .reduceByKey(lambda x,y: x+y)\n",
    "                       .collect())\n",
    "print wordCountsCollected"
   ]
  },
  {
   "cell_type": "markdown",
   "metadata": {
    "slideshow": {
     "slide_type": "slide"
    }
   },
   "source": [
    "![Tons of shuffling](https://databricks.gitbooks.io/databricks-spark-knowledge-base/content/images/reduce_by.png)"
   ]
  },
  {
   "cell_type": "code",
   "execution_count": 12,
   "metadata": {},
   "outputs": [
    {
     "name": "stdout",
     "output_type": "stream",
     "text": [
      "(4) PythonRDD[19] at RDD at PythonRDD.scala:48 []\n",
      " |  MapPartitionsRDD[18] at mapPartitions at PythonRDD.scala:436 []\n",
      " |  ShuffledRDD[17] at partitionBy at <unknown>:0 []\n",
      " +-(4) PairwiseRDD[16] at reduceByKey at <ipython-input-12-c1214cba7909>:3 []\n",
      "    |  PythonRDD[15] at reduceByKey at <ipython-input-12-c1214cba7909>:3 []\n",
      "    |  ParallelCollectionRDD[9] at parallelize at PythonRDD.scala:489 []\n"
     ]
    }
   ],
   "source": [
    "print (wordsRDD\n",
    "    .map(lambda w: (w, 1))\n",
    "    .reduceByKey(lambda x,y: x+y)).toDebugString()"
   ]
  },
  {
   "cell_type": "markdown",
   "metadata": {
    "slideshow": {
     "slide_type": "slide"
    }
   },
   "source": [
    "### Using Cache"
   ]
  },
  {
   "cell_type": "code",
   "execution_count": 13,
   "metadata": {},
   "outputs": [
    {
     "name": "stdout",
     "output_type": "stream",
     "text": [
      "ParallelCollectionRDD[20] at parallelize at PythonRDD.scala:489\n"
     ]
    },
    {
     "data": {
      "text/plain": [
       "5"
      ]
     },
     "execution_count": 13,
     "metadata": {},
     "output_type": "execute_result"
    }
   ],
   "source": [
    "wordsList = ['cat', 'elephant', 'rat', 'rat', 'cat']\n",
    "wordsRDD = sc.parallelize(wordsList, 4)\n",
    "print wordsRDD\n",
    "wordsRDD.count()"
   ]
  },
  {
   "cell_type": "markdown",
   "metadata": {},
   "source": [
    "Normally, every operation is run from the start. This may be inefficient in many cases. So when appropriate, we may want to cache the result the first time an operation is run on an RDD."
   ]
  },
  {
   "cell_type": "code",
   "execution_count": 14,
   "metadata": {},
   "outputs": [
    {
     "data": {
      "text/plain": [
       "5"
      ]
     },
     "execution_count": 14,
     "metadata": {},
     "output_type": "execute_result"
    }
   ],
   "source": [
    "#this is rerun from the start\n",
    "wordsRDD.count()"
   ]
  },
  {
   "cell_type": "code",
   "execution_count": 15,
   "metadata": {},
   "outputs": [
    {
     "data": {
      "text/plain": [
       "ParallelCollectionRDD[20] at parallelize at PythonRDD.scala:489"
      ]
     },
     "execution_count": 15,
     "metadata": {},
     "output_type": "execute_result"
    }
   ],
   "source": [
    "#default storage level (MEMORY_ONLY)\n",
    "wordsRDD.cache()#nothing done this is still lazy"
   ]
  },
  {
   "cell_type": "code",
   "execution_count": 16,
   "metadata": {},
   "outputs": [
    {
     "data": {
      "text/plain": [
       "5"
      ]
     },
     "execution_count": 16,
     "metadata": {},
     "output_type": "execute_result"
    }
   ],
   "source": [
    "#parallelize is rerun and cached because we told it to cache\n",
    "wordsRDD.count()"
   ]
  },
  {
   "cell_type": "code",
   "execution_count": 17,
   "metadata": {},
   "outputs": [
    {
     "data": {
      "text/plain": [
       "5"
      ]
     },
     "execution_count": 17,
     "metadata": {},
     "output_type": "execute_result"
    }
   ],
   "source": [
    "#this `sc.parallelize` is not rerun in this case\n",
    "wordsRDD.count()"
   ]
  },
  {
   "cell_type": "markdown",
   "metadata": {},
   "source": [
    "Where is this useful: it is when you have branching parts or loops, so that you dont do things again and again. Spark, being \"lazy\" will rerun the chain again. So `cache` or `persist` serves as a checkpoint, breaking the RDD chain or the *lineage*."
   ]
  },
  {
   "cell_type": "code",
   "execution_count": 18,
   "metadata": {},
   "outputs": [
    {
     "data": {
      "text/plain": [
       "{'cat': 'mammal',\n",
       " 'elephant': 'mammal',\n",
       " 'heron': 'bird',\n",
       " 'owl': 'bird',\n",
       " 'rat': 'mammal'}"
      ]
     },
     "execution_count": 18,
     "metadata": {},
     "output_type": "execute_result"
    }
   ],
   "source": [
    "birdsList=['heron','owl']\n",
    "animList=wordsList+birdsList\n",
    "animaldict={}\n",
    "for e in wordsList:\n",
    "    animaldict[e]='mammal'\n",
    "for e in birdsList:\n",
    "    animaldict[e]='bird'\n",
    "animaldict"
   ]
  },
  {
   "cell_type": "code",
   "execution_count": 19,
   "metadata": {},
   "outputs": [
    {
     "name": "stdout",
     "output_type": "stream",
     "text": [
      "5 2\n"
     ]
    }
   ],
   "source": [
    "animsrdd = sc.parallelize(animList, 4)\n",
    "animsrdd.cache()\n",
    "#below runs the whole chain but causes cache to be populated\n",
    "mammalcount=animsrdd.filter(lambda w: animaldict[w]=='mammal').count()\n",
    "#now only the filter is carried out\n",
    "birdcount=animsrdd.filter(lambda w: animaldict[w]=='bird').count()\n",
    "print mammalcount, birdcount"
   ]
  },
  {
   "cell_type": "code",
   "execution_count": null,
   "metadata": {
    "collapsed": true
   },
   "outputs": [],
   "source": []
  },
  {
   "cell_type": "markdown",
   "metadata": {},
   "source": [
    "### Exercises: Fun with MapReduce\n",
    "\n",
    "Read http://spark.apache.org/docs/latest/programming-guide.html for some useful background and then try out the following exercises"
   ]
  },
  {
   "cell_type": "markdown",
   "metadata": {},
   "source": [
    "The file `./sparklect/english.stop.txt` contains a list of English stopwords, while the file `./sparklect/shakes/juliuscaesar.txt` contains the entire text of Shakespeare's 'Julius Caesar'.\n",
    "\n",
    "* Load all of the stopwords into a Python list\n",
    "* Load the text of Julius Caesar into an RDD using the `sparkcontext.textfile()` method. Call it `juliusrdd`."
   ]
  },
  {
   "cell_type": "code",
   "execution_count": 27,
   "metadata": {
    "collapsed": true
   },
   "outputs": [],
   "source": [
    "# your turn\n",
    "JuliusRDD = sc.textFile(\"./sparklect/shakes/juliuscaesar.txt\")\n",
    "stopwords = list(open(\"./sparklect/english.stop.txt\",'r'))"
   ]
  },
  {
   "cell_type": "code",
   "execution_count": 68,
   "metadata": {
    "scrolled": true
   },
   "outputs": [],
   "source": [
    "stopwords = [x.strip('\\n').lower() for x in stopwords]"
   ]
  },
  {
   "cell_type": "markdown",
   "metadata": {},
   "source": [
    "How many words does Julius Caesar have? *Hint: use `flatMap()`*."
   ]
  },
  {
   "cell_type": "code",
   "execution_count": 108,
   "metadata": {
    "scrolled": true
   },
   "outputs": [
    {
     "name": "stdout",
     "output_type": "stream",
     "text": [
      "[u'1599', u'the', u'tragedy', u'of', u'julius', u'caesar', u'by', u'william', u'shakespeare', u'dramatis', u'personae', u'julius', u'caesar', u'roman', u'statesman', u'and', u'general', u'octavius', u'triumvir', u'after', u\"caesar's\", u'death', u'later', u'augustus', u'caesar', u'first', u'emperor', u'of', u'rome', u'mark', u'antony', u'general', u'and', u'friend', u'of', u'caesar', u'a', u'triumvir', u'after', u'his', u'death', u'lepidus', u'third', u'member', u'of', u'the', u'triumvirate', u'marcus', u'brutus', u'leader', u'of', u'the', u'conspiracy', u'against', u'caesar', u'cassius', u'instigator', u'of', u'the', u'conspiracy', u'casca', u'conspirator', u'against', u'caesar', u'trebonius', u'', u'', u'', u'caius', u'ligarius', u'', u'', u'', u'decius', u'brutus', u'', u'', u'', u'metellus', u'cimber', u'', u'', u'', u'cinna', u'', u'', u'', u'calpurnia', u'wife', u'of', u'caesar', u'portia', u'wife', u'of', u'brutus', u'cicero', u'senator', u'popilius', u'', u'popilius', u'lena', u'', u'flavius', u'tribune', u'marullus', u'tribune', u'cato', u'supportor', u'of', u'brutus', u'lucilius', u'', u'', u'', u'titinius', u'', u'', u'', u'messala', u'', u'', u'', u'volumnius', u'', u'', u'', u'artemidorus', u'a', u'teacher', u'of', u'rhetoric', u'cinna', u'a', u'poet', u'varro', u'servant', u'to', u'brutus', u'clitus', u'', u'', u'', u'claudio', u'', u'', u'', u'strato', u'', u'', u'', u'lucius', u'', u'', u'', u'dardanius', u'', u'', u'', u'pindarus', u'servant', u'to', u'cassius', u'the', u'ghost', u'of', u'caesar', u'a', u'soothsayer', u'a', u'poet', u'senators', u'citizens', u'soldiers', u'commoners', u'messengers', u'and', u'servants', u'<<this', u'electronic', u'version', u'of', u'the', u'complete', u'works', u'of', u'william', u'shakespeare', u'is', u'copyright', u'1990-1993', u'by', u'world', u'library', u'inc', u'and', u'is', u'provided', u'by', u'project', u'gutenberg', u'etext', u'of', u'carnegie', u'mellon', u'university', u'with', u'permission', u'electronic', u'and', u'machine', u'readable', u'copies', u'may', u'be', u'distributed', u'so', u'long', u'as', u'such', u'copies', u'1', u'are', u'for', u'your', u'or', u'others', u'personal', u'use', u'only', u'and', u'2', u'are', u'not', u'distributed', u'or', u'used', u'commercially', u'prohibited', u'commercial', u'distribution', u'includes', u'by', u'any', u'service', u'that', u'charges', u'for', u'download', u'time', u'or', u'for', u'membership.>>', u'scene:', u'rome', u'the', u'conspirators', u'camp', u'near', u'sardis', u'and', u'the', u'plains', u'of', u'philippi', u'act', u'i', u'scene', u'i', u'rome', u'a', u'street', u'enter', u'flavius', u'marullus', u'and', u'certain', u'commoners', u'flavius', u'hence', u'home', u'you', u'idle', u'creatures', u'get', u'you', u'home', u'is', u'this', u'a', u'holiday', u'what', u'know', u'you', u'not', u'being', u'mechanical', u'you', u'ought', u'not', u'walk', u'upon', u'a', u'laboring', u'day', u'without', u'the', u'sign', u'of', u'your', u'profession', u'speak', u'what', u'trade', u'art', u'thou', u'first', u'commoner', u'why', u'sir', u'a', u'carpenter', u'marullus', u'where', u'is', u'thy', u'leather', u'apron', u'and', u'thy', u'rule', u'what', u'dost', u'thou', u'with', u'thy', u'best', u'apparel', u'on', u'you', u'sir', u'what', u'trade', u'are', u'you', u'second', u'commoner', u'truly', u'sir', u'in', u'respect', u'of', u'a', u'fine', u'workman', u'i', u'am', u'but', u'as', u'you', u'would', u'say', u'a', u'cobbler', u'marullus', u'but', u'what', u'trade', u'art', u'thou', u'answer', u'me', u'directly', u'second', u'commoner', u'a', u'trade', u'sir', u'that', u'i', u'hope', u'i', u'may', u'use', u'with', u'a', u'safe', u'conscience', u'which', u'is', u'indeed', u'sir', u'a', u'mender', u'of', u'bad', u'soles', u'marullus', u'what', u'trade', u'thou', u'knave', u'thou', u'naughty', u'knave', u'what', u'trade', u'second', u'commoner', u'nay', u'i', u'beseech', u'you', u'sir', u'be', u'not', u'out', u'with', u'me;', u'yet', u'if', u'you', u'be', u'out', u'sir', u'i', u'can', u'mend', u'you', u'marullus', u'what', u\"mean'st\", u'thou', u'by', u'that', u'mend', u'me', u'thou', u'saucy', u'fellow', u'second', u'commoner', u'why', u'sir', u'cobble', u'you', u'flavius', u'thou', u'art', u'a', u'cobbler', u'art', u'thou', u'second', u'commoner', u'truly', u'sir', u'all', u'that', u'i', u'live', u'by', u'is', u'with', u'the', u'awl;', u'i', u'meddle', u'with', u'no', u\"tradesman's\", u'matters', u'nor', u\"women's\", u'matters', u'but', u'with', u'awl', u'i', u'am', u'indeed', u'sir', u'a', u'surgeon', u'to', u'old', u'shoes;', u'when', u'they', u'are', u'in', u'great', u'danger', u'i', u'recover', u'them', u'as', u'proper', u'men', u'as', u'ever', u'trod', u'upon', u\"neat's\", u'leather', u'have', u'gone', u'upon', u'my', u'handiwork', u'flavius', u'but', u'wherefore', u'art', u'not', u'in', u'thy', u'shop', u'today', u'why', u'dost', u'thou', u'lead', u'these', u'men', u'about', u'the', u'streets', u'second', u'commoner', u'truly', u'sir', u'to', u'wear', u'out', u'their', u'shoes', u'to', u'get', u'myself', u'into', u'more', u'work', u'but', u'indeed', u'sir', u'we', u'make', u'holiday', u'to', u'see', u'caesar', u'and', u'to', u'rejoice', u'in', u'his', u'triumph', u'marullus', u'wherefore', u'rejoice', u'what', u'conquest', u'brings', u'he', u'home', u'what', u'tributaries', u'follow', u'him', u'to', u'rome', u'to', u'grace', u'in', u'captive', u'bonds', u'his', u'chariot', u'wheels', u'you', u'blocks', u'you', u'stones', u'you', u'worse', u'than', u'senseless', u'things', u'o', u'you', u'hard', u'hearts', u'you', u'cruel', u'men', u'of', u'rome', u'knew', u'you', u'not', u'pompey', u'many', u'a', u'time', u'and', u'oft', u'have', u'you', u\"climb'd\", u'up', u'to', u'walls', u'and', u'battlements', u'to', u'towers', u'and', u'windows', u'yea', u'to', u'chimney', u'tops', u'your', u'infants', u'in', u'your', u'arms', u'and', u'there', u'have', u'sat', u'the', u'livelong', u'day', u'with', u'patient', u'expectation', u'to', u'see', u'great', u'pompey', u'pass', u'the', u'streets', u'of', u'rome', u'and', u'when', u'you', u'saw', u'his', u'chariot', u'but', u'appear', u'have', u'you', u'not', u'made', u'an', u'universal', u'shout', u'that', u'tiber', u'trembled', u'underneath', u'her', u'banks', u'to', u'hear', u'the', u'replication', u'of', u'your', u'sounds', u'made', u'in', u'her', u'concave', u'shores', u'and', u'do', u'you', u'now', u'put', u'on', u'your', u'best', u'attire', u'and', u'do', u'you', u'now', u'cull', u'out', u'a', u'holiday', u'and', u'do', u'you', u'now', u'strew', u'flowers', u'in', u'his', u'way', u'that', u'comes', u'in', u'triumph', u'over', u\"pompey's\", u'blood', u'be', u'gone', u'run', u'to', u'your', u'houses', u'fall', u'upon', u'your', u'knees', u'pray', u'to', u'the', u'gods', u'to', u'intermit', u'the', u'plague', u'that', u'needs', u'must', u'light', u'on', u'this', u'ingratitude', u'flavius', u'go', u'go', u'good', u'countrymen', u'and', u'for', u'this', u'fault', u'assemble', u'all', u'the', u'poor', u'men', u'of', u'your', u'sort', u'draw', u'them', u'to', u'tiber', u'banks', u'and', u'weep', u'your', u'tears', u'into', u'the', u'channel', u'till', u'the', u'lowest', u'stream', u'do', u'kiss', u'the', u'most', u'exalted', u'shores', u'of', u'all', u'exeunt', u'all', u'commoners', u'see', u'whether', u'their', u'basest', u'metal', u'be', u'not', u'moved;', u'they', u'vanish', u'tongue-tied', u'in', u'their', u'guiltiness', u'go', u'you', u'down', u'that', u'way', u'towards', u'the', u'capitol;', u'this', u'way', u'will', u'i', u'disrobe', u'the', u'images', u'if', u'you', u'do', u'find', u'them', u\"deck'd\", u'with', u'ceremonies', u'marullus', u'may', u'we', u'do', u'so', u'you', u'know', u'it', u'is', u'the', u'feast', u'of', u'lupercal', u'flavius', u'it', u'is', u'no', u'matter;', u'let', u'no', u'images', u'be', u'hung', u'with', u\"caesar's\", u'trophies', u\"i'll\", u'about', u'and', u'drive', u'away', u'the', u'vulgar', u'from', u'the', u'streets;', u'so', u'do', u'you', u'too', u'where', u'you', u'perceive', u'them', u'thick', u'these', u'growing', u'feathers', u\"pluck'd\", u'from', u\"caesar's\", u'wing', u'will', u'make', u'him', u'fly', u'an', u'ordinary', u'pitch', u'who', u'else', u'would', u'soar', u'above', u'the', u'view', u'of', u'men', u'and', u'keep', u'us', u'all', u'in', u'servile', u'fearfulness', u'exeunt', u'scene', u'ii', u'a', u'public', u'place', u'flourish', u'enter', u'caesar;', u'antony', u'for', u'the', u'course;', u'calpurnia', u'portia', u'decius', u'cicero', u'brutus', u'cassius', u'and', u'casca;', u'a', u'great', u'crowd', u'follows', u'among', u'them', u'a', u'soothsayer', u'caesar', u'calpurnia', u'casca', u'peace', u'ho', u'caesar', u'speaks', u'music', u'ceases', u'caesar', u'calpurnia', u'calpurnia', u'here', u'my', u'lord', u'caesar', u'stand', u'you', u'directly', u'in', u\"antonio's\", u'way', u'when', u'he', u'doth', u'run', u'his', u'course', u'antonio', u'antony', u'caesar', u'my', u'lord', u'caesar', u'forget', u'not', u'in', u'your', u'speed', u'antonio', u'to', u'touch', u'calpurnia', u'for', u'our', u'elders', u'say', u'the', u'barren', u'touched', u'in', u'this', u'holy', u'chase', u'shake', u'off', u'their', u'sterile', u'curse', u'antony', u'i', u'shall', u'remember', u'when', u'caesar', u'says', u'do', u'this', u'it', u'is', u\"perform'd\", u'caesar', u'set', u'on', u'and', u'leave', u'no', u'ceremony', u'out', u'flourish', u'soothsayer', u'caesar', u'caesar', u'ha', u'who', u'calls', u'casca', u'bid', u'every', u'noise', u'be', u'still', u'peace', u'yet', u'again', u'caesar', u'who', u'is', u'it', u'in', u'the', u'press', u'that', u'calls', u'on', u'me', u'i', u'hear', u'a', u'tongue', u'shriller', u'than', u'all', u'the', u'music', u'cry', u'caesar', u'speak', u'caesar', u'is', u\"turn'd\", u'to', u'hear', u'soothsayer', u'beware', u'the', u'ides', u'of', u'march', u'caesar', u'what', u'man', u'is', u'that', u'brutus', u'a', u'soothsayer', u'you', u'beware', u'the', u'ides', u'of', u'march', u'caesar', u'set', u'him', u'before', u'me', u'let', u'me', u'see', u'his', u'face', u'cassius', u'fellow', u'come', u'from', u'the', u'throng;', u'look', u'upon', u'caesar', u'caesar', u'what', u\"say'st\", u'thou', u'to', u'me', u'now', u'speak', u'once', u'again', u'soothsayer', u'beware', u'the', u'ides', u'of', u'march', u'caesar', u'he', u'is', u'a', u'dreamer;', u'let', u'us', u'leave', u'him', u'pass', u'sennet', u'exeunt', u'all', u'but', u'brutus', u'and', u'cassius', u'cassius', u'will', u'you', u'go', u'see', u'the', u'order', u'of', u'the', u'course', u'brutus', u'not', u'i', u'cassius', u'i', u'pray', u'you', u'do', u'brutus', u'i', u'am', u'not', u'gamesome;', u'i', u'do', u'lack', u'some', u'part', u'of', u'that', u'quick', u'spirit', u'that', u'is', u'in', u'antony', u'let', u'me', u'not', u'hinder', u'cassius', u'your', u'desires;', u\"i'll\", u'leave', u'you', u'cassius', u'brutus', u'i', u'do', u'observe', u'you', u'now', u'of', u'late;', u'i', u'have', u'not', u'from', u'your', u'eyes', u'that', u'gentleness', u'and', u'show', u'of', u'love', u'as', u'i', u'was', u'wont', u'to', u'have;', u'you', u'bear', u'too', u'stubborn', u'and', u'too', u'strange', u'a', u'hand', u'over', u'your', u'friend', u'that', u'loves', u'you', u'brutus', u'cassius', u'be', u'not', u'deceived;', u'if', u'i', u'have', u\"veil'd\", u'my', u'look', u'i', u'turn', u'the', u'trouble', u'of', u'my', u'countenance', u'merely', u'upon', u'myself', u'vexed', u'i', u'am', u'of', u'late', u'with', u'passions', u'of', u'some', u'difference', u'conceptions', u'only', u'proper', u'to', u'myself', u'which', u'give', u'some', u'soil', u'perhaps', u'to', u'my', u'behaviors;', u'but', u'let', u'not', u'therefore', u'my', u'good', u'friends', u'be', u'grieved-', u'among', u'which', u'number', u'cassius', u'be', u'you', u'one-', u'nor', u'construe', u'any', u'further', u'my', u'neglect', u'than', u'that', u'poor', u'brutus', u'with', u'himself', u'at', u'war', u'forgets', u'the', u'shows', u'of', u'love', u'to', u'other', u'men', u'cassius', u'then', u'brutus', u'i', u'have', u'much', u'mistook', u'your', u'passion', u'by', u'means', u'whereof', u'this', u'breast', u'of', u'mine', u'hath', u'buried', u'thoughts', u'of', u'great', u'value', u'worthy', u'cogitations', u'tell', u'me', u'good', u'brutus', u'can', u'you', u'see', u'your', u'face', u'brutus', u'no', u'cassius', u'for', u'the', u'eye', u'sees', u'not', u'itself', u'but', u'by', u'reflection', u'by', u'some', u'other', u'things', u'cassius', u'tis', u'just', u'and', u'it', u'is', u'very', u'much', u'lamented', u'brutus', u'that', u'you', u'have', u'no', u'such', u'mirrors', u'as', u'will', u'turn', u'your', u'hidden', u'worthiness', u'into', u'your', u'eye', u'that', u'you', u'might', u'see', u'your', u'shadow', u'i', u'have', u'heard', u'where', u'many', u'of', u'the', u'best', u'respect', u'in', u'rome', u'except', u'immortal', u'caesar', u'speaking', u'of', u'brutus', u'and', u'groaning', u'underneath', u'this', u\"age's\", u'yoke', u'have', u\"wish'd\", u'that', u'noble', u'brutus', u'had', u'his', u'eyes', u'brutus', u'into', u'what', u'dangers', u'would', u'you', u'lead', u'me', u'cassius', u'that', u'you', u'would', u'have', u'me', u'seek', u'into', u'myself', u'for', u'that', u'which', u'is', u'not', u'in', u'me', u'cassius', u'therefore', u'good', u'brutus', u'be', u'prepared', u'to', u'hear', u'and', u'since', u'you', u'know', u'you', u'cannot', u'see', u'yourself', u'so', u'well', u'as', u'by', u'reflection', u'i', u'your', u'glass', u'will', u'modestly', u'discover', u'to', u'yourself', u'that', u'of', u'yourself', u'which', u'you', u'yet', u'know', u'not', u'of', u'and', u'be', u'not', u'jealous', u'on', u'me', u'gentle', u'brutus;', u'were', u'i', u'a', u'common', u'laugher', u'or', u'did', u'use', u'to', u'stale', u'with', u'ordinary', u'oaths', u'my', u'love', u'to', u'every', u'new', u'protester', u'if', u'you', u'know', u'that', u'i', u'do', u'fawn', u'on', u'men', u'and', u'hug', u'them', u'hard', u'and', u'after', u'scandal', u'them', u'or', u'if', u'you', u'know', u'that', u'i', u'profess', u'myself', u'in', u'banqueting', u'to', u'all', u'the', u'rout', u'then', u'hold', u'me', u'dangerous', u'flourish', u'and', u'shout', u'brutus', u'what', u'means', u'this', u'shouting', u'i', u'do', u'fear', u'the', u'people', u'choose', u'caesar', u'for', u'their', u'king', u'cassius', u'ay', u'do', u'you', u'fear', u'it', u'then', u'must', u'i', u'think', u'you', u'would', u'not', u'have', u'it', u'so', u'brutus', u'i', u'would', u'not', u'cassius', u'yet', u'i', u'love', u'him', u'well', u'but', u'wherefore', u'do', u'you', u'hold', u'me', u'here', u'so', u'long', u'what', u'is', u'it', u'that', u'you', u'would', u'impart', u'to', u'me', u'if', u'it', u'be', u'aught', u'toward', u'the', u'general', u'good', u'set', u'honor', u'in', u'one', u'eye', u'and', u'death', u'i', u'the', u'other', u'and', u'i', u'will', u'look', u'on', u'both', u'indifferently', u'for', u'let', u'the', u'gods', u'so', u'speed', u'me', u'as', u'i', u'love', u'the', u'name', u'of', u'honor', u'more', u'than', u'i', u'fear', u'death', u'cassius', u'i', u'know', u'that', u'virtue', u'to', u'be', u'in', u'you', u'brutus', u'as', u'well', u'as', u'i', u'do', u'know', u'your', u'outward', u'favor', u'well', u'honor', u'is', u'the', u'subject', u'of', u'my', u'story', u'i', u'cannot', u'tell', u'what', u'you', u'and', u'other', u'men', u'think', u'of', u'this', u'life', u'but', u'for', u'my', u'single', u'self', u'i', u'had', u'as', u'lief', u'not', u'be', u'as', u'live', u'to', u'be', u'in', u'awe', u'of', u'such', u'a', u'thing', u'as', u'i', u'myself', u'i', u'was', u'born', u'free', u'as', u'caesar', u'so', u'were', u'you;', u'we', u'both', u'have', u'fed', u'as', u'well', u'and', u'we', u'can', u'both', u'endure', u'the', u\"winter's\", u'cold', u'as', u'well', u'as', u'he', u'for', u'once', u'upon', u'a', u'raw', u'and', u'gusty', u'day', u'the', u'troubled', u'tiber', u'chafing', u'with', u'her', u'shores', u'caesar', u'said', u'to', u'me', u'darest', u'thou', u'cassius', u'now', u'leap', u'in', u'with', u'me', u'into', u'this', u'angry', u'flood', u'and', u'swim', u'to', u'yonder', u'point', u'upon', u'the', u'word', u'accoutred', u'as', u'i', u'was', u'i', u'plunged', u'in', u'and', u'bade', u'him', u'follow', u'so', u'indeed', u'he', u'did', u'the', u'torrent', u\"roar'd\", u'and', u'we', u'did', u'buffet', u'it', u'with', u'lusty', u'sinews', u'throwing', u'it', u'aside', u'and', u'stemming', u'it', u'with', u'hearts', u'of', u'controversy', u'but', u'ere', u'we', u'could', u'arrive', u'the', u'point', u'proposed', u'caesar', u'cried', u'help', u'me', u'cassius', u'or', u'i', u'sink', u'i', u'as', u'aeneas', u'our', u'great', u'ancestor', u'did', u'from', u'the', u'flames', u'of', u'troy', u'upon', u'his', u'shoulder', u'the', u'old', u'anchises', u'bear', u'so', u'from', u'the', u'waves', u'of', u'tiber', u'did', u'i', u'the', u'tired', u'caesar', u'and', u'this', u'man', u'is', u'now', u'become', u'a', u'god', u'and', u'cassius', u'is', u'a', u'wretched', u'creature', u'and', u'must', u'bend', u'his', u'body', u'if', u'caesar', u'carelessly', u'but', u'nod', u'on', u'him', u'he', u'had', u'a', u'fever', u'when', u'he', u'was', u'in', u'spain', u'and', u'when', u'the', u'fit', u'was', u'on', u'him', u'i', u'did', u'mark', u'how', u'he', u'did', u'shake', u'tis', u'true', u'this', u'god', u'did', u'shake;', u'his', u'coward', u'lips', u'did', u'from', u'their', u'color', u'fly', u'and', u'that', u'same', u'eye', u'whose', u'bend', u'doth', u'awe', u'the', u'world', u'did', u'lose', u'his', u'luster', u'i', u'did', u'hear', u'him', u'groan', u'ay', u'and', u'that', u'tongue', u'of', u'his', u'that', u'bade', u'the', u'romans', u'mark', u'him', u'and', u'write', u'his', u'speeches', u'in', u'their', u'books', u'alas', u'it', u'cried', u'give', u'me', u'some', u'drink', u'titinius', u'as', u'a', u'sick', u'girl', u'ye', u'gods', u'it', u'doth', u'amaze', u'me', u'a', u'man', u'of', u'such', u'a', u'feeble', u'temper', u'should', u'so', u'get', u'the', u'start', u'of', u'the', u'majestic', u'world', u'and', u'bear', u'the', u'palm', u'alone', u'shout', u'flourish', u'brutus', u'another', u'general', u'shout', u'i', u'do', u'believe', u'that', u'these', u'applauses', u'are', u'for', u'some', u'new', u'honors', u'that', u'are', u\"heap'd\", u'on', u'caesar', u'cassius', u'why', u'man', u'he', u'doth', u'bestride', u'the', u'narrow', u'world', u'like', u'a', u'colossus', u'and', u'we', u'petty', u'men', u'walk', u'under', u'his', u'huge', u'legs', u'and', u'peep', u'about', u'to', u'find', u'ourselves', u'dishonorable', u'graves', u'men', u'at', u'some', u'time', u'are', u'masters', u'of', u'their', u'fates:', u'the', u'fault', u'dear', u'brutus', u'is', u'not', u'in', u'our', u'stars', u'but', u'in', u'ourselves', u'that', u'we', u'are', u'underlings', u'brutus', u'and', u'caesar:', u'what', u'should', u'be', u'in', u'that', u'caesar', u'why', u'should', u'that', u'name', u'be', u'sounded', u'more', u'than', u'yours', u'write', u'them', u'together', u'yours', u'is', u'as', u'fair', u'a', u'name;', u'sound', u'them', u'it', u'doth', u'become', u'the', u'mouth', u'as', u'well;', u'weigh', u'them', u'it', u'is', u'as', u'heavy;', u'conjure', u'with', u'em', u'brutus', u'will', u'start', u'a', u'spirit', u'as', u'soon', u'as', u'caesar', u'now', u'in', u'the', u'names', u'of', u'all', u'the', u'gods', u'at', u'once', u'upon', u'what', u'meat', u'doth', u'this', u'our', u'caesar', u'feed', u'that', u'he', u'is', u'grown', u'so', u'great', u'age', u'thou', u'art', u'shamed', u'rome', u'thou', u'hast', u'lost', u'the', u'breed', u'of', u'noble', u'bloods', u'when', u'went', u'there', u'by', u'an', u'age', u'since', u'the', u'great', u'flood', u'but', u'it', u'was', u'famed', u'with', u'more', u'than', u'with', u'one', u'man', u'when', u'could', u'they', u'say', u'till', u'now', u'that', u\"talk'd\", u'of', u'rome', u'that', u'her', u'wide', u'walls', u\"encompass'd\", u'but', u'one', u'man', u'now', u'is', u'it', u'rome', u'indeed', u'and', u'room', u'enough', u'when', u'there', u'is', u'in', u'it', u'but', u'one', u'only', u'man', u'o', u'you', u'and', u'i', u'have', u'heard', u'our', u'fathers', u'say', u'there', u'was', u'a', u'brutus', u'once', u'that', u'would', u'have', u\"brook'd\", u'the', u'eternal', u'devil', u'to', u'keep', u'his', u'state', u'in', u'rome', u'as', u'easily', u'as', u'a', u'king', u'brutus', u'that', u'you', u'do', u'love', u'me', u'i', u'am', u'nothing', u'jealous;', u'what', u'you', u'would', u'work', u'me', u'to', u'i', u'have', u'some', u'aim', u'how', u'i', u'have', u'thought', u'of', u'this', u'and', u'of', u'these', u'times', u'i', u'shall', u'recount', u'hereafter;', u'for', u'this', u'present', u'i', u'would', u'not', u'so', u'with', u'love', u'i', u'might', u'entreat', u'you', u'be', u'any', u'further', u'moved', u'what', u'you', u'have', u'said', u'i', u'will', u'consider;', u'what', u'you', u'have', u'to', u'say', u'i', u'will', u'with', u'patience', u'hear', u'and', u'find', u'a', u'time', u'both', u'meet', u'to', u'hear', u'and', u'answer', u'such', u'high', u'things', u'till', u'then', u'my', u'noble', u'friend', u'chew', u'upon', u'this:', u'brutus', u'had', u'rather', u'be', u'a', u'villager', u'than', u'to', u'repute', u'himself', u'a', u'son', u'of', u'rome', u'under', u'these', u'hard', u'conditions', u'as', u'this', u'time', u'is', u'like', u'to', u'lay', u'upon', u'us', u'cassius', u'i', u'am', u'glad', u'that', u'my', u'weak', u'words', u'have', u'struck', u'but', u'thus', u'much', u'show', u'of', u'fire', u'from', u'brutus', u're-enter', u'caesar', u'and', u'his', u'train', u'brutus', u'the', u'games', u'are', u'done', u'and', u'caesar', u'is', u'returning', u'cassius', u'as', u'they', u'pass', u'by', u'pluck', u'casca', u'by', u'the', u'sleeve', u'and', u'he', u'will', u'after', u'his', u'sour', u'fashion', u'tell', u'you', u'what', u'hath', u'proceeded', u'worthy', u'note', u'today', u'brutus', u'i', u'will', u'do', u'so', u'but', u'look', u'you', u'cassius', u'the', u'angry', u'spot', u'doth', u'glow', u'on', u\"caesar's\", u'brow', u'and', u'all', u'the', u'rest', u'look', u'like', u'a', u'chidden', u'train:', u\"calpurnia's\", u'cheek', u'is', u'pale', u'and', u'cicero', u'looks', u'with', u'such', u'ferret', u'and', u'such', u'fiery', u'eyes', u'as', u'we', u'have', u'seen', u'him', u'in', u'the', u'capitol', u'being', u\"cross'd\", u'in', u'conference', u'by', u'some', u'senators', u'cassius', u'casca', u'will', u'tell', u'us', u'what', u'the', u'matter', u'is', u'caesar', u'antonio', u'antony', u'caesar', u'caesar', u'let', u'me', u'have', u'men', u'about', u'me', u'that', u'are', u'fat', u'sleek-headed', u'men', u'and', u'such', u'as', u'sleep', u'o', u'nights:', u'yond', u'cassius', u'has', u'a', u'lean', u'and', u'hungry', u'look;', u'he', u'thinks', u'too', u'much;', u'such', u'men', u'are', u'dangerous', u'antony', u'fear', u'him', u'not', u'caesar;', u\"he's\", u'not', u'dangerous;', u'he', u'is', u'a', u'noble', u'roman', u'and', u'well', u'given', u'caesar', u'would', u'he', u'were', u'fatter', u'but', u'i', u'fear', u'him', u'not', u'yet', u'if', u'my', u'name', u'were', u'liable', u'to', u'fear', u'i', u'do', u'not', u'know', u'the', u'man', u'i', u'should', u'avoid', u'so', u'soon', u'as', u'that', u'spare', u'cassius', u'he', u'reads', u'much', u'he', u'is', u'a', u'great', u'observer', u'and', u'he', u'looks', u'quite', u'through', u'the', u'deeds', u'of', u'men', u'he', u'loves', u'no', u'plays', u'as', u'thou', u'dost', u'antony;', u'he', u'hears', u'no', u'music;', u'seldom', u'he', u'smiles', u'and', u'smiles', u'in', u'such', u'a', u'sort', u'as', u'if', u'he', u\"mock'd\", u'himself', u'and', u\"scorn'd\", u'his', u'spirit', u'that', u'could', u'be', u'moved', u'to', u'smile', u'at', u'anything', u'such', u'men', u'as', u'he', u'be', u'never', u'at', u\"heart's\", u'ease', u'whiles', u'they', u'behold', u'a', u'greater', u'than', u'themselves', u'and', u'therefore', u'are', u'they', u'very', u'dangerous', u'i', u'rather', u'tell', u'thee', u'what', u'is', u'to', u'be', u\"fear'd\", u'than', u'what', u'i', u'fear', u'for', u'always', u'i', u'am', u'caesar', u'come', u'on', u'my', u'right', u'hand', u'for', u'this', u'ear', u'is', u'deaf', u'and', u'tell', u'me', u'truly', u'what', u'thou', u\"think'st\", u'of', u'him', u'sennet', u'exeunt', u'caesar', u'and', u'all', u'his', u'train', u'but', u'casca', u'casca', u'you', u\"pull'd\", u'me', u'by', u'the', u'cloak;', u'would', u'you', u'speak', u'with', u'me', u'brutus', u'ay', u'casca', u'tell', u'us', u'what', u'hath', u'chanced', u'today', u'that', u'caesar', u'looks', u'so', u'sad', u'casca', u'why', u'you', u'were', u'with', u'him', u'were', u'you', u'not', u'brutus', u'i', u'should', u'not', u'then', u'ask', u'casca', u'what', u'had', u'chanced', u'casca', u'why', u'there', u'was', u'a', u'crown', u'offered', u'him', u'and', u'being', u'offered', u'him', u'he', u'put', u'it', u'by', u'with', u'the', u'back', u'of', u'his', u'hand', u'thus', u'and', u'then', u'the', u'people', u'fell', u'ashouting', u'brutus', u'what', u'was', u'the', u'second', u'noise', u'for', u'casca', u'why', u'for', u'that', u'too', u'cassius', u'they', u'shouted', u'thrice', u'what', u'was', u'the', u'last', u'cry', u'for', u'casca', u'why', u'for', u'that', u'too', u'brutus', u'was', u'the', u'crown', u'offered', u'him', u'thrice', u'casca', u'ay', u'marry', u'wast', u'and', u'he', u'put', u'it', u'by', u'thrice', u'every', u'time', u'gentler', u'than', u'other', u'and', u'at', u'every', u'putting', u'by', u'mine', u'honest', u'neighbors', u'shouted', u'cassius', u'who', u'offered', u'him', u'the', u'crown', u'casca', u'why', u'antony', u'brutus', u'tell', u'us', u'the', u'manner', u'of', u'it', u'gentle', u'casca', u'casca', u'i', u'can', u'as', u'well', u'be', u\"hang'd\", u'as', u'tell', u'the', u'manner', u'of', u'it', u'it', u'was', u'mere', u'foolery;', u'i', u'did', u'not', u'mark', u'it', u'i', u'saw', u'mark', u'antony', u'offer', u'him', u'a', u'crown', u'yet', u'twas', u'not', u'a', u'crown', u'neither', u'twas', u'one', u'of', u'these', u'coronets', u'and', u'as', u'i', u'told', u'you', u'he', u'put', u'it', u'by', u'once', u'but', u'for', u'all', u'that', u'to', u'my', u'thinking', u'he', u'would', u'fain', u'have', u'had', u'it', u'then', u'he', u'offered', u'it', u'to', u'him', u'again;', u'then', u'he', u'put', u'it', u'by', u'again', u'but', u'to', u'my', u'thinking', u'he', u'was', u'very', u'loath', u'to', u'lay', u'his', u'fingers', u'off', u'it', u'and', u'then', u'he', u'offered', u'it', u'the', u'third', u'time;', u'he', u'put', u'it', u'the', u'third', u'time', u'by;', u'and', u'still', u'as', u'he', u'refused', u'it', u'the', u'rabblement', u'hooted', u'and', u'clapped', u'their', u'chopped', u'hands', u'and', u'threw', u'up', u'their', u'sweaty', u'nightcaps', u'and', u'uttered', u'such', u'a', u'deal', u'of', u'stinking', u'breath', u'because', u'caesar', u'refused', u'the', u'crown', u'that', u'it', u'had', u'almost', u'choked', u'caesar', u'for', u'he', u'swounded', u'and', u'fell', u'down', u'at', u'it', u'and', u'for', u'mine', u'own', u'part', u'i', u'durst', u'not', u'laugh', u'for', u'fear', u'of', u'opening', u'my', u'lips', u'and', u'receiving', u'the', u'bad', u'air', u'cassius', u'but', u'soft', u'i', u'pray', u'you', u'what', u'did', u'caesars', u'wound', u'casca', u'he', u'fell', u'down', u'in', u'the', u'marketplace', u'and', u'foamed', u'at', u'mouth', u'and', u'was', u'speechless', u'brutus', u'tis', u'very', u'like', u'he', u'hath', u'the', u'falling', u'sickness', u'cassius', u'no', u'caesar', u'hath', u'it', u'not', u'but', u'you', u'and', u'i', u'and', u'honest', u'casca', u'we', u'have', u'the', u'falling', u'sickness', u'casca', u'i', u'know', u'not', u'what', u'you', u'mean', u'by', u'that', u'but', u'i', u'am', u'sure', u'caesar', u'fell', u'down', u'if', u'the', u'tagrag', u'people', u'did', u'not', u'clap', u'him', u'and', u'hiss', u'him', u'according', u'as', u'he', u'pleased', u'and', u'displeased', u'them', u'as', u'they', u'use', u'to', u'do', u'the', u'players', u'in', u'the', u'theatre', u'i', u'am', u'no', u'true', u'man', u'brutus', u'what', u'said', u'he', u'when', u'he', u'came', u'unto', u'himself', u'casca', u'marry', u'before', u'he', u'fell', u'down', u'when', u'he', u'perceived', u'the', u'common', u'herd', u'was', u'glad', u'he', u'refused', u'the', u'crown', u'he', u'plucked', u'me', u'ope', u'his', u'doublet', u'and', u'offered', u'them', u'his', u'throat', u'to', u'cut', u'an', u'had', u'been', u'a', u'man', u'of', u'any', u'occupation', u'if', u'i', u'would', u'not', u'have', u'taken', u'him', u'at', u'a', u'word', u'i', u'would', u'i', u'might', u'go', u'to', u'hell', u'among', u'the', u'rogues', u'and', u'so', u'he', u'fell', u'when', u'he', u'came', u'to', u'himself', u'again', u'he', u'said', u'if', u'he', u'had', u'done', u'or', u'said', u'anything', u'amiss', u'he', u'desired', u'their', u'worships', u'to', u'think', u'it', u'was', u'his', u'infirmity', u'three', u'or', u'four', u'wenches', u'where', u'i', u'stood', u'cried', u'alas', u'good', u'soul', u'and', u'forgave', u'him', u'with', u'all', u'their', u'hearts', u'but', u\"there's\", u'no', u'heed', u'to', u'be', u'taken', u'of', u'them;', u'if', u'caesar', u'had', u'stabbed', u'their', u'mothers', u'they', u'would', u'have', u'done', u'no', u'less', u'brutus', u'and', u'after', u'that', u'he', u'came', u'thus', u'sad', u'away', u'casca', u'ay', u'cassius', u'did', u'cicero', u'say', u'anything', u'casca', u'ay', u'he', u'spoke', u'greek', u'cassius', u'to', u'what', u'effect', u'casca', u'nay', u'an', u'i', u'tell', u'you', u'that', u\"i'll\", u\"ne'er\", u'look', u'you', u'i', u'the', u'face', u'again;', u'but', u'those', u'that', u'understood', u'him', u'smiled', u'at', u'one', u'another', u'and', u'shook', u'their', u'heads;', u'but', u'for', u'mine', u'own', u'part', u'it', u'was', u'greek', u'to', u'me', u'i', u'could', u'tell', u'you', u'more', u'news', u'too:', u'marullus', u'and', u'flavius', u'for', u'pulling', u'scarfs', u'off', u\"caesar's\", u'images', u'are', u'put', u'to', u'silence', u'fare', u'you', u'well', u'there', u'was', u'more', u'foolery', u'yet', u'if', u'could', u'remember', u'it', u'cassius', u'will', u'you', u'sup', u'with', u'me', u'tonight', u'casca', u'casca', u'no', u'i', u'am', u'promised', u'forth', u'cassius', u'will', u'you', u'dine', u'with', u'me', u'tomorrow', u'casca', u'ay', u'if', u'i', u'be', u'alive', u'and', u'your', u'mind', u'hold', u'and', u'your', u'dinner', u'worth', u'the', u'eating', u'cassius', u'good', u'i', u'will', u'expect', u'you', u'casca', u'do', u'so', u'farewell', u'both', u'exit', u'brutus', u'what', u'a', u'blunt', u'fellow', u'is', u'this', u'grown', u'to', u'be', u'he', u'was', u'quick', u'mettle', u'when', u'he', u'went', u'to', u'school', u'cassius', u'so', u'is', u'he', u'now', u'in', u'execution', u'of', u'any', u'bold', u'or', u'noble', u'enterprise', u'however', u'he', u'puts', u'on', u'this', u'tardy', u'form', u'this', u'rudeness', u'is', u'a', u'sauce', u'to', u'his', u'good', u'wit', u'which', u'gives', u'men', u'stomach', u'to', u'digest', u'his', u'words', u'with', u'better', u'appetite', u'brutus', u'and', u'so', u'it', u'is', u'for', u'this', u'time', u'i', u'will', u'leave', u'you', u'tomorrow', u'if', u'you', u'please', u'to', u'speak', u'with', u'me', u'i', u'will', u'come', u'home', u'to', u'you', u'or', u'if', u'you', u'will', u'come', u'home', u'to', u'me', u'and', u'i', u'will', u'wait', u'for', u'you', u'cassius', u'i', u'will', u'do', u'so', u'till', u'then', u'think', u'of', u'the', u'world', u'exit', u'brutus', u'well', u'brutus', u'thou', u'art', u'noble;', u'yet', u'i', u'see', u'thy', u'honorable', u'mettle', u'may', u'be', u'wrought', u'from', u'that', u'it', u'is', u'disposed;', u'therefore', u'it', u'is', u'meet', u'that', u'noble', u'minds', u'keep', u'ever', u'with', u'their', u'likes;', u'for', u'who', u'so', u'firm', u'that', u'cannot', u'be', u'seduced', u'caesar', u'doth', u'bear', u'me', u'hard', u'but', u'he', u'loves', u'brutus', u'if', u'i', u'were', u'brutus', u'now', u'and', u'he', u'were', u'cassius', u'he', u'should', u'not', u'humor', u'me', u'i', u'will', u'this', u'night', u'in', u'several', u'hands', u'in', u'at', u'his', u'windows', u'throw', u'as', u'if', u'they', u'came', u'from', u'several', u'citizens', u'writings', u'all', u'tending', u'to', u'the', u'great', u'opinion', u'that', u'rome', u'holds', u'of', u'his', u'name', u'wherein', u'obscurely', u\"caesar's\", u'ambition', u'shall', u'be', u'glanced', u'at', u'and', u'after', u'this', u'let', u'caesar', u'seat', u'him', u'sure;', u'for', u'we', u'will', u'shake', u'him', u'or', u'worse', u'days', u'endure', u'exit', u'scene', u'iii', u'a', u'street', u'thunder', u'and', u'lightning', u'enter', u'from', u'opposite', u'sides', u'casca', u'with', u'his', u'sword', u'drawn', u'and', u'cicero', u'cicero', u'good', u'even', u'casca', u'brought', u'you', u'caesar', u'home', u'why', u'are', u'you', u'breathless', u'and', u'why', u'stare', u'you', u'so', u'casca', u'are', u'not', u'you', u'moved', u'when', u'all', u'the', u'sway', u'of', u'earth', u'shakes', u'like', u'a', u'thing', u'unfirm', u'o', u'cicero', u'i', u'have', u'seen', u'tempests', u'when', u'the', u'scolding', u'winds', u'have', u'rived', u'the', u'knotty', u'oaks', u'and', u'i', u'have', u'seen', u'the', u'ambitious', u'ocean', u'swell', u'and', u'rage', u'and', u'foam', u'to', u'be', u'exalted', u'with', u'the', u'threatening', u'clouds', u'but', u'never', u'till', u'tonight', u'never', u'till', u'now', u'did', u'i', u'go', u'through', u'a', u'tempest', u'dropping', u'fire', u'either', u'there', u'is', u'a', u'civil', u'strife', u'in', u'heaven', u'or', u'else', u'the', u'world', u'too', u'saucy', u'with', u'the', u'gods', u'incenses', u'them', u'to', u'send', u'destruction', u'cicero', u'why', u'saw', u'you', u'anything', u'more', u'wonderful', u'casca', u'a', u'common', u'slave-', u'you', u'know', u'him', u'well', u'by', u'sight-', u'held', u'up', u'his', u'left', u'hand', u'which', u'did', u'flame', u'and', u'burn', u'like', u'twenty', u'torches', u\"join'd\", u'and', u'yet', u'his', u'hand', u'not', u'sensible', u'of', u'fire', u\"remain'd\", u\"unscorch'd\", u'besides-', u'i', u'ha', u'not', u'since', u'put', u'up', u'my', u'sword-', u'against', u'the', u'capitol', u'i', u'met', u'a', u'lion', u'who', u\"glaz'd\", u'upon', u'me', u'and', u'went', u'surly', u'by', u'without', u'annoying', u'me', u'and', u'there', u'were', u'drawn', u'upon', u'a', u'heap', u'a', u'hundred', u'ghastly', u'women', u'transformed', u'with', u'their', u'fear', u'who', u'swore', u'they', u'saw', u'men', u'all', u'in', u'fire', u'walk', u'up', u'and', u'down', u'the', u'streets', u'and', u'yesterday', u'the', u'bird', u'of', u'night', u'did', u'sit', u'even', u'at', u'noonday', u'upon', u'the', u'marketplace', u'howling', u'and', u'shrieking', u'when', u'these', u'prodigies', u'do', u'so', u'conjointly', u'meet', u'let', u'not', u'men', u'say', u'these', u'are', u'their', u'reasons;', u'they', u'are', u'natural\":', u'for', u'i', u'believe', u'they', u'are', u'portentous', u'things', u'unto', u'the', u'climate', u'that', u'they', u'point', u'upon', u'cicero', u'indeed', u'it', u'is', u'a', u'strange-disposed', u'time', u'but', u'men', u'may', u'construe', u'things', u'after', u'their', u'fashion', u'clean', u'from', u'the', u'purpose', u'of', u'the', u'things', u'themselves', u'comes', u'caesar', u'to', u'the', u'capitol', u'tomorrow', u'casca', u'he', u'doth', u'for', u'he', u'did', u'bid', u'antonio', u'send', u'word', u'to', u'you', u'he', u'would', u'be', u'there', u'tomorrow', u'cicero', u'good', u'then', u'casca', u'this', u'disturbed', u'sky', u'is', u'not', u'to', u'walk', u'in', u'casca', u'farewell', u'cicero', u'exit', u'cicero', u'enter', u'cassius', u'cassius', u\"who's\", u'there', u'casca', u'a', u'roman', u'cassius', u'casca', u'by', u'your', u'voice', u'casca', u'your', u'ear', u'is', u'good', u'cassius', u'what', u'night', u'is', u'this', u'cassius', u'a', u'very', u'pleasing', u'night', u'to', u'honest', u'men', u'casca', u'who', u'ever', u'knew', u'the', u'heavens', u'menace', u'so', u'cassius', u'those', u'that', u'have', u'known', u'the', u'earth', u'so', u'full', u'of', u'faults', u'for', u'my', u'part', u'i', u'have', u\"walk'd\", u'about', u'the', u'streets', u'submitting', u'me', u'unto', u'the', u'perilous', u'night', u'and', u'thus', u'unbraced', u'casca', u'as', u'you', u'see', u'have', u'bared', u'my', u'bosom', u'to', u'the', u'thunderstone;', u'and', u'when', u'the', u'cross', u'blue', u'lightning', u\"seem'd\", u'to', u'open', u'the', u'breast', u'of', u'heaven', u'i', u'did', u'present', u'myself', u'even', u'in', u'the', u'aim', u'and', u'very', u'flash', u'of', u'it', u'casca', u'but', u'wherefore', u'did', u'you', u'so', u'much', u'tempt', u'the', u'heavens', u'it', u'is', u'the', u'part', u'of', u'men', u'to', u'fear', u'and', u'tremble', u'when', u'the', u'most', u'mighty', u'gods', u'by', u'tokens', u'send', u'such', u'dreadful', u'heralds', u'to', u'astonish', u'us', u'cassius', u'you', u'are', u'dull', u'casca', u'and', u'those', u'sparks', u'of', u'life', u'that', u'should', u'be', u'in', u'a', u'roman', u'you', u'do', u'want', u'or', u'else', u'you', u'use', u'not', u'you', u'look', u'pale', u'and', u'gaze', u'and', u'put', u'on', u'fear', u'and', u'cast', u'yourself', u'in', u'wonder', u'to', u'see', u'the', u'strange', u'impatience', u'of', u'the', u'heavens', u'but', u'if', u'you', u'would', u'consider', u'the', u'true', u'cause', u'why', u'all', u'these', u'fires', u'why', u'all', u'these', u'gliding', u'ghosts', u'why', u'birds', u'and', u'beasts', u'from', u'quality', u'and', u'kind', u'why', u'old', u'men', u'fools', u'and', u'children', u'calculate', u'why', u'all', u'these', u'things', u'change', u'from', u'their', u'ordinance', u'their', u'natures', u'and', u'preformed', u'faculties', u'to', u'monstrous', u'quality', u'why', u'you', u'shall', u'find', u'that', u'heaven', u'hath', u'infused', u'them', u'with', u'these', u'spirits', u'to', u'make', u'them', u'instruments', u'of', u'fear', u'and', u'warning', u'unto', u'some', u'monstrous', u'state', u'now', u'could', u'i', u'casca', u'name', u'to', u'thee', u'a', u'man', u'most', u'like', u'this', u'dreadful', u'night', u'that', u'thunders', u'lightens', u'opens', u'graves', u'and', u'roars', u'as', u'doth', u'the', u'lion', u'in', u'the', u'capitol', u'a', u'man', u'no', u'mightier', u'than', u'thyself', u'or', u'me', u'in', u'personal', u'action', u'yet', u'prodigious', u'grown', u'and', u'fearful', u'as', u'these', u'strange', u'eruptions', u'are', u'casca', u'tis', u'caesar', u'that', u'you', u'mean', u'is', u'it', u'not', u'cassius', u'cassius', u'let', u'it', u'be', u'who', u'it', u'is', u'for', u'romans', u'now', u'have', u'thews', u'and', u'limbs', u'like', u'to', u'their', u'ancestors', u'but', u'woe', u'the', u'while', u'our', u'fathers', u'minds', u'are', u'dead', u'and', u'we', u'are', u\"govern'd\", u'with', u'our', u'mothers', u'spirits;', u'our', u'yoke', u'and', u'sufferance', u'show', u'us', u'womanish', u'casca', u'indeed', u'they', u'say', u'the', u'senators', u'tomorrow', u'mean', u'to', u'establish', u'caesar', u'as', u'a', u'king', u'and', u'he', u'shall', u'wear', u'his', u'crown', u'by', u'sea', u'and', u'land', u'in', u'every', u'place', u'save', u'here', u'in', u'italy', u'cassius', u'i', u'know', u'where', u'i', u'will', u'wear', u'this', u'dagger', u'then:', u'cassius', u'from', u'bondage', u'will', u'deliver', u'cassius', u'therein', u'ye', u'gods', u'you', u'make', u'the', u'weak', u'most', u'strong;', u'therein', u'ye', u'gods', u'you', u'tyrants', u'do', u'defeat', u'nor', u'stony', u'tower', u'nor', u'walls', u'of', u'beaten', u'brass', u'nor', u'airless', u'dungeon', u'nor', u'strong', u'links', u'of', u'iron', u'can', u'be', u'retentive', u'to', u'the', u'strength', u'of', u'spirit;', u'but', u'life', u'being', u'weary', u'of', u'these', u'worldly', u'bars', u'never', u'lacks', u'power', u'to', u'dismiss', u'itself', u'if', u'i', u'know', u'this', u'know', u'all', u'the', u'world', u'besides', u'that', u'part', u'of', u'tyranny', u'that', u'i', u'do', u'bear', u'i', u'can', u'shake', u'off', u'at', u'pleasure', u'thunder', u'still', u'casca', u'so', u'can', u'i', u'so', u'every', u'bondman', u'in', u'his', u'own', u'hand', u'bears', u'the', u'power', u'to', u'cancel', u'his', u'captivity', u'cassius', u'and', u'why', u'should', u'caesar', u'be', u'a', u'tyrant', u'then', u'poor', u'man', u'i', u'know', u'he', u'would', u'not', u'be', u'a', u'wolf', u'but', u'that', u'he', u'sees', u'the', u'romans', u'are', u'but', u'sheep', u'he', u'were', u'no', u'lion', u'were', u'not', u'romans', u'hinds', u'those', u'that', u'with', u'haste', u'will', u'make', u'a', u'mighty', u'fire', u'begin', u'it', u'with', u'weak', u'straws', u'what', u'trash', u'is', u'rome', u'what', u'rubbish', u'and', u'what', u'offal', u'when', u'it', u'serves', u'for', u'the', u'base', u'matter', u'to', u'illuminate', u'so', u'vile', u'a', u'thing', u'as', u'caesar', u'but', u'o', u'grief', u'where', u'hast', u'thou', u'led', u'me', u'i', u'perhaps', u'speak', u'this', u'before', u'a', u'willing', u'bondman;', u'then', u'i', u'know', u'my', u'answer', u'must', u'be', u'made', u'but', u'i', u'am', u\"arm'd\", u'and', u'dangers', u'are', u'to', u'me', u'indifferent', u'casca', u'you', u'speak', u'to', u'casca', u'and', u'to', u'such', u'a', u'man', u'that', u'is', u'no', u'fleering', u'tell-tale', u'hold', u'my', u'hand', u'be', u'factious', u'for', u'redress', u'of', u'all', u'these', u'griefs', u'and', u'i', u'will', u'set', u'this', u'foot', u'of', u'mine', u'as', u'far', u'as', u'who', u'goes', u'farthest', u'cassius', u\"there's\", u'a', u'bargain', u'made', u'now', u'know', u'you', u'casca', u'i', u'have', u'moved', u'already', u'some', u'certain', u'of', u'the', u'noblest-minded', u'romans', u'to', u'undergo', u'with', u'me', u'an', u'enterprise', u'of', u'honorable-dangerous', u'consequence;', u'and', u'i', u'do', u'know', u'by', u'this', u'they', u'stay', u'for', u'me', u'in', u\"pompey's\", u'porch', u'for', u'now', u'this', u'fearful', u'night', u'there', u'is', u'no', u'stir', u'or', u'walking', u'in', u'the', u'streets', u'and', u'the', u'complexion', u'of', u'the', u'element', u'in', u\"favor's\", u'like', u'the', u'work', u'we', u'have', u'in', u'hand', u'most', u'bloody', u'fiery', u'and', u'most', u'terrible', u'enter', u'cinna', u'casca', u'stand', u'close', u'awhile', u'for', u'here', u'comes', u'one', u'in', u'haste', u'cassius', u'tis', u'cinna', u'i', u'do', u'know', u'him', u'by', u'his', u'gait;', u'he', u'is', u'a', u'friend', u'cinna', u'where', u'haste', u'you', u'so', u'cinna', u'to', u'find', u'out', u'you', u\"who's\", u'that', u'metellus', u'cimber', u'cassius', u'no', u'it', u'is', u'casca', u'one', u'incorporate', u'to', u'our', u'attempts', u'am', u'i', u'not', u\"stay'd\", u'for', u'cinna', u'cinna', u'i', u'am', u'glad', u\"on't\", u'what', u'a', u'fearful', u'night', u'is', u'this', u\"there's\", u'two', u'or', u'three', u'of', u'us', u'have', u'seen', u'strange', u'sights', u'cassius', u'am', u'i', u'not', u\"stay'd\", u'for', u'tell', u'me', u'cinna', u'yes', u'you', u'are', u'o', u'cassius', u'if', u'you', u'could', u'but', u'win', u'the', u'noble', u'brutus', u'to', u'our', u'party-', u'cassius', u'be', u'you', u'content', u'good', u'cinna', u'take', u'this', u'paper', u'and', u'look', u'you', u'lay', u'it', u'in', u'the', u\"praetor's\", u'chair', u'where', u'brutus', u'may', u'but', u'find', u'it;', u'and', u'throw', u'this', u'in', u'at', u'his', u'window;', u'set', u'this', u'up', u'with', u'wax', u'upon', u'old', u'brutus', u'statue', u'all', u'this', u'done', u'repair', u'to', u\"pompey's\", u'porch', u'where', u'you', u'shall', u'find', u'us', u'is', u'decius', u'brutus', u'and', u'trebonius', u'there', u'cinna', u'all', u'but', u'metellus', u'cimber', u'and', u\"he's\", u'gone', u'to', u'seek', u'you', u'at', u'your', u'house', u'well', u'i', u'will', u'hie', u'and', u'so', u'bestow', u'these', u'papers', u'as', u'you', u'bade', u'me', u'cassius', u'that', u'done', u'repair', u'to', u\"pompey's\", u'theatre', u'exit', u'cinna', u'come', u'casca', u'you', u'and', u'i', u'will', u'yet', u'ere', u'day', u'see', u'brutus', u'at', u'his', u'house', u'three', u'parts', u'of', u'him', u'is', u'ours', u'already', u'and', u'the', u'man', u'entire', u'upon', u'the', u'next', u'encounter', u'yields', u'him', u'ours', u'casca', u'o', u'he', u'sits', u'high', u'in', u'all', u'the', u\"people's\", u'hearts', u'and', u'that', u'which', u'would', u'appear', u'offense', u'in', u'us', u'his', u'countenance', u'like', u'richest', u'alchemy', u'will', u'change', u'to', u'virtue', u'and', u'to', u'worthiness', u'cassius', u'him', u'and', u'his', u'worth', u'and', u'our', u'great', u'need', u'of', u'him', u'you', u'have', u'right', u'well', u'conceited', u'let', u'us', u'go', u'for', u'it', u'is', u'after', u'midnight', u'and', u'ere', u'day', u'we', u'will', u'awake', u'him', u'and', u'be', u'sure', u'of', u'him', u'exeunt', u'<<this', u'electronic', u'version', u'of', u'the', u'complete', u'works', u'of', u'william', u'shakespeare', u'is', u'copyright', u'1990-1993', u'by', u'world', u'library', u'inc', u'and', u'is', u'provided', u'by', u'project', u'gutenberg', u'etext', u'of', u'carnegie', u'mellon', u'university', u'with', u'permission', u'electronic', u'and', u'machine', u'readable', u'copies', u'may', u'be', u'distributed', u'so', u'long', u'as', u'such', u'copies', u'1', u'are', u'for', u'your', u'or', u'others', u'personal', u'use', u'only', u'and', u'2', u'are', u'not', u'distributed', u'or', u'used', u'commercially', u'prohibited', u'commercial', u'distribution', u'includes', u'by', u'any', u'service', u'that', u'charges', u'for', u'download', u'time', u'or', u'for', u'membership.>>', u'act', u'ii', u'scene', u'i', u'enter', u'brutus', u'in', u'his', u'orchard', u'brutus', u'what', u'lucius', u'ho', u'i', u'cannot', u'by', u'the', u'progress', u'of', u'the', u'stars', u'give', u'guess', u'how', u'near', u'to', u'day', u'lucius', u'i', u'say', u'i', u'would', u'it', u'were', u'my', u'fault', u'to', u'sleep', u'so', u'soundly', u'when', u'lucius', u'when', u'awake', u'i', u'say', u'what', u'lucius', u'enter', u'lucius', u'lucius', u\"call'd\", u'you', u'my', u'lord', u'brutus', u'get', u'me', u'a', u'taper', u'in', u'my', u'study', u'lucius', u'when', u'it', u'is', u'lighted', u'come', u'and', u'call', u'me', u'here', u'lucius', u'i', u'will', u'my', u'lord', u'exit', u'brutus', u'it', u'must', u'be', u'by', u'his', u'death', u'and', u'for', u'my', u'part', u'i', u'know', u'no', u'personal', u'cause', u'to', u'spurn', u'at', u'him', u'but', u'for', u'the', u'general', u'he', u'would', u'be', u\"crown'd:\", u'how', u'that', u'might', u'change', u'his', u'nature', u\"there's\", u'the', u'question', u'it', u'is', u'the', u'bright', u'day', u'that', u'brings', u'forth', u'the', u'adder', u'and', u'that', u'craves', u'wary', u'walking', u'crown', u'him', u'that', u'and', u'then', u'i', u'grant', u'we', u'put', u'a', u'sting', u'in', u'him', u'that', u'at', u'his', u'will', u'he', u'may', u'do', u'danger', u'with', u'the', u'abuse', u'of', u'greatness', u'is', u'when', u'it', u'disjoins', u'remorse', u'from', u'power', u'and', u'to', u'speak', u'truth', u'of', u'caesar', u'i', u'have', u'not', u'known', u'when', u'his', u'affections', u\"sway'd\", u'more', u'than', u'his', u'reason', u'but', u'tis', u'a', u'common', u'proof', u'that', u'lowliness', u'is', u'young', u\"ambition's\", u'ladder', u'whereto', u'the', u'climber-upward', u'turns', u'his', u'face;', u'but', u'when', u'he', u'once', u'attains', u'the', u'upmost', u'round', u'he', u'then', u'unto', u'the', u'ladder', u'turns', u'his', u'back', u'looks', u'in', u'the', u'clouds', u'scorning', u'the', u'base', u'degrees', u'by', u'which', u'he', u'did', u'ascend', u'so', u'caesar', u'may;', u'then', u'lest', u'he', u'may', u'prevent', u'and', u'since', u'the', u'quarrel', u'will', u'bear', u'no', u'color', u'for', u'the', u'thing', u'he', u'is', u'fashion', u'it', u'thus', u'that', u'what', u'he', u'is', u'augmented', u'would', u'run', u'to', u'these', u'and', u'these', u'extremities;', u'and', u'therefore', u'think', u'him', u'as', u'a', u\"serpent's\", u'egg', u'which', u\"hatch'd\", u'would', u'as', u'his', u'kind', u'grow', u'mischievous', u'and', u'kill', u'him', u'in', u'the', u'shell', u're-enter', u'lucius', u'lucius', u'the', u'taper', u'burneth', u'in', u'your', u'closet', u'sir', u'searching', u'the', u'window', u'for', u'a', u'flint', u'i', u'found', u'this', u'paper', u'thus', u\"seal'd\", u'up', u'and', u'i', u'am', u'sure', u'it', u'did', u'not', u'lie', u'there', u'when', u'i', u'went', u'to', u'bed', u'gives', u'him', u'the', u'letter', u'brutus', u'get', u'you', u'to', u'bed', u'again', u'it', u'is', u'not', u'day', u'is', u'not', u'tomorrow', u'boy', u'the', u'ides', u'of', u'march', u'lucius', u'i', u'know', u'not', u'sir', u'brutus', u'look', u'in', u'the', u'calendar', u'and', u'bring', u'me', u'word', u'lucius', u'i', u'will', u'sir', u'exit', u'brutus', u'the', u'exhalations', u'whizzing', u'in', u'the', u'air', u'give', u'so', u'much', u'light', u'that', u'i', u'may', u'read', u'by', u'them', u'opens', u'the', u'letter', u'and', u'reads', u'brutus', u'thou', u\"sleep'st:\", u'awake', u'and', u'see', u'thyself', u'shall', u'rome', u'etc', u'speak', u'strike', u'redress', u'brutus', u'thou', u\"sleep'st:\", u'awake', u'such', u'instigations', u'have', u'been', u'often', u\"dropp'd\", u'where', u'i', u'have', u'took', u'them', u'up', u'shall', u'rome', u'etc', u'thus', u'must', u'i', u'piece', u'it', u'out', u'shall', u'rome', u'stand', u'under', u'one', u\"man's\", u'awe', u'what', u'rome', u'my', u'ancestors', u'did', u'from', u'the', u'streets', u'of', u'rome', u'the', u'tarquin', u'drive', u'when', u'he', u'was', u\"call'd\", u'a', u'king', u'speak', u'strike', u'redress', u'am', u'i', u'entreated', u'to', u'speak', u'and', u'strike', u'o', u'rome', u'i', u'make', u'thee', u'promise', u'if', u'the', u'redress', u'will', u'follow', u'thou', u'receivest', u'thy', u'full', u'petition', u'at', u'the', u'hand', u'of', u'brutus', u're-enter', u'lucius', u'lucius', u'sir', u'march', u'is', u'wasted', u'fifteen', u'days', u'knocking', u'within', u'brutus', u'tis', u'good', u'go', u'to', u'the', u'gate', u'somebody', u'knocks', u'exit', u'lucius', u'since', u'cassius', u'first', u'did', u'whet', u'me', u'against', u'caesar', u'i', u'have', u'not', u'slept', u'between', u'the', u'acting', u'of', u'a', u'dreadful', u'thing', u'and', u'the', u'first', u'motion', u'all', u'the', u'interim', u'is', u'like', u'a', u'phantasma', u'or', u'a', u'hideous', u'dream;', u'the', u'genius', u'and', u'the', u'mortal', u'instruments', u'are', u'then', u'in', u'council', u'and', u'the', u'state', u'of', u'man', u'like', u'to', u'a', u'little', u'kingdom', u'suffers', u'then', u'the', u'nature', u'of', u'an', u'insurrection', u're-enter', u'lucius', u'lucius', u'sir', u'tis', u'your', u'brother', u'cassius', u'at', u'the', u'door', u'who', u'doth', u'desire', u'to', u'see', u'you', u'brutus', u'is', u'he', u'alone', u'lucius', u'no', u'sir', u'there', u'are', u'more', u'with', u'him', u'brutus', u'do', u'you', u'know', u'them', u'lucius', u'no', u'sir', u'their', u'hats', u'are', u\"pluck'd\", u'about', u'their', u'ears', u'and', u'half', u'their', u'faces', u'buried', u'in', u'their', u'cloaks', u'that', u'by', u'no', u'means', u'i', u'may', u'discover', u'them', u'by', u'any', u'mark', u'of', u'favor', u'brutus', u'let', u'em', u'enter', u'exit', u'lucius', u'they', u'are', u'the', u'faction', u'o', u'conspiracy', u'shamest', u'thou', u'to', u'show', u'thy', u'dangerous', u'brow', u'by', u'night', u'when', u'evils', u'are', u'most', u'free', u'o', u'then', u'by', u'day', u'where', u'wilt', u'thou', u'find', u'a', u'cavern', u'dark', u'enough', u'to', u'mask', u'thy', u'monstrous', u'visage', u'seek', u'none', u'conspiracy;', u'hide', u'it', u'in', u'smiles', u'and', u'affability;', u'for', u'if', u'thou', u'path', u'thy', u'native', u'semblance', u'on', u'not', u'erebus', u'itself', u'were', u'dim', u'enough', u'to', u'hide', u'thee', u'from', u'prevention', u'enter', u'the', u'conspirators', u'cassius', u'casca', u'decius', u'cinna', u'metellus', u'cimber', u'and', u'trebonius', u'cassius', u'i', u'think', u'we', u'are', u'too', u'bold', u'upon', u'your', u'rest', u'good', u'morrow', u'brutus', u'do', u'we', u'trouble', u'you', u'brutus', u'i', u'have', u'been', u'up', u'this', u'hour', u'awake', u'all', u'night', u'know', u'i', u'these', u'men', u'that', u'come', u'along', u'with', u'you', u'cassius', u'yes', u'every', u'man', u'of', u'them', u'and', u'no', u'man', u'here', u'but', u'honors', u'you', u'and', u'every', u'one', u'doth', u'wish', u'you', u'had', u'but', u'that', u'opinion', u'of', u'yourself', u'which', u'every', u'noble', u'roman', u'bears', u'of', u'you', u'this', u'is', u'trebonius', u'brutus', u'he', u'is', u'welcome', u'hither', u'cassius', u'this', u'decius', u'brutus', u'brutus', u'he', u'is', u'welcome', u'too', u'cassius', u'this', u'casca;', u'this', u'cinna;', u'and', u'this', u'metellus', u'cimber', u'brutus', u'they', u'are', u'all', u'welcome', u'what', u'watchful', u'cares', u'do', u'interpose', u'themselves', u'betwixt', u'your', u'eyes', u'and', u'night', u'cassius', u'shall', u'i', u'entreat', u'a', u'word', u'they', u'whisper', u'decius', u'here', u'lies', u'the', u'east', u'doth', u'not', u'the', u'day', u'break', u'here', u'casca', u'no', u'cinna', u'o', u'pardon', u'sir', u'it', u'doth', u'and', u'yongrey', u'lines', u'that', u'fret', u'the', u'clouds', u'are', u'messengers', u'of', u'day', u'casca', u'you', u'shall', u'confess', u'that', u'you', u'are', u'both', u'deceived', u'here', u'as', u'i', u'point', u'my', u'sword', u'the', u'sun', u'arises', u'which', u'is', u'a', u'great', u'way', u'growing', u'on', u'the', u'south', u'weighing', u'the', u'youthful', u'season', u'of', u'the', u'year', u'some', u'two', u'months', u'hence', u'up', u'higher', u'toward', u'the', u'north', u'he', u'first', u'presents', u'his', u'fire', u'and', u'the', u'high', u'east', u'stands', u'as', u'the', u'capitol', u'directly', u'here', u'brutus', u'give', u'me', u'your', u'hands', u'all', u'over', u'one', u'by', u'one', u'cassius', u'and', u'let', u'us', u'swear', u'our', u'resolution', u'brutus', u'no', u'not', u'an', u'oath', u'if', u'not', u'the', u'face', u'of', u'men', u'the', u'sufferance', u'of', u'our', u'souls', u'the', u\"time's\", u'abuse-', u'if', u'these', u'be', u'motives', u'weak', u'break', u'off', u'betimes', u'and', u'every', u'man', u'hence', u'to', u'his', u'idle', u'bed;', u'so', u'let', u'high-sighted', u'tyranny', u'range', u'on', u'till', u'each', u'man', u'drop', u'by', u'lottery', u'but', u'if', u'these', u'as', u'i', u'am', u'sure', u'they', u'do', u'bear', u'fire', u'enough', u'to', u'kindle', u'cowards', u'and', u'to', u'steel', u'with', u'valor', u'the', u'melting', u'spirits', u'of', u'women', u'then', u'countrymen', u'what', u'need', u'we', u'any', u'spur', u'but', u'our', u'own', u'cause', u'to', u'prick', u'us', u'to', u'redress', u'what', u'other', u'bond', u'than', u'secret', u'romans', u'that', u'have', u'spoke', u'the', u'word', u'and', u'will', u'not', u'palter', u'and', u'what', u'other', u'oath', u'than', u'honesty', u'to', u'honesty', u'engaged', u'that', u'this', u'shall', u'be', u'or', u'we', u'will', u'fall', u'for', u'it', u'swear', u'priests', u'and', u'cowards', u'and', u'men', u'cautelous', u'old', u'feeble', u'carrions', u'and', u'such', u'suffering', u'souls', u'that', u'welcome', u'wrongs;', u'unto', u'bad', u'causes', u'swear', u'such', u'creatures', u'as', u'men', u'doubt;', u'but', u'do', u'not', u'stain', u'the', u'even', u'virtue', u'of', u'our', u'enterprise', u'nor', u'the', u'insuppressive', u'mettle', u'of', u'our', u'spirits', u'to', u'think', u'that', u'or', u'our', u'cause', u'or', u'our', u'performance', u'did', u'need', u'an', u'oath;', u'when', u'every', u'drop', u'of', u'blood', u'that', u'every', u'roman', u'bears', u'and', u'nobly', u'bears', u'is', u'guilty', u'of', u'a', u'several', u'bastardy', u'if', u'he', u'do', u'break', u'the', u'smallest', u'particle', u'of', u'any', u'promise', u'that', u'hath', u\"pass'd\", u'from', u'him', u'cassius', u'but', u'what', u'of', u'cicero', u'shall', u'we', u'sound', u'him', u'i', u'think', u'he', u'will', u'stand', u'very', u'strong', u'with', u'us', u'casca', u'let', u'us', u'not', u'leave', u'him', u'out', u'cinna', u'no', u'by', u'no', u'means', u'metellus', u'o', u'let', u'us', u'have', u'him', u'for', u'his', u'silver', u'hairs', u'will', u'purchase', u'us', u'a', u'good', u'opinion', u'and', u'buy', u\"men's\", u'voices', u'to', u'commend', u'our', u'deeds', u'it', u'shall', u'be', u'said', u'his', u'judgement', u'ruled', u'our', u'hands;', u'our', u'youths', u'and', u'wildness', u'shall', u'no', u'whit', u'appear', u'but', u'all', u'be', u'buried', u'in', u'his', u'gravity', u'brutus', u'o', u'name', u'him', u'not;', u'let', u'us', u'not', u'break', u'with', u'him', u'for', u'he', u'will', u'never', u'follow', u'anything', u'that', u'other', u'men', u'begin', u'cassius', u'then', u'leave', u'him', u'out', u'casca', u'indeed', u'he', u'is', u'not', u'fit', u'decius', u'shall', u'no', u'man', u'else', u'be', u\"touch'd\", u'but', u'only', u'caesar', u'cassius', u'decius', u'well', u'urged', u'i', u'think', u'it', u'is', u'not', u'meet', u'mark', u'antony', u'so', u'well', u'beloved', u'of', u'caesar', u'should', u'outlive', u'caesar', u'we', u'shall', u'find', u'of', u'him', u'a', u'shrewd', u'contriver;', u'and', u'you', u'know', u'his', u'means', u'if', u'he', u'improve', u'them', u'may', u'well', u'stretch', u'so', u'far', u'as', u'to', u'annoy', u'us', u'all', u'which', u'to', u'prevent', u'let', u'antony', u'and', u'caesar', u'fall', u'together', u'brutus', u'our', u'course', u'will', u'seem', u'too', u'bloody', u'caius', u'cassius', u'to', u'cut', u'the', u'head', u'off', u'and', u'then', u'hack', u'the', u'limbs', u'like', u'wrath', u'in', u'death', u'and', u'envy', u'afterwards;', u'for', u'antony', u'is', u'but', u'a', u'limb', u'of', u'caesar', u'let', u'us', u'be', u'sacrificers', u'but', u'not', u'butchers', u'caius', u'we', u'all', u'stand', u'up', u'against', u'the', u'spirit', u'of', u'caesar', u'and', u'in', u'the', u'spirit', u'of', u'men', u'there', u'is', u'no', u'blood', u'o', u'that', u'we', u'then', u'could', u'come', u'by', u\"caesar's\", u'spirit', u'and', u'not', u'dismember', u'caesar', u'but', u'alas', u'caesar', u'must', u'bleed', u'for', u'it', u'and', u'gentle', u'friends', u\"let's\", u'kill', u'him', u'boldly', u'but', u'not', u'wrathfully;', u\"let's\", u'carve', u'him', u'as', u'a', u'dish', u'fit', u'for', u'the', u'gods', u'not', u'hew', u'him', u'as', u'a', u'carcass', u'fit', u'for', u'hounds;', u'and', u'let', u'our', u'hearts', u'as', u'subtle', u'masters', u'do', u'stir', u'up', u'their', u'servants', u'to', u'an', u'act', u'of', u'rage', u'and', u'after', u'seem', u'to', u'chide', u'em', u'this', u'shall', u'make', u'our', u'purpose', u'necessary', u'and', u'not', u'envious', u'which', u'so', u'appearing', u'to', u'the', u'common', u'eyes', u'we', u'shall', u'be', u\"call'd\", u'purgers', u'not', u'murderers', u'and', u'for', u'mark', u'antony', u'think', u'not', u'of', u'him', u'for', u'he', u'can', u'do', u'no', u'more', u'than', u\"caesar's\", u'arm', u'when', u\"caesar's\", u'head', u'is', u'off', u'cassius', u'yet', u'i', u'fear', u'him', u'for', u'in', u'the', u'ingrated', u'love', u'he', u'bears', u'to', u'caesar-', u'brutus', u'alas', u'good', u'cassius', u'do', u'not', u'think', u'of', u'him', u'if', u'he', u'love', u'caesar', u'all', u'that', u'he', u'can', u'do', u'is', u'to', u'himself', u'take', u'thought', u'and', u'die', u'for', u'caesar', u'and', u'that', u'were', u'much', u'he', u'should', u'for', u'he', u'is', u'given', u'to', u'sports', u'to', u'wildness', u'and', u'much', u'company', u'trebonius', u'there', u'is', u'no', u'fear', u'in', u'him-let', u'him', u'not', u'die', u'for', u'he', u'will', u'live', u'and', u'laugh', u'at', u'this', u'hereafter', u'clock', u'strikes', u'brutus', u'peace', u'count', u'the', u'clock', u'cassius', u'the', u'clock', u'hath', u'stricken', u'three', u'trebonius', u'tis', u'time', u'to', u'part', u'cassius', u'but', u'it', u'is', u'doubtful', u'yet', u'whether', u'caesar', u'will', u'come', u'forth', u'today', u'or', u'no', u'for', u'he', u'is', u'superstitious', u'grown', u'of', u'late', u'quite', u'from', u'the', u'main', u'opinion', u'he', u'held', u'once', u'of', u'fantasy', u'of', u'dreams', u'and', u'ceremonies', u'it', u'may', u'be', u'these', u'apparent', u'prodigies', u'the', u\"unaccustom'd\", u'terror', u'of', u'this', u'night', u'and', u'the', u'persuasion', u'of', u'his', u'augurers', u'may', u'hold', u'him', u'from', u'the', u'capitol', u'today', u'decius', u'never', u'fear', u'that', u'if', u'he', u'be', u'so', u'resolved', u'i', u'can', u\"o'ersway\", u'him', u'for', u'he', u'loves', u'to', u'hear', u'that', u'unicorns', u'may', u'be', u\"betray'd\", u'with', u'trees', u'and', u'bears', u'with', u'glasses', u'elephants', u'with', u'holes', u'lions', u'with', u'toils', u'and', u'men', u'with', u'flatterers;', u'but', u'when', u'i', u'tell', u'him', u'he', u'hates', u'flatterers', u'he', u'says', u'he', u'does', u'being', u'then', u'most', u'flattered', u'let', u'me', u'work;', u'for', u'i', u'can', u'give', u'his', u'humor', u'the', u'true', u'bent', u'and', u'i', u'will', u'bring', u'him', u'to', u'the', u'capitol', u'cassius', u'nay', u'we', u'will', u'all', u'of', u'us', u'be', u'there', u'to', u'fetch', u'him', u'brutus', u'by', u'the', u'eighth', u'hour', u'is', u'that', u'the', u'utter', u'most', u'cinna', u'be', u'that', u'the', u'uttermost', u'and', u'fail', u'not', u'then', u'metellus', u'caius', u'ligarius', u'doth', u'bear', u'caesar', u'hard', u'who', u'rated', u'him', u'for', u'speaking', u'well', u'of', u'pompey', u'i', u'wonder', u'none', u'of', u'you', u'have', u'thought', u'of', u'him', u'brutus', u'now', u'good', u'metellus', u'go', u'along', u'by', u'him', u'he', u'loves', u'me', u'well', u'and', u'i', u'have', u'given', u'him', u'reasons;', u'send', u'him', u'but', u'hither', u'and', u\"i'll\", u'fashion', u'him', u'cassius', u'the', u'morning', u'comes', u'upon', u's', u\"we'll\", u'leave', u'you', u'brutus', u'and', u'friends', u'disperse', u'yourselves', u'but', u'all', u'remember', u'what', u'you', u'have', u'said', u'and', u'show', u'yourselves', u'true', u'romans', u'brutus', u'good', u'gentlemen', u'look', u'fresh', u'and', u'merrily;', u'let', u'not', u'our', u'looks', u'put', u'on', u'our', u'purposes', u'but', u'bear', u'it', u'as', u'our', u'roman', u'actors', u'do', u'with', u'untired', u'spirits', u'and', u'formal', u'constancy', u'and', u'so', u'good', u'morrow', u'to', u'you', u'every', u'one', u'exeunt', u'all', u'but', u'brutus', u'boy', u'lucius', u'fast', u'asleep', u'it', u'is', u'no', u'matter', u'enjoy', u'the', u'honey-heavy', u'dew', u'of', u'slumber;', u'thou', u'hast', u'no', u'figures', u'nor', u'no', u'fantasies', u'which', u'busy', u'care', u'draws', u'in', u'the', u'brains', u'of', u'men;', u'therefore', u'thou', u\"sleep'st\", u'so', u'sound', u'enter', u'portia', u'portia', u'brutus', u'my', u'lord', u'brutus', u'portia', u'what', u'mean', u'you', u'wherefore', u'rise', u'you', u'now', u'it', u'is', u'not', u'for', u'your', u'health', u'thus', u'to', u'commit', u'your', u'weak', u'condition', u'to', u'the', u'raw', u'cold', u'morning', u'portia', u'nor', u'for', u'yours', u'neither', u'have', u'ungently', u'brutus', u'stole', u'from', u'my', u'bed;', u'and', u'yesternight', u'at', u'supper', u'you', u'suddenly', u'arose', u'and', u\"walk'd\", u'about', u'musing', u'and', u'sighing', u'with', u'your', u'arms', u'across;', u'and', u'when', u'i', u\"ask'd\", u'you', u'what', u'the', u'matter', u'was', u'you', u'stared', u'upon', u'me', u'with', u'ungentle', u'looks', u'i', u'urged', u'you', u'further;', u'then', u'you', u\"scratch'd\", u'your', u'head', u'and', u'too', u'impatiently', u\"stamp'd\", u'with', u'your', u'foot', u'yet', u'i', u'insisted', u'yet', u'you', u\"answer'd\", u'not', u'but', u'with', u'an', u'angry', u'waiter', u'of', u'your', u'hand', u'gave', u'sign', u'for', u'me', u'to', u'leave', u'you', u'so', u'i', u'did', u'fearing', u'to', u'strengthen', u'that', u'impatience', u'which', u\"seem'd\", u'too', u'much', u'enkindled', u'and', u'withal', u'hoping', u'it', u'was', u'but', u'an', u'effect', u'of', u'humor', u'which', u'sometime', u'hath', u'his', u'hour', u'with', u'every', u'man', u'it', u'will', u'not', u'let', u'you', u'eat', u'nor', u'talk', u'nor', u'sleep', u'and', u'could', u'it', u'work', u'so', u'much', u'upon', u'your', u'shape', u'as', u'it', u'hath', u'much', u\"prevail'd\", u'on', u'your', u'condition', u'i', u'should', u'not', u'know', u'you', u'brutus', u'dear', u'my', u'lord', u'make', u'me', u'acquainted', u'with', u'your', u'cause', u'of', u'grief', u'brutus', u'i', u'am', u'not', u'well', u'in', u'health', u'and', u'that', u'is', u'all', u'portia', u'brutus', u'is', u'wise', u'and', u'were', u'he', u'not', u'in', u'health', u'he', u'would', u'embrace', u'the', u'means', u'to', u'come', u'by', u'it', u'brutus', u'why', u'so', u'i', u'do', u'good', u'portia', u'go', u'to', u'bed', u'portia', u'is', u'brutus', u'sick', u'and', u'is', u'it', u'physical', u'to', u'walk', u'unbraced', u'and', u'suck', u'up', u'the', u'humors', u'of', u'the', u'dank', u'morning', u'what', u'is', u'brutus', u'sick', u'and', u'will', u'he', u'steal', u'out', u'of', u'his', u'wholesome', u'bed', u'to', u'dare', u'the', u'vile', u'contagion', u'of', u'the', u'night', u'and', u'tempt', u'the', u'rheumy', u'and', u'unpurged', u'air', u'to', u'add', u'unto', u'his', u'sickness', u'no', u'my', u'brutus', u'you', u'have', u'some', u'sick', u'offense', u'within', u'your', u'mind', u'which', u'by', u'the', u'right', u'and', u'virtue', u'of', u'my', u'place', u'i', u'ought', u'to', u'know', u'of;', u'and', u'upon', u'my', u'knees', u'i', u'charm', u'you', u'by', u'my', u'once', u'commended', u'beauty', u'by', u'all', u'your', u'vows', u'of', u'love', u'and', u'that', u'great', u'vow', u'which', u'did', u'incorporate', u'and', u'make', u'us', u'one', u'that', u'you', u'unfold', u'to', u'me', u'yourself', u'your', u'half', u'why', u'you', u'are', u'heavy', u'and', u'what', u'men', u'tonight', u'have', u'had', u'resort', u'to', u'you;', u'for', u'here', u'have', u'been', u'some', u'six', u'or', u'seven', u'who', u'did', u'hide', u'their', u'faces', u'even', u'from', u'darkness', u'brutus', u'kneel', u'not', u'gentle', u'portia', u'portia', u'i', u'should', u'not', u'need', u'if', u'you', u'were', u'gentle', u'brutus', u'within', u'the', u'bond', u'of', u'marriage', u'tell', u'me', u'brutus', u'is', u'it', u'excepted', u'i', u'should', u'know', u'no', u'secrets', u'that', u'appertain', u'to', u'you', u'am', u'i', u'yourself', u'but', u'as', u'it', u'were', u'in', u'sort', u'or', u'limitation', u'to', u'keep', u'with', u'you', u'at', u'meals', u'comfort', u'your', u'bed', u'and', u'talk', u'to', u'you', u'sometimes', u'dwell', u'i', u'but', u'in', u'the', u'suburbs', u'of', u'your', u'good', u'pleasure', u'if', u'it', u'be', u'no', u'more', u'portia', u'is', u'brutus', u'harlot', u'not', u'his', u'wife', u'brutus', u'you', u'are', u'my', u'true', u'and', u'honorable', u'wife', u'as', u'dear', u'to', u'me', u'as', u'are', u'the', u'ruddy', u'drops', u'that', u'visit', u'my', u'sad', u'heart', u'portia', u'if', u'this', u'were', u'true', u'then', u'should', u'i', u'know', u'this', u'secret', u'i', u'grant', u'i', u'am', u'a', u'woman', u'but', u'withal', u'a', u'woman', u'that', u'lord', u'brutus', u'took', u'to', u'wife', u'i', u'grant', u'i', u'am', u'a', u'woman', u'but', u'withal', u'a', u'woman', u'well', u'reputed', u\"cato's\", u'daughter', u'think', u'you', u'i', u'am', u'no', u'stronger', u'than', u'my', u'sex', u'being', u'so', u\"father'd\", u'and', u'so', u'husbanded', u'tell', u'me', u'your', u'counsels', u'i', u'will', u'not', u'disclose', u'em', u'i', u'have', u'made', u'strong', u'proof', u'of', u'my', u'constancy', u'giving', u'myself', u'a', u'voluntary', u'wound', u'here', u'in', u'the', u'thigh', u'can', u'i', u'bear', u'that', u'with', u'patience', u'and', u'not', u'my', u\"husband's\", u'secrets', u'brutus', u'o', u'ye', u'gods', u'render', u'me', u'worthy', u'of', u'this', u'noble', u'wife', u'knocking', u'within', u'hark', u'hark', u'one', u'knocks', u'portia', u'go', u'in', u'awhile', u'and', u'by', u'and', u'by', u'thy', u'bosom', u'shall', u'partake', u'the', u'secrets', u'of', u'my', u'heart', u'all', u'my', u'engagements', u'i', u'will', u'construe', u'to', u'thee', u'all', u'the', u'charactery', u'of', u'my', u'sad', u'brows', u'leave', u'me', u'with', u'haste', u'exit', u'portia', u'lucius', u\"who's\", u'that', u'knocks', u're-enter', u'lucius', u'with', u'ligarius', u'lucius', u'here', u'is', u'a', u'sick', u'man', u'that', u'would', u'speak', u'with', u'you', u'brutus', u'caius', u'ligarius', u'that', u'metellus', u'spake', u'of', u'boy', u'stand', u'aside', u'caius', u'ligarius', u'how', u'ligarius', u'vouchsafe', u'good', u'morrow', u'from', u'a', u'feeble', u'tongue', u'brutus', u'o', u'what', u'a', u'time', u'have', u'you', u'chose', u'out', u'brave', u'caius', u'to', u'wear', u'a', u'kerchief', u'would', u'you', u'were', u'not', u'sick', u'ligarius', u'i', u'am', u'not', u'sick', u'if', u'brutus', u'have', u'in', u'hand', u'any', u'exploit', u'worthy', u'the', u'name', u'of', u'honor', u'brutus', u'such', u'an', u'exploit', u'have', u'i', u'in', u'hand', u'ligarius', u'had', u'you', u'a', u'healthful', u'ear', u'to', u'hear', u'of', u'it', u'ligarius', u'by', u'all', u'the', u'gods', u'that', u'romans', u'bow', u'before', u'i', u'here', u'discard', u'my', u'sickness', u'soul', u'of', u'rome', u'brave', u'son', u'derived', u'from', u'honorable', u'loins', u'thou', u'like', u'an', u'exorcist', u'hast', u'conjured', u'up', u'my', u'mortified', u'spirit', u'now', u'bid', u'me', u'run', u'and', u'i', u'will', u'strive', u'with', u'things', u'impossible', u'yea', u'get', u'the', u'better', u'of', u'them', u\"what's\", u'to', u'do', u'brutus', u'a', u'piece', u'of', u'work', u'that', u'will', u'make', u'sick', u'men', u'whole', u'ligarius', u'but', u'are', u'not', u'some', u'whole', u'that', u'we', u'must', u'make', u'sick', u'brutus', u'that', u'must', u'we', u'also', u'what', u'it', u'is', u'my', u'caius', u'i', u'shall', u'unfold', u'to', u'thee', u'as', u'we', u'are', u'going', u'to', u'whom', u'it', u'must', u'be', u'done', u'ligarius', u'set', u'on', u'your', u'foot', u'and', u'with', u'a', u'heart', u'new-fired', u'i', u'follow', u'you', u'to', u'do', u'i', u'know', u'not', u'what;', u'but', u'it', u'sufficeth', u'that', u'brutus', u'leads', u'me', u'on', u'brutus', u'follow', u'me', u'then', u'exeunt', u'scene', u'ii', u\"caesar's\", u'house', u'thunder', u'and', u'lightning', u'enter', u'caesar', u'in', u'his', u'nightgown', u'caesar', u'nor', u'heaven', u'nor', u'earth', u'have', u'been', u'at', u'peace', u'tonight', u'thrice', u'hath', u'calpurnia', u'in', u'her', u'sleep', u'cried', u'out', u'help', u'ho', u'they', u'murther', u'caesar', u\"who's\", u'within', u'enter', u'a', u'servant', u'servant', u'my', u'lord', u'caesar', u'go', u'bid', u'the', u'priests', u'do', u'present', u'sacrifice', u'and', u'bring', u'me', u'their', u'opinions', u'of', u'success', u'servant', u'i', u'will', u'my', u'lord', u'exit', u'enter', u'calpurnia', u'calpurnia', u'what', u'mean', u'you', u'caesar', u'think', u'you', u'to', u'walk', u'forth', u'you', u'shall', u'not', u'stir', u'out', u'of', u'your', u'house', u'today', u'caesar', u'caesar', u'shall', u'forth:', u'the', u'things', u'that', u\"threaten'd\", u'me', u\"ne'er\", u\"look'd\", u'but', u'on', u'my', u'back;', u'when', u'they', u'shall', u'see', u'the', u'face', u'of', u'caesar', u'they', u'are', u'vanished', u'calpurnia', u'caesar', u'i', u'i', u'stood', u'on', u'ceremonies', u'yet', u'now', u'they', u'fright', u'me', u'there', u'is', u'one', u'within', u'besides', u'the', u'things', u'that', u'we', u'have', u'heard', u'and', u'seen', u'recounts', u'most', u'horrid', u'sights', u'seen', u'by', u'the', u'watch', u'a', u'lioness', u'hath', u'whelped', u'in', u'the', u'streets;', u'and', u'graves', u'have', u\"yawn'd\", u'and', u'yielded', u'up', u'their', u'dead;', u'fierce', u'fiery', u'warriors', u'fight', u'upon', u'the', u'clouds', u'in', u'ranks', u'and', u'squadrons', u'and', u'right', u'form', u'of', u'war', u'which', u'drizzled', u'blood', u'upon', u'the', u'capitol;', u'the', u'noise', u'of', u'battle', u'hurtled', u'in', u'the', u'air', u'horses', u'did', u'neigh', u'and', u'dying', u'men', u'did', u'groan', u'and', u'ghosts', u'did', u'shriek', u'and', u'squeal', u'about', u'the', u'streets', u'o', u'caesar', u'these', u'things', u'are', u'beyond', u'all', u'use', u'and', u'i', u'do', u'fear', u'them', u'caesar', u'what', u'can', u'be', u'avoided', u'whose', u'end', u'is', u'purposed', u'by', u'the', u'mighty', u'gods', u'yet', u'caesar', u'shall', u'go', u'forth', u'for', u'these', u'predictions', u'are', u'to', u'the', u'world', u'in', u'general', u'as', u'to', u'caesar', u'calpurnia', u'when', u'beggars', u'die', u'there', u'are', u'no', u'comets', u'seen;', u'the', u'heavens', u'themselves', u'blaze', u'forth', u'the', u'death', u'of', u'princes', u'caesar', u'cowards', u'die', u'many', u'times', u'before', u'their', u'deaths;', u'the', u'valiant', u'never', u'taste', u'of', u'death', u'but', u'once', u'of', u'all', u'the', u'wonders', u'that', u'i', u'yet', u'have', u'heard', u'it', u'seems', u'to', u'me', u'most', u'strange', u'that', u'men', u'should', u'fear', u'seeing', u'that', u'death', u'a', u'necessary', u'end', u'will', u'come', u'when', u'it', u'will', u'come', u're-enter', u'servant', u'what', u'say', u'the', u'augurers', u'servant', u'they', u'would', u'not', u'have', u'you', u'to', u'stir', u'forth', u'today', u'plucking', u'the', u'entrails', u'of', u'an', u'offering', u'forth', u'they', u'could', u'not', u'find', u'a', u'heart', u'within', u'the', u'beast', u'caesar', u'the', u'gods', u'do', u'this', u'in', u'shame', u'of', u'cowardice', u'caesar', u'should', u'be', u'a', u'beast', u'without', u'a', u'heart', u'if', u'he', u'should', u'stay', u'at', u'home', u'today', u'for', u'fear', u'no', u'caesar', u'shall', u'not', u'danger', u'knows', u'full', u'well', u'that', u'caesar', u'is', u'more', u'dangerous', u'than', u'he', u'we', u'are', u'two', u'lions', u\"litter'd\", u'in', u'one', u'day', u'and', u'i', u'the', u'elder', u'and', u'more', u'terrible', u'and', u'caesar', u'shall', u'go', u'forth', u'calpurnia', u'alas', u'my', u'lord', u'your', u'wisdom', u'is', u'consumed', u'in', u'confidence', u'do', u'not', u'go', u'forth', u'today', u'call', u'it', u'my', u'fear', u'that', u'keeps', u'you', u'in', u'the', u'house', u'and', u'not', u'your', u'own', u\"we'll\", u'send', u'mark', u'antony', u'to', u'the', u'senate', u'house', u'and', u'he', u'shall', u'say', u'you', u'are', u'not', u'well', u'today', u'let', u'me', u'upon', u'my', u'knee', u'prevail', u'in', u'this', u'caesar', u'mark', u'antony', u'shall', u'say', u'i', u'am', u'not', u'well', u'and', u'for', u'thy', u'humor', u'i', u'will', u'stay', u'at', u'home', u'enter', u'decius', u\"here's\", u'decius', u'brutus', u'he', u'shall', u'tell', u'them', u'so', u'decius', u'caesar', u'all', u'hail', u'good', u'morrow', u'worthy', u'caesar', u'i', u'come', u'to', u'fetch', u'you', u'to', u'the', u'senate', u'house', u'caesar', u'and', u'you', u'are', u'come', u'in', u'very', u'happy', u'time', u'to', u'bear', u'my', u'greeting', u'to', u'the', u'senators', u'and', u'tell', u'them', u'that', u'i', u'will', u'not', u'come', u'today', u'cannot', u'is', u'false', u'and', u'that', u'i', u'dare', u'not', u'falser:', u'i', u'will', u'not', u'come', u'today', u'tell', u'them', u'so', u'decius', u'calpurnia', u'say', u'he', u'is', u'sick', u'caesar', u'shall', u'caesar', u'send', u'a', u'lie', u'have', u'i', u'in', u'conquest', u\"stretch'd\", u'mine', u'arm', u'so', u'far', u'to', u'be', u'afeard', u'to', u'tell', u'greybeards', u'the', u'truth', u'decius', u'go', u'tell', u'them', u'caesar', u'will', u'not', u'come', u'decius', u'most', u'mighty', u'caesar', u'let', u'me', u'know', u'some', u'cause', u'lest', u'i', u'be', u\"laugh'd\", u'at', u'when', u'i', u'tell', u'them', u'so', u'caesar', u'the', u'cause', u'is', u'in', u'my', u'will:', u'i', u'will', u'not', u'come', u'that', u'is', u'enough', u'to', u'satisfy', u'the', u'senate', u'but', u'for', u'your', u'private', u'satisfaction', u'because', u'i', u'love', u'you', u'i', u'will', u'let', u'you', u'know', u'calpurnia', u'here', u'my', u'wife', u'stays', u'me', u'at', u'home;', u'she', u'dreamt', u'tonight', u'she', u'saw', u'my', u'statue', u'which', u'like', u'a', u'fountain', u'with', u'an', u'hundred', u'spouts', u'did', u'run', u'pure', u'blood', u'and', u'many', u'lusty', u'romans', u'came', u'smiling', u'and', u'did', u'bathe', u'their', u'hands', u'in', u'it', u'and', u'these', u'does', u'she', u'apply', u'for', u'warnings', u'and', u'portents', u'and', u'evils', u'imminent', u'and', u'on', u'her', u'knee', u'hath', u\"begg'd\", u'that', u'i', u'will', u'stay', u'at', u'home', u'today', u'decius', u'this', u'dream', u'is', u'all', u'amiss', u'interpreted;', u'it', u'was', u'a', u'vision', u'fair', u'and', u'fortunate', u'your', u'statue', u'spouting', u'blood', u'in', u'many', u'pipes', u'in', u'which', u'so', u'many', u'smiling', u'romans', u'bathed', u'signifies', u'that', u'from', u'you', u'great', u'rome', u'shall', u'suck', u'reviving', u'blood', u'and', u'that', u'great', u'men', u'shall', u'press', u'for', u'tinctures', u'stains', u'relics', u'and', u'cognizance', u'this', u'by', u\"calpurnia's\", u'dream', u'is', u'signified', u'caesar', u'and', u'this', u'way', u'have', u'you', u'well', u'expounded', u'it', u'decius', u'i', u'have', u'when', u'you', u'have', u'heard', u'what', u'i', u'can', u'say', u'and', u'know', u'it', u'now', u'the', u'senate', u'have', u'concluded', u'to', u'give', u'this', u'day', u'a', u'crown', u'to', u'mighty', u'caesar', u'if', u'you', u'shall', u'send', u'them', u'word', u'you', u'will', u'not', u'come', u'their', u'minds', u'may', u'change', u'besides', u'it', u'were', u'a', u'mock', u'apt', u'to', u'be', u\"render'd\", u'for', u'someone', u'to', u'say', u'break', u'up', u'the', u'senate', u'till', u'another', u'time', u'when', u\"caesar's\", u'wife', u'shall', u'meet', u'with', u'better', u'dreams', u'if', u'caesar', u'hide', u'himself', u'shall', u'they', u'not', u'whisper', u'lo', u'caesar', u'is', u'afraid', u'pardon', u'me', u'caesar', u'for', u'my', u'dear', u'dear', u'love', u'to', u'your', u'proceeding', u'bids', u'me', u'tell', u'you', u'this', u'and', u'reason', u'to', u'my', u'love', u'is', u'liable', u'caesar', u'how', u'foolish', u'do', u'your', u'fears', u'seem', u'now', u'calpurnia', u'i', u'am', u'ashamed', u'i', u'did', u'yield', u'to', u'them', u'give', u'me', u'my', u'robe', u'for', u'i', u'will', u'go', u'enter', u'publius', u'brutus', u'ligarius', u'metellus', u'casca', u'trebonius', u'and', u'cinna', u'and', u'look', u'where', u'publius', u'is', u'come', u'to', u'fetch', u'me', u'publius', u'good', u'morrow,caesar', u'caesar', u'welcome', u'publius', u'what', u'brutus', u'are', u'you', u\"stirr'd\", u'so', u'early', u'too', u'good', u'morrow', u'casca', u'caius', u'ligarius', u'caesar', u'was', u\"ne'er\", u'so', u'much', u'your', u'enemy', u'as', u'that', u'same', u'ague', u'which', u'hath', u'made', u'you', u'lean', u'what', u\"is't\", u\"o'clock\", u'brutus', u'caesar', u'tis', u'strucken', u'eight', u'caesar', u'i', u'thank', u'you', u'for', u'your', u'pains', u'and', u'courtesy', u'enter', u'antony', u'see', u'antony', u'that', u'revels', u'long', u'o', u'nights', u'is', u'notwithstanding', u'up', u'good', u'morrow', u'antony', u'antony', u'so', u'to', u'most', u'noble', u'caesar', u'caesar', u'bid', u'them', u'prepare', u'within', u'i', u'am', u'to', u'blame', u'to', u'be', u'thus', u'waited', u'for', u'now', u'cinna;', u'now', u'metellus;', u'what', u'trebonius', u'i', u'have', u'an', u\"hour's\", u'talk', u'in', u'store', u'for', u'you;', u'remember', u'that', u'you', u'call', u'on', u'me', u'today;', u'be', u'near', u'me', u'that', u'i', u'may', u'remember', u'you', u'trebonius', u'caesar', u'i', u'will', u'aside', u'and', u'so', u'near', u'will', u'i', u'be', u'that', u'your', u'best', u'friends', u'shall', u'wish', u'i', u'had', u'been', u'further', u'caesar', u'good', u'friends', u'go', u'in', u'and', u'taste', u'some', u'wine', u'with', u'me', u'and', u'we', u'like', u'friends', u'will', u'straightway', u'go', u'together', u'brutus', u'aside', u'that', u'every', u'like', u'is', u'not', u'the', u'same', u'o', u'caesar', u'the', u'heart', u'of', u'brutus', u'yearns', u'to', u'think', u'upon', u'exeunt', u'scene', u'iii', u'a', u'street', u'near', u'the', u'capitol', u'enter', u'artemidorus', u'reading', u'paper', u'artemidorus', u'caesar', u'beware', u'of', u'brutus;', u'take', u'heed', u'of', u'cassius;', u'come', u'not', u'near', u'casca;', u'have', u'an', u'eye', u'to', u'cinna;', u'trust', u'not', u'trebonius;', u'mark', u'well', u'metellus', u'cimber;', u'decius', u'brutus', u'loves', u'thee', u'not;', u'thou', u'hast', u'wronged', u'caius', u'ligarius', u'there', u'is', u'but', u'one', u'mind', u'in', u'all', u'these', u'men', u'and', u'it', u'is', u'bent', u'against', u'caesar', u'if', u'thou', u'beest', u'not', u'immortal', u'look', u'about', u'you', u'security', u'gives', u'way', u'to', u'conspiracy', u'the', u'mighty', u'gods', u'defend', u'thee', u'thy', u'lover', u'artemidorus', u'here', u'will', u'i', u'stand', u'till', u'caesar', u'pass', u'along', u'and', u'as', u'a', u'suitor', u'will', u'i', u'give', u'him', u'this', u'my', u'heart', u'laments', u'that', u'virtue', u'cannot', u'live', u'out', u'of', u'the', u'teeth', u'of', u'emulation', u'if', u'thou', u'read', u'this', u'o', u'caesar', u'thou', u'mayest', u'live;', u'if', u'not', u'the', u'fates', u'with', u'traitors', u'do', u'contrive', u'exit', u'scene', u'iv', u'another', u'part', u'of', u'the', u'same', u'street', u'before', u'the', u'house', u'of', u'brutus', u'enter', u'portia', u'and', u'lucius', u'portia', u'i', u'prithee', u'boy', u'run', u'to', u'the', u'senate', u'house;', u'stay', u'not', u'to', u'answer', u'me', u'but', u'get', u'thee', u'gone', u'why', u'dost', u'thou', u'stay', u'lucius', u'to', u'know', u'my', u'errand', u'madam', u'portia', u'i', u'would', u'have', u'had', u'thee', u'there', u'and', u'here', u'again', u'ere', u'i', u'can', u'tell', u'thee', u'what', u'thou', u'shouldst', u'do', u'there', u'o', u'constancy', u'be', u'strong', u'upon', u'my', u'side', u'set', u'a', u'huge', u'mountain', u'tween', u'my', u'heart', u'and', u'tongue', u'i', u'have', u'a', u\"man's\", u'mind', u'but', u'a', u\"woman's\", u'might', u'how', u'hard', u'it', u'is', u'for', u'women', u'to', u'keep', u'counsel', u'art', u'thou', u'here', u'yet', u'lucius', u'madam', u'what', u'should', u'i', u'do', u'run', u'to', u'the', u'capitol', u'and', u'nothing', u'else', u'and', u'so', u'return', u'to', u'you', u'and', u'nothing', u'else', u'portia', u'yes', u'bring', u'me', u'word', u'boy', u'if', u'thy', u'lord', u'look', u'well', u'for', u'he', u'went', u'sickly', u'forth;', u'and', u'take', u'good', u'note', u'what', u'caesar', u'doth', u'what', u'suitors', u'press', u'to', u'him', u'hark', u'boy', u'what', u'noise', u'is', u'that', u'lucius', u'i', u'hear', u'none', u'madam', u'portia', u'prithee', u'listen', u'well', u'i', u'heard', u'a', u'bustling', u'rumor', u'like', u'a', u'fray', u'and', u'the', u'wind', u'brings', u'it', u'from', u'the', u'capitol', u'lucius', u'sooth', u'madam', u'i', u'hear', u'nothing', u'enter', u'the', u'soothsayer', u'portia', u'come', u'hither', u'fellow;', u'which', u'way', u'hast', u'thou', u'been', u'soothsayer', u'at', u'mine', u'own', u'house', u'good', u'lady', u'portia', u'what', u\"is't\", u\"o'clock\", u'soothsayer', u'about', u'the', u'ninth', u'hour', u'lady', u'portia', u'is', u'caesar', u'yet', u'gone', u'to', u'the', u'capitol', u'soothsayer', u'madam', u'not', u'yet', u'i', u'go', u'to', u'take', u'my', u'stand', u'to', u'see', u'him', u'pass', u'on', u'to', u'the', u'capitol', u'portia', u'thou', u'hast', u'some', u'suit', u'to', u'caesar', u'hast', u'thou', u'not', u'soothsayer', u'that', u'i', u'have', u'lady', u'if', u'it', u'will', u'please', u'caesar', u'to', u'be', u'so', u'good', u'to', u'caesar', u'as', u'to', u'hear', u'me', u'i', u'shall', u'beseech', u'him', u'to', u'befriend', u'himself', u'portia', u'why', u\"know'st\", u'thou', u'any', u\"harm's\", u'intended', u'towards', u'him', u'soothsayer', u'none', u'that', u'i', u'know', u'will', u'be', u'much', u'that', u'i', u'fear', u'may', u'chance', u'good', u'morrow', u'to', u'you', u'here', u'the', u'street', u'is', u'narrow', u'the', u'throng', u'that', u'follows', u'caesar', u'at', u'the', u'heels', u'of', u'senators', u'of', u'praetors', u'common', u'suitors', u'will', u'crowd', u'a', u'feeble', u'man', u'almost', u'to', u'death', u\"i'll\", u'get', u'me', u'to', u'a', u'place', u'more', u'void', u'and', u'there', u'speak', u'to', u'great', u'caesar', u'as', u'he', u'comes', u'along', u'exit', u'portia', u'i', u'must', u'go', u'in', u'ay', u'me', u'how', u'weak', u'a', u'thing', u'the', u'heart', u'of', u'woman', u'is', u'o', u'brutus', u'the', u'heavens', u'speed', u'thee', u'in', u'thine', u'enterprise', u'sure', u'the', u'boy', u'heard', u'me', u'brutus', u'hath', u'a', u'suit', u'that', u'caesar', u'will', u'not', u'grant', u'o', u'i', u'grow', u'faint', u'run', u'lucius', u'and', u'commend', u'me', u'to', u'my', u'lord;', u'say', u'i', u'am', u'merry', u'come', u'to', u'me', u'again', u'and', u'bring', u'me', u'word', u'what', u'he', u'doth', u'say', u'to', u'thee', u'exeunt', u'severally', u'<<this', u'electronic', u'version', u'of', u'the', u'complete', u'works', u'of', u'william', u'shakespeare', u'is', u'copyright', u'1990-1993', u'by', u'world', u'library', u'inc', u'and', u'is', u'provided', u'by', u'project', u'gutenberg', u'etext', u'of', u'carnegie', u'mellon', u'university', u'with', u'permission', u'electronic', u'and', u'machine', u'readable', u'copies', u'may', u'be', u'distributed', u'so', u'long', u'as', u'such', u'copies', u'1', u'are', u'for', u'your', u'or', u'others', u'personal', u'use', u'only', u'and', u'2', u'are', u'not', u'distributed', u'or', u'used', u'commercially', u'prohibited', u'commercial', u'distribution', u'includes', u'by', u'any', u'service', u'that', u'charges', u'for', u'download', u'time', u'or', u'for', u'membership.>>', u'act', u'iii', u'scene', u'i', u'rome', u'before', u'the', u'capitol;', u'the', u'senate', u'sitting', u'above', u'a', u'crowd', u'of', u'people', u'among', u'them', u'artemidorus', u'and', u'the', u'soothsayer', u'flourish', u'enter', u'caesar', u'brutus', u'cassius', u'casca', u'decius', u'metellus', u'trebonius', u'cinna', u'antony', u'lepidus', u'popilius', u'publius', u'and', u'others', u'caesar', u'the', u'ides', u'of', u'march', u'are', u'come', u'soothsayer', u'ay', u'caesar', u'but', u'not', u'gone', u'a', u'hail', u'caesar', u'read', u'this', u'schedule', u'decius', u'trebonius', u'doth', u'desire', u'you', u'to', u\"o'er\", u'read', u'at', u'your', u'best', u'leisure', u'this', u'his', u'humble', u'suit', u'artemidorus', u'o', u'caesar', u'read', u'mine', u'first', u'for', u\"mine's\", u'a', u'suit', u'that', u'touches', u'caesar', u'nearer', u'read', u'it', u'great', u'caesar', u'caesar', u'what', u'touches', u'us', u'ourself', u'shall', u'be', u'last', u'served', u'artemidorus', u'delay', u'not', u'caesar;', u'read', u'it', u'instantly', u'caesar', u'what', u'is', u'the', u'fellow', u'mad', u'publius', u'sirrah', u'give', u'place', u'cassius', u'what', u'urge', u'you', u'your', u'petitions', u'in', u'the', u'street', u'come', u'to', u'the', u'capitol', u'caesar', u'goes', u'up', u'to', u'the', u'senate', u'house', u'the', u'rest', u'follow', u'popilius', u'i', u'wish', u'your', u'enterprise', u'today', u'may', u'thrive', u'cassius', u'what', u'enterprise', u'popilius', u'popilius', u'fare', u'you', u'well', u'advances', u'to', u'caesar', u'brutus', u'what', u'said', u'popilius', u'lena', u'cassius', u'he', u\"wish'd\", u'today', u'our', u'enterprise', u'might', u'thrive', u'i', u'fear', u'our', u'purpose', u'is', u'discovered', u'brutus', u'look', u'how', u'he', u'makes', u'to', u'caesar', u'mark', u'him', u'cassius', u'casca', u'be', u'sudden', u'for', u'we', u'fear', u'prevention', u'brutus', u'what', u'shall', u'be', u'done', u'if', u'this', u'be', u'known', u'cassius', u'or', u'caesar', u'never', u'shall', u'turn', u'back', u'for', u'i', u'will', u'slay', u'myself', u'brutus', u'cassius', u'be', u'constant', u'popilius', u'lena', u'speaks', u'not', u'of', u'our', u'purposes;', u'for', u'look', u'he', u'smiles', u'and', u'caesar', u'doth', u'not', u'change', u'cassius', u'trebonius', u'knows', u'his', u'time', u'for', u'look', u'you', u'brutus', u'he', u'draws', u'mark', u'antony', u'out', u'of', u'the', u'way', u'exeunt', u'antony', u'and', u'trebonius', u'decius', u'where', u'is', u'metellus', u'cimber', u'let', u'him', u'and', u'presently', u'prefer', u'his', u'suit', u'to', u'caesar', u'brutus', u'he', u'is', u\"address'd;\", u'press', u'near', u'and', u'second', u'him', u'cinna', u'casca', u'you', u'are', u'the', u'first', u'that', u'rears', u'your', u'hand', u'caesar', u'are', u'we', u'all', u'ready', u'what', u'is', u'now', u'amiss', u'that', u'caesar', u'and', u'his', u'senate', u'must', u'redress', u'metellus', u'most', u'high', u'most', u'mighty', u'and', u'most', u'puissant', u'caesar', u'metellus', u'cimber', u'throws', u'before', u'thy', u'seat', u'an', u'humble', u'heart', u'kneels', u'caesar', u'i', u'must', u'prevent', u'thee', u'cimber', u'these', u'couchings', u'and', u'these', u'lowly', u'courtesies', u'might', u'fire', u'the', u'blood', u'of', u'ordinary', u'men', u'and', u'turn', u'preordinance', u'and', u'first', u'decree', u'into', u'the', u'law', u'of', u'children', u'be', u'not', u'fond', u'to', u'think', u'that', u'caesar', u'bears', u'such', u'rebel', u'blood', u'that', u'will', u'be', u\"thaw'd\", u'from', u'the', u'true', u'quality', u'with', u'that', u'which', u'melteth', u'fools-', u'i', u'mean', u'sweet', u'words', u'low-crooked', u\"court'sies\", u'and', u'base', u'spaniel-fawning', u'thy', u'brother', u'by', u'decree', u'is', u'banished', u'if', u'thou', u'dost', u'bend', u'and', u'pray', u'and', u'fawn', u'for', u'him', u'i', u'spurn', u'thee', u'like', u'a', u'cur', u'out', u'of', u'my', u'way', u'know', u'caesar', u'doth', u'not', u'wrong', u'nor', u'without', u'cause', u'will', u'he', u'be', u'satisfied', u'metellus', u'is', u'there', u'no', u'voice', u'more', u'worthy', u'than', u'my', u'own', u'to', u'sound', u'more', u'sweetly', u'in', u'great', u\"caesar's\", u'ear', u'for', u'the', u'repealing', u'of', u'my', u\"banish'd\", u'brother', u'brutus', u'i', u'kiss', u'thy', u'hand', u'but', u'not', u'in', u'flattery', u'caesar', u'desiring', u'thee', u'that', u'publius', u'cimber', u'may', u'have', u'an', u'immediate', u'freedom', u'of', u'repeal', u'caesar', u'what', u'brutus', u'cassius', u'pardon', u'caesar', u'caesar', u'pardon', u'as', u'low', u'as', u'to', u'thy', u'foot', u'doth', u'cassius', u'fall', u'to', u'beg', u'enfranchisement', u'for', u'publius', u'cimber', u'caesar', u'i', u'could', u'be', u'well', u'moved', u'if', u'i', u'were', u'as', u'you;', u'if', u'i', u'could', u'pray', u'to', u'move', u'prayers', u'would', u'move', u'me;', u'but', u'i', u'am', u'constant', u'as', u'the', u'northern', u'star', u'of', u'whose', u\"true-fix'd\", u'and', u'resting', u'quality', u'there', u'is', u'no', u'fellow', u'in', u'the', u'firmament', u'the', u'skies', u'are', u'painted', u'with', u\"unnumber'd\", u'sparks;', u'they', u'are', u'all', u'fire', u'and', u'every', u'one', u'doth', u'shine;', u'but', u\"there's\", u'but', u'one', u'in', u'all', u'doth', u'hold', u'his', u'place', u'so', u'in', u'the', u'world', u'tis', u\"furnish'd\", u'well', u'with', u'men', u'and', u'men', u'are', u'flesh', u'and', u'blood', u'and', u'apprehensive;', u'yet', u'in', u'the', u'number', u'i', u'do', u'know', u'but', u'one', u'that', u'unassailable', u'holds', u'on', u'his', u'rank', u'unshaked', u'of', u'motion;', u'and', u'that', u'i', u'am', u'he', u'let', u'me', u'a', u'little', u'show', u'it', u'even', u'in', u'this;', u'that', u'i', u'was', u'constant', u'cimber', u'should', u'be', u\"banish'd\", u'and', u'constant', u'do', u'remain', u'to', u'keep', u'him', u'so', u'cinna', u'o', u'caesar-', u'caesar', u'hence', u'wilt', u'thou', u'lift', u'up', u'olympus', u'decius', u'great', u'caesar-', u'caesar', u'doth', u'not', u'brutus', u'bootless', u'kneel', u'casca', u'speak', u'hands', u'for', u'me', u'casca', u'first', u'then', u'the', u'other', u'conspirators', u'and', u'marcus', u'brutus', u'stab', u'caesar', u'caesar', u'et', u'tu', u'brute?-', u'then', u'fall', u'caesar', u'dies', u'cinna', u'liberty', u'freedom', u'tyranny', u'is', u'dead', u'run', u'hence', u'proclaim', u'cry', u'it', u'about', u'the', u'streets', u'cassius', u'some', u'to', u'the', u'common', u'pulpits', u'and', u'cry', u'out', u'liberty', u'freedom', u'and', u'enfranchisement', u'brutus', u'people', u'and', u'senators', u'be', u'not', u'affrighted', u'fly', u'not', u'stand', u'still;', u\"ambition's\", u'debt', u'is', u'paid', u'casca', u'go', u'to', u'the', u'pulpit', u'brutus', u'decius', u'and', u'cassius', u'too', u'brutus', u\"where's\", u'publius', u'cinna', u'here', u'quite', u'confounded', u'with', u'this', u'mutiny', u'metellus', u'stand', u'fast', u'together', u'lest', u'some', u'friend', u'of', u\"caesar's\", u'should', u'chance-', u'brutus', u'talk', u'not', u'of', u'standing', u'publius', u'good', u'cheer', u'there', u'is', u'no', u'harm', u'intended', u'to', u'your', u'person', u'nor', u'to', u'no', u'roman', u'else', u'so', u'tell', u'them', u'publius', u'cassius', u'and', u'leave', u'us', u'publius', u'lest', u'that', u'the', u'people', u'rushing', u'on', u'us', u'should', u'do', u'your', u'age', u'some', u'mischief', u'brutus', u'do', u'so', u'and', u'let', u'no', u'man', u'abide', u'this', u'deed', u'but', u'we', u'the', u'doers', u're-enter', u'trebonius', u'cassius', u'where', u'is', u'antony', u'trebonius', u'fled', u'to', u'his', u'house', u'amazed', u'men', u'wives', u'and', u'children', u'stare', u'cry', u'out', u'and', u'run', u'as', u'it', u'were', u'doomsday', u'brutus', u'fates', u'we', u'will', u'know', u'your', u'pleasures', u'that', u'we', u'shall', u'die', u'we', u'know;', u'tis', u'but', u'the', u'time', u'and', u'drawing', u'days', u'out', u'that', u'men', u'stand', u'upon', u'cassius', u'why', u'he', u'that', u'cuts', u'off', u'twenty', u'years', u'of', u'life', u'cuts', u'off', u'so', u'many', u'years', u'of', u'fearing', u'death', u'brutus', u'grant', u'that', u'and', u'then', u'is', u'death', u'a', u'benefit;', u'so', u'are', u'we', u\"caesar's\", u'friends', u'that', u'have', u'abridged', u'his', u'time', u'of', u'fearing', u'death', u'stoop', u'romans', u'stoop', u'and', u'let', u'us', u'bathe', u'our', u'hands', u'in', u\"caesar's\", u'blood', u'up', u'to', u'the', u'elbows', u'and', u'besmear', u'our', u'swords;', u'then', u'walk', u'we', u'forth', u'even', u'to', u'the', u'marketplace', u'and', u'waving', u'our', u'red', u'weapons', u\"o'er\", u'our', u'heads', u\"let's\", u'all', u'cry', u'peace', u'freedom', u'and', u'liberty', u'cassius', u'stoop', u'then', u'and', u'wash', u'how', u'many', u'ages', u'hence', u'shall', u'this', u'our', u'lofty', u'scene', u'be', u'acted', u'over', u'in', u'states', u'unborn', u'and', u'accents', u'yet', u'unknown', u'brutus', u'how', u'many', u'times', u'shall', u'caesar', u'bleed', u'in', u'sport', u'that', u'now', u'on', u\"pompey's\", u'basis', u'lies', u'along', u'no', u'worthier', u'than', u'the', u'dust', u'cassius', u'so', u'oft', u'as', u'that', u'shall', u'be', u'so', u'often', u'shall', u'the', u'knot', u'of', u'us', u'be', u\"call'd\", u'the', u'men', u'that', u'gave', u'their', u'country', u'liberty', u'decius', u'what', u'shall', u'we', u'forth', u'cassius', u'ay', u'every', u'man', u'away', u'brutus', u'shall', u'lead', u'and', u'we', u'will', u'grace', u'his', u'heels', u'with', u'the', u'most', u'boldest', u'and', u'best', u'hearts', u'of', u'rome', u'enter', u'a', u'servant', u'brutus', u'soft', u'who', u'comes', u'here', u'a', u'friend', u'of', u\"antony's\", u'servant', u'thus', u'brutus', u'did', u'my', u'master', u'bid', u'me', u'kneel', u'thus', u'did', u'mark', u'antony', u'bid', u'me', u'fall', u'down', u'and', u'being', u'prostrate', u'thus', u'he', u'bade', u'me', u'say:', u'brutus', u'is', u'noble', u'wise', u'valiant', u'and', u'honest;', u'caesar', u'was', u'mighty', u'bold', u'royal', u'and', u'loving', u'say', u'i', u'love', u'brutus', u'and', u'i', u'honor', u'him;', u'say', u'i', u\"fear'd\", u'caesar', u\"honor'd\", u'him', u'and', u'loved', u'him', u'if', u'brutus', u'will', u'vouchsafe', u'that', u'antony', u'may', u'safely', u'come', u'to', u'him', u'and', u'be', u'resolved', u'how', u'caesar', u'hath', u'deserved', u'to', u'lie', u'in', u'death', u'mark', u'antony', u'shall', u'not', u'love', u'caesar', u'dead', u'so', u'well', u'as', u'brutus', u'living', u'but', u'will', u'follow', u'the', u'fortunes', u'and', u'affairs', u'of', u'noble', u'brutus', u'thorough', u'the', u'hazards', u'of', u'this', u'untrod', u'state', u'with', u'all', u'true', u'faith', u'so', u'says', u'my', u'master', u'antony', u'brutus', u'thy', u'master', u'is', u'a', u'wise', u'and', u'valiant', u'roman;', u'i', u'never', u'thought', u'him', u'worse', u'tell', u'him', u'so', u'please', u'him', u'come', u'unto', u'this', u'place', u'he', u'shall', u'be', u'satisfied', u'and', u'by', u'my', u'honor', u'depart', u\"untouch'd\", u'servant', u\"i'll\", u'fetch', u'him', u'presently', u'exit', u'brutus', u'i', u'know', u'that', u'we', u'shall', u'have', u'him', u'well', u'to', u'friend', u'cassius', u'i', u'wish', u'we', u'may', u'but', u'yet', u'have', u'i', u'a', u'mind', u'that', u'fears', u'him', u'much', u'and', u'my', u'misgiving', u'still', u'falls', u'shrewdly', u'to', u'the', u'purpose', u're-enter', u'antony', u'brutus', u'but', u'here', u'comes', u'antony', u'welcome', u'mark', u'antony', u'antony', u'o', u'mighty', u'caesar', u'dost', u'thou', u'lie', u'so', u'low', u'are', u'all', u'thy', u'conquests', u'glories', u'triumphs', u'spoils', u'shrunk', u'to', u'this', u'little', u'measure', u'fare', u'thee', u'well', u'i', u'know', u'not', u'gentlemen', u'what', u'you', u'intend', u'who', u'else', u'must', u'be', u'let', u'blood', u'who', u'else', u'is', u'rank', u'if', u'i', u'myself', u'there', u'is', u'no', u'hour', u'so', u'fit', u'as', u\"caesar's\", u\"death's\", u'hour', u'nor', u'no', u'instrument', u'of', u'half', u'that', u'worth', u'as', u'those', u'your', u'swords', u'made', u'rich', u'with', u'the', u'most', u'noble', u'blood', u'of', u'all', u'this', u'world', u'i', u'do', u'beseech', u'ye', u'if', u'you', u'bear', u'me', u'hard', u'now', u'whilst', u'your', u'purpled', u'hands', u'do', u'reek', u'and', u'smoke', u'fulfill', u'your', u'pleasure', u'live', u'a', u'thousand', u'years', u'i', u'shall', u'not', u'find', u'myself', u'so', u'apt', u'to', u'die;', u'no', u'place', u'will', u'please', u'me', u'so', u'no', u'means', u'of', u'death', u'as', u'here', u'by', u'caesar', u'and', u'by', u'you', u'cut', u'off', u'the', u'choice', u'and', u'master', u'spirits', u'of', u'this', u'age', u'brutus', u'o', u'antony', u'beg', u'not', u'your', u'death', u'of', u'us', u'though', u'now', u'we', u'must', u'appear', u'bloody', u'and', u'cruel', u'as', u'by', u'our', u'hands', u'and', u'this', u'our', u'present', u'act', u'you', u'see', u'we', u'do', u'yet', u'see', u'you', u'but', u'our', u'hands', u'and', u'this', u'the', u'bleeding', u'business', u'they', u'have', u'done', u'our', u'hearts', u'you', u'see', u'not;', u'they', u'are', u'pitiful;', u'and', u'pity', u'to', u'the', u'general', u'wrong', u'of', u'rome-', u'as', u'fire', u'drives', u'out', u'fire', u'so', u'pity', u'pity-', u'hath', u'done', u'this', u'deed', u'on', u'caesar', u'for', u'your', u'part', u'to', u'you', u'our', u'swords', u'have', u'leaden', u'points', u'mark', u'antony;', u'our', u'arms', u'in', u'strength', u'of', u'malice', u'and', u'our', u'hearts', u'of', u'brothers', u'temper', u'do', u'receive', u'you', u'in', u'with', u'all', u'kind', u'love', u'good', u'thoughts', u'and', u'reverence', u'cassius', u'your', u'voice', u'shall', u'be', u'as', u'strong', u'as', u'any', u\"man's\", u'in', u'the', u'disposing', u'of', u'new', u'dignities', u'brutus', u'only', u'be', u'patient', u'till', u'we', u'have', u'appeased', u'the', u'multitude', u'beside', u'themselves', u'with', u'fear', u'and', u'then', u'we', u'will', u'deliver', u'you', u'the', u'cause', u'why', u'i', u'that', u'did', u'love', u'caesar', u'when', u'i', u'struck', u'him', u'have', u'thus', u'proceeded', u'antony', u'i', u'doubt', u'not', u'of', u'your', u'wisdom', u'let', u'each', u'man', u'render', u'me', u'his', u'bloody', u'hand', u'first', u'marcus', u'brutus', u'will', u'i', u'shake', u'with', u'you;', u'next', u'caius', u'cassius', u'do', u'i', u'take', u'your', u'hand;', u'now', u'decius', u'brutus', u'yours;', u'now', u'yours', u'metellus;', u'yours', u'cinna;', u'and', u'my', u'valiant', u'casca', u'yours;', u'though', u'last', u'not', u'least', u'in', u'love', u'yours', u'good', u'trebonius', u'gentlemen', u'all-', u'alas', u'what', u'shall', u'i', u'say', u'my', u'credit', u'now', u'stands', u'on', u'such', u'slippery', u'ground', u'that', u'one', u'of', u'two', u'bad', u'ways', u'you', u'must', u'conceit', u'me', u'either', u'a', u'coward', u'or', u'a', u'flatterer', u'that', u'i', u'did', u'love', u'thee', u'caesar', u'o', u'tis', u'true', u'if', u'then', u'thy', u'spirit', u'look', u'upon', u'us', u'now', u'shall', u'it', u'not', u'grieve', u'thee', u'dearer', u'than', u'thy', u'death', u'to', u'see', u'thy', u'antony', u'making', u'his', u'peace', u'shaking', u'the', u'bloody', u'fingers', u'of', u'thy', u'foes', u'most', u'noble', u'in', u'the', u'presence', u'of', u'thy', u'corse', u'had', u'i', u'as', u'many', u'eyes', u'as', u'thou', u'hast', u'wounds', u'weeping', u'as', u'fast', u'as', u'they', u'stream', u'forth', u'thy', u'blood', u'it', u'would', u'become', u'me', u'better', u'than', u'to', u'close', u'in', u'terms', u'of', u'friendship', u'with', u'thine', u'enemies', u'pardon', u'me', u'julius', u'here', u'wast', u'thou', u\"bay'd\", u'brave', u'hart', u'here', u'didst', u'thou', u'fall', u'and', u'here', u'thy', u'hunters', u'stand', u\"sign'd\", u'in', u'thy', u'spoil', u'and', u\"crimson'd\", u'in', u'thy', u'lethe', u'o', u'world', u'thou', u'wast', u'the', u'forest', u'to', u'this', u'hart', u'and', u'this', u'indeed', u'o', u'world', u'the', u'heart', u'of', u'thee', u'how', u'like', u'a', u'deer', u'strucken', u'by', u'many', u'princes', u'dost', u'thou', u'here', u'lie', u'cassius', u'mark', u'antony-', u'antony', u'pardon', u'me', u'caius', u'cassius', u'the', u'enemies', u'of', u'caesar', u'shall', u'say', u'this:', u'then', u'in', u'a', u'friend', u'it', u'is', u'cold', u'modesty', u'cassius', u'i', u'blame', u'you', u'not', u'for', u'praising', u'caesar', u'so;', u'but', u'what', u'compact', u'mean', u'you', u'to', u'have', u'with', u'us', u'will', u'you', u'be', u\"prick'd\", u'in', u'number', u'of', u'our', u'friends', u'or', u'shall', u'we', u'on', u'and', u'not', u'depend', u'on', u'you', u'antony', u'therefore', u'i', u'took', u'your', u'hands', u'but', u'was', u'indeed', u\"sway'd\", u'from', u'the', u'point', u'by', u'looking', u'down', u'on', u'caesar', u'friends', u'am', u'i', u'with', u'you', u'all', u'and', u'love', u'you', u'all', u'upon', u'this', u'hope', u'that', u'you', u'shall', u'give', u'me', u'reasons', u'why', u'and', u'wherein', u'caesar', u'was', u'dangerous', u'brutus', u'or', u'else', u'were', u'this', u'a', u'savage', u'spectacle', u'our', u'reasons', u'are', u'so', u'full', u'of', u'good', u'regard', u'that', u'were', u'you', u'antony', u'the', u'son', u'of', u'caesar', u'you', u'should', u'be', u'satisfied', u'antony', u\"that's\", u'all', u'i', u'seek;', u'and', u'am', u'moreover', u'suitor', u'that', u'i', u'may', u'produce', u'his', u'body', u'to', u'the', u'marketplace', u'and', u'in', u'the', u'pulpit', u'as', u'becomes', u'a', u'friend', u'speak', u'in', u'the', u'order', u'of', u'his', u'funeral', u'brutus', u'you', u'shall', u'mark', u'antony', u'cassius', u'brutus', u'a', u'word', u'with', u'you', u'aside', u'to', u'brutus', u'you', u'know', u'not', u'what', u'you', u'do', u'do', u'not', u'consent', u'that', u'antony', u'speak', u'in', u'his', u'funeral', u'know', u'you', u'how', u'much', u'the', u'people', u'may', u'be', u'moved', u'by', u'that', u'which', u'he', u'will', u'utter', u'brutus', u'by', u'your', u'pardon', u'i', u'will', u'myself', u'into', u'the', u'pulpit', u'first', u'and', u'show', u'the', u'reason', u'of', u'our', u\"caesar's\", u'death', u'what', u'antony', u'shall', u'speak', u'i', u'will', u'protest', u'he', u'speaks', u'by', u'leave', u'and', u'by', u'permission', u'and', u'that', u'we', u'are', u'contented', u'caesar', u'shall', u'have', u'all', u'true', u'rites', u'and', u'lawful', u'ceremonies', u'it', u'shall', u'advantage', u'more', u'than', u'do', u'us', u'wrong', u'cassius', u'i', u'know', u'not', u'what', u'may', u'fall;', u'i', u'like', u'it', u'not', u'brutus', u'mark', u'antony', u'here', u'take', u'you', u\"caesar's\", u'body', u'you', u'shall', u'not', u'in', u'your', u'funeral', u'speech', u'blame', u'us', u'but', u'speak', u'all', u'good', u'you', u'can', u'devise', u'of', u'caesar', u'and', u'say', u'you', u\"do't\", u'by', u'our', u'permission', u'else', u'shall', u'you', u'not', u'have', u'any', u'hand', u'at', u'all', u'about', u'his', u'funeral', u'and', u'you', u'shall', u'speak', u'in', u'the', u'same', u'pulpit', u'whereto', u'i', u'am', u'going', u'after', u'my', u'speech', u'is', u'ended', u'antony', u'be', u'it', u'so', u'i', u'do', u'desire', u'no', u'more', u'brutus', u'prepare', u'the', u'body', u'then', u'and', u'follow', u'us', u'exeunt', u'all', u'but', u'antony', u'antony', u'o', u'pardon', u'me', u'thou', u'bleeding', u'piece', u'of', u'earth', u'that', u'i', u'am', u'meek', u'and', u'gentle', u'with', u'these', u'butchers', u'thou', u'art', u'the', u'ruins', u'of', u'the', u'noblest', u'man', u'that', u'ever', u'lived', u'in', u'the', u'tide', u'of', u'times', u'woe', u'to', u'the', u'hand', u'that', u'shed', u'this', u'costly', u'blood', u'over', u'thy', u'wounds', u'now', u'do', u'i', u'prophesy', u'which', u'like', u'dumb', u'mouths', u'do', u'ope', u'their', u'ruby', u'lips', u'to', u'beg', u'the', u'voice', u'and', u'utterance', u'of', u'my', u'tongue', u'a', u'curse', u'shall', u'light', u'upon', u'the', u'limbs', u'of', u'men;', u'domestic', u'fury', u'and', u'fierce', u'civil', u'strife', u'shall', u'cumber', u'all', u'the', u'parts', u'of', u'italy;', u'blood', u'and', u'destruction', u'shall', u'be', u'so', u'in', u'use', u'and', u'dreadful', u'objects', u'so', u'familiar', u'that', u'mothers', u'shall', u'but', u'smile', u'when', u'they', u'behold', u'their', u'infants', u\"quarter'd\", u'with', u'the', u'hands', u'of', u'war;', u'all', u'pity', u'choked', u'with', u'custom', u'of', u'fell', u'deeds', u'and', u\"caesar's\", u'spirit', u'ranging', u'for', u'revenge', u'with', u'ate', u'by', u'his', u'side', u'come', u'hot', u'from', u'hell', u'shall', u'in', u'these', u'confines', u'with', u'a', u\"monarch's\", u'voice', u'cry', u'havoc', u'and', u'let', u'slip', u'the', u'dogs', u'of', u'war', u'that', u'this', u'foul', u'deed', u'shall', u'smell', u'above', u'the', u'earth', u'with', u'carrion', u'men', u'groaning', u'for', u'burial', u'enter', u'a', u'servant', u'you', u'serve', u'octavius', u'caesar', u'do', u'you', u'not', u'servant', u'i', u'do', u'mark', u'antony', u'antony', u'caesar', u'did', u'write', u'for', u'him', u'to', u'come', u'to', u'rome', u'servant', u'he', u'did', u'receive', u'his', u'letters', u'and', u'is', u'coming', u'and', u'bid', u'me', u'say', u'to', u'you', u'by', u'word', u'of', u'mouth-', u'o', u'caesar', u'sees', u'the', u'body', u'antony', u'thy', u'heart', u'is', u'big;', u'get', u'thee', u'apart', u'and', u'weep', u'passion', u'i', u'see', u'is', u'catching', u'for', u'mine', u'eyes', u'seeing', u'those', u'beads', u'of', u'sorrow', u'stand', u'in', u'thine', u'began', u'to', u'water', u'is', u'thy', u'master', u'coming', u'servant', u'he', u'lies', u'tonight', u'within', u'seven', u'leagues', u'of', u'rome', u'antony', u'post', u'back', u'with', u'speed', u'and', u'tell', u'him', u'what', u'hath', u'chanced', u'here', u'is', u'a', u'mourning', u'rome', u'a', u'dangerous', u'rome', u'no', u'rome', u'of', u'safety', u'for', u'octavius', u'yet;', u'hie', u'hence', u'and', u'tell', u'him', u'so', u'yet', u'stay', u'awhile', u'thou', u'shalt', u'not', u'back', u'till', u'i', u'have', u'borne', u'this', u'corse', u'into', u'the', u'marketplace', u'there', u'shall', u'i', u'try', u'in', u'my', u'oration', u'how', u'the', u'people', u'take', u'the', u'cruel', u'issue', u'of', u'these', u'bloody', u'men', u'according', u'to', u'the', u'which', u'thou', u'shalt', u'discourse', u'to', u'young', u'octavius', u'of', u'the', u'state', u'of', u'things', u'lend', u'me', u'your', u'hand', u'exeunt', u'with', u\"caesar's\", u'body', u'scene', u'ii', u'the', u'forum', u'enter', u'brutus', u'and', u'cassius', u'and', u'a', u'throng', u'of', u'citizens', u'citizens', u'we', u'will', u'be', u'satisfied', u'let', u'us', u'be', u'satisfied', u'brutus', u'then', u'follow', u'me', u'and', u'give', u'me', u'audience', u'friends', u'cassius', u'go', u'you', u'into', u'the', u'other', u'street', u'and', u'part', u'the', u'numbers', u'those', u'that', u'will', u'hear', u'me', u'speak', u'let', u'em', u'stay', u'here;', u'those', u'that', u'will', u'follow', u'cassius', u'go', u'with', u'him;', u'and', u'public', u'reasons', u'shall', u'be', u'rendered', u'of', u\"caesar's\", u'death', u'first', u'citizen', u'i', u'will', u'hear', u'brutus', u'speak', u'second', u'citizen', u'i', u'will', u'hear', u'cassius', u'and', u'compare', u'their', u'reasons', u'when', u'severally', u'we', u'hear', u'them', u'rendered', u'exit', u'cassius', u'with', u'some', u'citizens', u'brutus', u'goes', u'into', u'the', u'pulpit', u'third', u'citizen', u'the', u'noble', u'brutus', u'is', u'ascended', u'silence', u'brutus', u'be', u'patient', u'till', u'the', u'last', u'romans', u'countrymen', u'and', u'lovers', u'hear', u'me', u'for', u'my', u'cause', u'and', u'be', u'silent', u'that', u'you', u'may', u'hear', u'believe', u'me', u'for', u'mine', u'honor', u'and', u'have', u'respect', u'to', u'mine', u'honor', u'that', u'you', u'may', u'believe', u'censure', u'me', u'in', u'your', u'wisdom', u'and', u'awake', u'your', u'senses', u'that', u'you', u'may', u'the', u'better', u'judge', u'if', u'there', u'be', u'any', u'in', u'this', u'assembly', u'any', u'dear', u'friend', u'of', u\"caesar's\", u'to', u'him', u'i', u'say', u'that', u'brutus', u'love', u'to', u'caesar', u'was', u'no', u'less', u'than', u'his', u'if', u'then', u'that', u'friend', u'demand', u'why', u'brutus', u'rose', u'against', u'caesar', u'this', u'is', u'my', u'answer:', u'not', u'that', u'i', u'loved', u'caesar', u'less', u'but', u'that', u'i', u'loved', u'rome', u'more', u'had', u'you', u'rather', u'caesar', u'were', u'living', u'and', u'die', u'all', u'slaves', u'than', u'that', u'caesar', u'were', u'dead', u'to', u'live', u'all', u'freemen', u'as', u'caesar', u'loved', u'me', u'i', u'weep', u'for', u'him;', u'as', u'he', u'was', u'fortunate', u'i', u'rejoice', u'at', u'it;', u'as', u'he', u'was', u'valiant', u'i', u'honor', u'him;', u'but', u'as', u'he', u'was', u'ambitious', u'i', u'slew', u'him', u'there', u'is', u'tears', u'for', u'his', u'love', u'joy', u'for', u'his', u'fortune', u'honor', u'for', u'his', u'valor', u'and', u'death', u'for', u'his', u'ambition', u'who', u'is', u'here', u'so', u'base', u'that', u'would', u'be', u'a', u'bondman', u'if', u'any', u'speak', u'for', u'him', u'have', u'i', u'offended', u'who', u'is', u'here', u'so', u'rude', u'that', u'would', u'not', u'be', u'a', u'roman', u'if', u'any', u'speak', u'for', u'him', u'have', u'i', u'offended', u'who', u'is', u'here', u'so', u'vile', u'that', u'will', u'not', u'love', u'his', u'country', u'if', u'any', u'speak', u'for', u'him', u'have', u'i', u'offended', u'i', u'pause', u'for', u'a', u'reply', u'all', u'none', u'brutus', u'none', u'brutus', u'then', u'none', u'have', u'i', u'offended', u'i', u'have', u'done', u'no', u'more', u'to', u'caesar', u'than', u'you', u'shall', u'do', u'to', u'brutus', u'the', u'question', u'of', u'his', u'death', u'is', u'enrolled', u'in', u'the', u'capitol', u'his', u'glory', u'not', u'extenuated', u'wherein', u'he', u'was', u'worthy', u'nor', u'his', u'offenses', u'enforced', u'for', u'which', u'he', u'suffered', u'death', u'enter', u'antony', u'and', u'others', u'with', u\"caesar's\", u'body', u'here', u'comes', u'his', u'body', u'mourned', u'by', u'mark', u'antony', u'who', u'though', u'he', u'had', u'no', u'hand', u'in', u'his', u'death', u'shall', u'receive', u'the', u'benefit', u'of', u'his', u'dying', u'a', u'place', u'in', u'the', u'commonwealth', u'as', u'which', u'of', u'you', u'shall', u'not', u'with', u'this', u'i', u'depart-', u'that', u'as', u'i', u'slew', u'my', u'best', u'lover', u'for', u'the', u'good', u'of', u'rome', u'i', u'have', u'the', u'same', u'dagger', u'for', u'myself', u'when', u'it', u'shall', u'please', u'my', u'country', u'to', u'need', u'my', u'death', u'all', u'live', u'brutus', u'live', u'live', u'first', u'citizen', u'bring', u'him', u'with', u'triumph', u'home', u'unto', u'his', u'house', u'second', u'citizen', u'give', u'him', u'a', u'statue', u'with', u'his', u'ancestors', u'third', u'citizen', u'let', u'him', u'be', u'caesar', u'fourth', u'citizen', u\"caesar's\", u'better', u'parts', u'shall', u'be', u\"crown'd\", u'in', u'brutus', u'first', u'citizen', u\"we'll\", u'bring', u'him', u'to', u'his', u'house', u'with', u'shouts', u'and', u'clamors', u'brutus', u'my', u'countrymen-', u'second', u'citizen', u'peace', u'silence', u'brutus', u'speaks', u'first', u'citizen', u'peace', u'ho', u'brutus', u'good', u'countrymen', u'let', u'me', u'depart', u'alone', u'and', u'for', u'my', u'sake', u'stay', u'here', u'with', u'antony', u'do', u'grace', u'to', u\"caesar's\", u'corse', u'and', u'grace', u'his', u'speech', u'tending', u'to', u\"caesar's\", u'glories', u'which', u'mark', u'antony', u'by', u'our', u'permission', u'is', u\"allow'd\", u'to', u'make', u'i', u'do', u'entreat', u'you', u'not', u'a', u'man', u'depart', u'save', u'i', u'alone', u'till', u'antony', u'have', u'spoke', u'exit', u'first', u'citizen', u'stay', u'ho', u'and', u'let', u'us', u'hear', u'mark', u'antony', u'third', u'citizen', u'let', u'him', u'go', u'up', u'into', u'the', u'public', u'chair;', u\"we'll\", u'hear', u'him', u'noble', u'antony', u'go', u'up', u'antony', u'for', u'brutus', u'sake', u'i', u'am', u'beholding', u'to', u'you', u'goes', u'into', u'the', u'pulpit', u'fourth', u'citizen', u'what', u'does', u'he', u'say', u'of', u'brutus', u'third', u'citizen', u'he', u'says', u'for', u'brutus', u'sake', u'he', u'finds', u'himself', u'beholding', u'to', u'us', u'all', u'fourth', u'citizen', u'twere', u'best', u'he', u'speak', u'no', u'harm', u'of', u'brutus', u'here', u'first', u'citizen', u'this', u'caesar', u'was', u'a', u'tyrant', u'third', u'citizen', u'nay', u\"that's\", u'certain', u'we', u'are', u'blest', u'that', u'rome', u'is', u'rid', u'of', u'him', u'second', u'citizen', u'peace', u'let', u'us', u'hear', u'what', u'antony', u'can', u'say', u'antony', u'you', u'gentle', u'romans-', u'all', u'peace', u'ho', u'let', u'us', u'hear', u'him', u'antony', u'friends', u'romans', u'countrymen', u'lend', u'me', u'your', u'ears', u'i', u'come', u'to', u'bury', u'caesar', u'not', u'to', u'praise', u'him', u'the', u'evil', u'that', u'men', u'do', u'lives', u'after', u'them', u'the', u'good', u'is', u'oft', u'interred', u'with', u'their', u'bones;', u'so', u'let', u'it', u'be', u'with', u'caesar', u'the', u'noble', u'brutus', u'hath', u'told', u'you', u'caesar', u'was', u'ambitious;', u'if', u'it', u'were', u'so', u'it', u'was', u'a', u'grievous', u'fault', u'and', u'grievously', u'hath', u'caesar', u\"answer'd\", u'it', u'here', u'under', u'leave', u'of', u'brutus', u'and', u'the', u'rest-', u'for', u'brutus', u'is', u'an', u'honorable', u'man;', u'so', u'are', u'they', u'all', u'all', u'honorable', u'men-', u'come', u'i', u'to', u'speak', u'in', u\"caesar's\", u'funeral', u'he', u'was', u'my', u'friend', u'faithful', u'and', u'just', u'to', u'me;', u'but', u'brutus', u'says', u'he', u'was', u'ambitious', u'and', u'brutus', u'is', u'an', u'honorable', u'man', u'he', u'hath', u'brought', u'many', u'captives', u'home', u'to', u'rome', u'whose', u'ransoms', u'did', u'the', u'general', u'coffers', u'fill', u'did', u'this', u'in', u'caesar', u'seem', u'ambitious', u'when', u'that', u'the', u'poor', u'have', u'cried', u'caesar', u'hath', u'wept;', u'ambition', u'should', u'be', u'made', u'of', u'sterner', u'stuff:', u'yet', u'brutus', u'says', u'he', u'was', u'ambitious', u'and', u'brutus', u'is', u'an', u'honorable', u'man', u'you', u'all', u'did', u'see', u'that', u'on', u'the', u'lupercal', u'i', u'thrice', u'presented', u'him', u'a', u'kingly', u'crown', u'which', u'he', u'did', u'thrice', u'refuse', u'was', u'this', u'ambition', u'yet', u'brutus', u'says', u'he', u'was', u'ambitious', u'and', u'sure', u'he', u'is', u'an', u'honorable', u'man', u'i', u'speak', u'not', u'to', u'disprove', u'what', u'brutus', u'spoke', u'but', u'here', u'i', u'am', u'to', u'speak', u'what', u'i', u'do', u'know', u'you', u'all', u'did', u'love', u'him', u'once', u'not', u'without', u'cause;', u'what', u'cause', u'withholds', u'you', u'then', u'to', u'mourn', u'for', u'him', u'o', u'judgement', u'thou', u'art', u'fled', u'to', u'brutish', u'beasts', u'and', u'men', u'have', u'lost', u'their', u'reason', u'bear', u'with', u'me;', u'my', u'heart', u'is', u'in', u'the', u'coffin', u'there', u'with', u'caesar', u'and', u'i', u'must', u'pause', u'till', u'it', u'come', u'back', u'to', u'me', u'first', u'citizen', u'methinks', u'there', u'is', u'much', u'reason', u'in', u'his', u'sayings', u'second', u'citizen', u'if', u'thou', u'consider', u'rightly', u'of', u'the', u'matter', u'caesar', u'has', u'had', u'great', u'wrong', u'third', u'citizen', u'has', u'he', u'masters', u'i', u'fear', u'there', u'will', u'a', u'worse', u'come', u'in', u'his', u'place', u'fourth', u'citizen', u\"mark'd\", u'ye', u'his', u'words', u'he', u'would', u'not', u'take', u'the', u'crown;', u'therefore', u'tis', u'certain', u'he', u'was', u'not', u'ambitious', u'first', u'citizen', u'if', u'it', u'be', u'found', u'so', u'some', u'will', u'dear', u'abide', u'it', u'second', u'citizen', u'poor', u'soul', u'his', u'eyes', u'are', u'red', u'as', u'fire', u'with', u'weeping', u'third', u'citizen', u\"there's\", u'not', u'a', u'nobler', u'man', u'in', u'rome', u'than', u'antony', u'fourth', u'citizen', u'now', u'mark', u'him', u'he', u'begins', u'again', u'to', u'speak', u'antony', u'but', u'yesterday', u'the', u'word', u'of', u'caesar', u'might', u'have', u'stood', u'against', u'the', u'world', u'now', u'lies', u'he', u'there', u'and', u'none', u'so', u'poor', u'to', u'do', u'him', u'reverence', u'o', u'masters', u'if', u'i', u'were', u'disposed', u'to', u'stir', u'your', u'hearts', u'and', u'minds', u'to', u'mutiny', u'and', u'rage', u'i', u'should', u'do', u'brutus', u'wrong', u'and', u'cassius', u'wrong', u'who', u'you', u'all', u'know', u'are', u'honorable', u'men', u'i', u'will', u'not', u'do', u'them', u'wrong;', u'i', u'rather', u'choose', u'to', u'wrong', u'the', u'dead', u'to', u'wrong', u'myself', u'and', u'you', u'than', u'i', u'will', u'wrong', u'such', u'honorable', u'men', u'but', u\"here's\", u'a', u'parchment', u'with', u'the', u'seal', u'of', u'caesar;', u'i', u'found', u'it', u'in', u'his', u'closet', u'tis', u'his', u'will', u'let', u'but', u'the', u'commons', u'hear', u'this', u'testament-', u'which', u'pardon', u'me', u'i', u'do', u'not', u'mean', u'to', u'read-', u'and', u'they', u'would', u'go', u'and', u'kiss', u'dead', u\"caesar's\", u'wounds', u'and', u'dip', u'their', u'napkins', u'in', u'his', u'sacred', u'blood', u'yea', u'beg', u'a', u'hair', u'of', u'him', u'for', u'memory', u'and', u'dying', u'mention', u'it', u'within', u'their', u'wills', u'bequeathing', u'it', u'as', u'a', u'rich', u'legacy', u'unto', u'their', u'issue', u'fourth', u'citizen', u\"we'll\", u'hear', u'the', u'will', u'read', u'it', u'mark', u'antony', u'all', u'the', u'will', u'the', u'will', u'we', u'will', u'hear', u\"caesar's\", u'will', u'antony', u'have', u'patience', u'gentle', u'friends', u'i', u'must', u'not', u'read', u'it;', u'it', u'is', u'not', u'meet', u'you', u'know', u'how', u'caesar', u'loved', u'you', u'you', u'are', u'not', u'wood', u'you', u'are', u'not', u'stones', u'but', u'men;', u'and', u'being', u'men', u'hearing', u'the', u'will', u'of', u'caesar', u'it', u'will', u'inflame', u'you', u'it', u'will', u'make', u'you', u'mad', u'tis', u'good', u'you', u'know', u'not', u'that', u'you', u'are', u'his', u'heirs', u'for', u'if', u'you', u'should', u'o', u'what', u'would', u'come', u'of', u'it', u'fourth', u'citizen', u'read', u'the', u'will;', u\"we'll\", u'hear', u'it', u'antony', u'you', u'shall', u'read', u'us', u'the', u'will', u\"caesar's\", u'will', u'antony', u'will', u'you', u'be', u'patient', u'will', u'you', u'stay', u'awhile', u'i', u'have', u\"o'ershot\", u'myself', u'to', u'tell', u'you', u'of', u'it', u'i', u'fear', u'i', u'wrong', u'the', u'honorable', u'men', u'whose', u'daggers', u'have', u\"stabb'd\", u'caesar;', u'i', u'do', u'fear', u'it', u'fourth', u'citizen', u'they', u'were', u'traitors', u'honorable', u'men', u'all', u'the', u'will', u'the', u'testament', u'second', u'citizen', u'they', u'were', u'villains', u'murtherers', u'the', u'will', u'read', u'the', u'will', u'antony', u'you', u'will', u'compel', u'me', u'then', u'to', u'read', u'the', u'will', u'then', u'make', u'a', u'ring', u'about', u'the', u'corse', u'of', u'caesar', u'and', u'let', u'me', u'show', u'you', u'him', u'that', u'made', u'the', u'will', u'shall', u'i', u'descend', u'and', u'will', u'you', u'give', u'me', u'leave', u'all', u'come', u'down', u'second', u'citizen', u'descend', u'he', u'comes', u'down', u'from', u'the', u'pulpit', u'third', u'citizen', u'you', u'shall', u'have', u'leave', u'fourth', u'citizen', u'a', u'ring', u'stand', u'round', u'first', u'citizen', u'stand', u'from', u'the', u'hearse', u'stand', u'from', u'the', u'body', u'second', u'citizen', u'room', u'for', u'antony', u'most', u'noble', u'antony', u'antony', u'nay', u'press', u'not', u'so', u'upon', u'me', u'stand', u'far', u'off', u'all', u'stand', u'back;', u'room', u'bear', u'back', u'antony', u'if', u'you', u'have', u'tears', u'prepare', u'to', u'shed', u'them', u'now', u'you', u'all', u'do', u'know', u'this', u'mantle', u'i', u'remember', u'the', u'first', u'time', u'ever', u'caesar', u'put', u'it', u'on;', u'twas', u'on', u'a', u\"summer's\", u'evening', u'in', u'his', u'tent', u'that', u'day', u'he', u'overcame', u'the', u'nervii', u'look', u'in', u'this', u'place', u'ran', u'cassius', u'dagger', u'through;', u'see', u'what', u'a', u'rent', u'the', u'envious', u'casca', u'made;', u'through', u'this', u'the', u'well-beloved', u'brutus', u\"stabb'd;\", u'and', u'as', u'he', u\"pluck'd\", u'his', u'cursed', u'steel', u'away', u'mark', u'how', u'the', u'blood', u'of', u'caesar', u\"follow'd\", u'it', u'as', u'rushing', u'out', u'of', u'doors', u'to', u'be', u'resolved', u'if', u'brutus', u'so', u'unkindly', u\"knock'd\", u'or', u'no;', u'for', u'brutus', u'as', u'you', u'know', u'was', u\"caesar's\", u'angel', u'judge', u'o', u'you', u'gods', u'how', u'dearly', u'caesar', u'loved', u'him', u'this', u'was', u'the', u'most', u'unkindest', u'cut', u'of', u'all;', u'for', u'when', u'the', u'noble', u'caesar', u'saw', u'him', u'stab', u'ingratitude', u'more', u'strong', u'than', u'traitors', u'arms', u'quite', u\"vanquish'd\", u'him', u'then', u'burst', u'his', u'mighty', u'heart', u'and', u'in', u'his', u'mantle', u'muffling', u'up', u'his', u'face', u'even', u'at', u'the', u'base', u'of', u\"pompey's\", u'statue', u'which', u'all', u'the', u'while', u'ran', u'blood', u'great', u'caesar', u'fell', u'o', u'what', u'a', u'fall', u'was', u'there', u'my', u'countrymen', u'then', u'i', u'and', u'you', u'and', u'all', u'of', u'us', u'fell', u'down', u'whilst', u'bloody', u'treason', u\"flourish'd\", u'over', u'us', u'o', u'now', u'you', u'weep', u'and', u'i', u'perceive', u'you', u'feel', u'the', u'dint', u'of', u'pity', u'these', u'are', u'gracious', u'drops', u'kind', u'souls', u'what', u'weep', u'you', u'when', u'you', u'but', u'behold', u'our', u\"caesar's\", u'vesture', u'wounded', u'look', u'you', u'here', u'here', u'is', u'himself', u\"marr'd\", u'as', u'you', u'see', u'with', u'traitors', u'first', u'citizen', u'o', u'piteous', u'spectacle', u'second', u'citizen', u'o', u'noble', u'caesar', u'third', u'citizen', u'o', u'woeful', u'day', u'fourth', u'citizen', u'o', u'traitors', u'villains', u'first', u'citizen', u'o', u'most', u'bloody', u'sight', u'second', u'citizen', u'we', u'will', u'be', u'revenged', u'all', u'revenge', u'about', u'seek', u'burn', u'fire', u'kill', u'slay', u'let', u'not', u'a', u'traitor', u'live', u'antony', u'stay', u'countrymen', u'first', u'citizen', u'peace', u'there', u'hear', u'the', u'noble', u'antony', u'second', u'citizen', u\"we'll\", u'hear', u'him', u\"we'll\", u'follow', u'him', u\"we'll\", u'die', u'with', u'him', u'antony', u'good', u'friends', u'sweet', u'friends', u'let', u'me', u'not', u'stir', u'you', u'up', u'to', u'such', u'a', u'sudden', u'flood', u'of', u'mutiny', u'they', u'that', u'have', u'done', u'this', u'deed', u'are', u'honorable', u'what', u'private', u'griefs', u'they', u'have', u'alas', u'i', u'know', u'not', u'that', u'made', u'them', u'do', u'it', u'they', u'are', u'wise', u'and', u'honorable', u'and', u'will', u'no', u'doubt', u'with', u'reasons', u'answer', u'you', u'i', u'come', u'not', u'friends', u'to', u'steal', u'away', u'your', u'hearts', u'i', u'am', u'no', u'orator', u'as', u'brutus', u'is;', u'but', u'as', u'you', u'know', u'me', u'all', u'a', u'plain', u'blunt', u'man', u'that', u'love', u'my', u'friend', u'and', u'that', u'they', u'know', u'full', u'well', u'that', u'gave', u'me', u'public', u'leave', u'to', u'speak', u'of', u'him', u'for', u'i', u'have', u'neither', u'wit', u'nor', u'words', u'nor', u'worth', u'action', u'nor', u'utterance', u'nor', u'the', u'power', u'of', u'speech', u'to', u'stir', u\"men's\", u'blood', u'i', u'only', u'speak', u'right', u'on;', u'i', u'tell', u'you', u'that', u'which', u'you', u'yourselves', u'do', u'know;', u'show', u'you', u'sweet', u\"caesar's\", u'wounds', u'poor', u'dumb', u'mouths', u'and', u'bid', u'them', u'speak', u'for', u'me', u'but', u'were', u'i', u'brutus', u'and', u'brutus', u'antony', u'there', u'were', u'an', u'antony', u'would', u'ruffle', u'up', u'your', u'spirits', u'and', u'put', u'a', u'tongue', u'in', u'every', u'wound', u'of', u'caesar', u'that', u'should', u'move', u'the', u'stones', u'of', u'rome', u'to', u'rise', u'and', u'mutiny', u'all', u\"we'll\", u'mutiny', u'first', u'citizen', u\"we'll\", u'burn', u'the', u'house', u'of', u'brutus', u'third', u'citizen', u'away', u'then', u'come', u'seek', u'the', u'conspirators', u'antony', u'yet', u'hear', u'me', u'countrymen;', u'yet', u'hear', u'me', u'speak', u'all', u'peace', u'ho', u'hear', u'antony', u'most', u'noble', u'antony', u'antony', u'why', u'friends', u'you', u'go', u'to', u'do', u'you', u'know', u'not', u'what', u'wherein', u'hath', u'caesar', u'thus', u'deserved', u'your', u'loves', u'alas', u'you', u'know', u'not;', u'i', u'must', u'tell', u'you', u'then', u'you', u'have', u'forgot', u'the', u'will', u'i', u'told', u'you', u'of', u'all', u'most', u'true', u'the', u'will', u\"let's\", u'stay', u'and', u'hear', u'the', u'will', u'antony', u'here', u'is', u'the', u'will', u'and', u'under', u\"caesar's\", u'seal', u'to', u'every', u'roman', u'citizen', u'he', u'gives', u'to', u'every', u'several', u'man', u'seventy-five', u'drachmas', u'second', u'citizen', u'most', u'noble', u'caesar', u\"we'll\", u'revenge', u'his', u'death', u'third', u'citizen', u'o', u'royal', u'caesar', u'antony', u'hear', u'me', u'with', u'patience', u'all', u'peace', u'ho', u'antony', u'moreover', u'he', u'hath', u'left', u'you', u'all', u'his', u'walks', u'his', u'private', u'arbors', u'and', u'new-planted', u'orchards', u'on', u'this', u'side', u'tiber;', u'he', u'hath', u'left', u'them', u'you', u'and', u'to', u'your', u'heirs', u'forever-', u'common', u'pleasures', u'to', u'walk', u'abroad', u'and', u'recreate', u'yourselves', u'here', u'was', u'a', u'caesar', u'when', u'comes', u'such', u'another', u'first', u'citizen', u'never', u'never', u'come', u'away', u'away', u\"we'll\", u'burn', u'his', u'body', u'in', u'the', u'holy', u'place', u'and', u'with', u'the', u'brands', u'fire', u'the', u'traitors', u'houses', u'take', u'up', u'the', u'body', u'second', u'citizen', u'go', u'fetch', u'fire', u'third', u'citizen', u'pluck', u'down', u'benches', u'fourth', u'citizen', u'pluck', u'down', u'forms', u'windows', u'anything', u'exeunt', u'citizens', u'with', u'the', u'body', u'antony', u'now', u'let', u'it', u'work', u'mischief', u'thou', u'art', u'afoot', u'take', u'thou', u'what', u'course', u'thou', u'wilt', u'enter', u'a', u'servant', u'how', u'now', u'fellow', u'servant', u'sir', u'octavius', u'is', u'already', u'come', u'to', u'rome', u'antony', u'where', u'is', u'he', u'servant', u'he', u'and', u'lepidus', u'are', u'at', u\"caesar's\", u'house', u'antony', u'and', u'thither', u'will', u'i', u'straight', u'to', u'visit', u'him', u'he', u'comes', u'upon', u'a', u'wish', u'fortune', u'is', u'merry', u'and', u'in', u'this', u'mood', u'will', u'give', u'us', u'anything', u'servant', u'i', u'heard', u'him', u'say', u'brutus', u'and', u'cassius', u'are', u'rid', u'like', u'madmen', u'through', u'the', u'gates', u'of', u'rome', u'antony', u'be', u'like', u'they', u'had', u'some', u'notice', u'of', u'the', u'people', u'how', u'i', u'had', u'moved', u'them', u'bring', u'me', u'to', u'octavius', u'exeunt', u'scene', u'iii', u'a', u'street', u'enter', u'cinna', u'the', u'poet', u'cinna', u'i', u'dreamt', u'tonight', u'that', u'i', u'did', u'feast', u'with', u'caesar', u'and', u'things', u'unluckily', u'charge', u'my', u'fantasy', u'i', u'have', u'no', u'will', u'to', u'wander', u'forth', u'of', u'doors', u'yet', u'something', u'leads', u'me', u'forth', u'enter', u'citizens', u'first', u'citizen', u'what', u'is', u'your', u'name', u'second', u'citizen', u'whither', u'are', u'you', u'going', u'third', u'citizen', u'where', u'do', u'you', u'dwell', u'fourth', u'citizen', u'are', u'you', u'a', u'married', u'man', u'or', u'a', u'bachelor', u'second', u'citizen', u'answer', u'every', u'man', u'directly', u'first', u'citizen', u'ay', u'and', u'briefly', u'fourth', u'citizen', u'ay', u'and', u'wisely', u'third', u'citizen', u'ay', u'and', u'truly', u'you', u'were', u'best', u'cinna', u'what', u'is', u'my', u'name', u'whither', u'am', u'i', u'going', u'where', u'do', u'i', u'dwell', u'am', u'i', u'a', u'married', u'man', u'or', u'a', u'bachelor', u'then', u'to', u'answer', u'every', u'man', u'directly', u'and', u'briefly', u'wisely', u'and', u'truly:', u'wisely', u'i', u'say', u'i', u'am', u'a', u'bachelor', u'second', u'citizen', u\"that's\", u'as', u'much', u'as', u'to', u'say', u'they', u'are', u'fools', u'that', u'marry', u\"you'll\", u'bear', u'me', u'a', u'bang', u'for', u'that', u'i', u'fear', u'proceed', u'directly', u'cinna', u'directly', u'i', u'am', u'going', u'to', u\"caesar's\", u'funeral', u'first', u'citizen', u'as', u'a', u'friend', u'or', u'an', u'enemy', u'cinna', u'as', u'a', u'friend', u'second', u'citizen', u'that', u'matter', u'is', u'answered', u'directly', u'fourth', u'citizen', u'for', u'your', u'dwelling', u'briefly', u'cinna', u'briefly', u'i', u'dwell', u'by', u'the', u'capitol', u'third', u'citizen', u'your', u'name', u'sir', u'truly', u'cinna', u'truly', u'my', u'name', u'is', u'cinna', u'first', u'citizen', u'tear', u'him', u'to', u'pieces', u\"he's\", u'a', u'conspirator', u'cinna', u'i', u'am', u'cinna', u'the', u'poet', u'i', u'am', u'cinna', u'the', u'poet', u'fourth', u'citizen', u'tear', u'him', u'for', u'his', u'bad', u'verses', u'tear', u'him', u'for', u'his', u'bad', u'verses', u'cinna', u'i', u'am', u'not', u'cinna', u'the', u'conspirator', u'fourth', u'citizen', u'it', u'is', u'no', u'matter', u'his', u\"name's\", u'cinna', u'pluck', u'but', u'his', u'name', u'out', u'of', u'his', u'heart', u'and', u'turn', u'him', u'going', u'third', u'citizen', u'tear', u'him', u'tear', u'him', u'come', u'brands', u'ho', u'firebrands', u'to', u'brutus', u'to', u\"cassius';\", u'burn', u'all', u'some', u'to', u'decius', u'house', u'and', u'some', u'to', u\"casca's\", u'some', u'to', u'ligarius', u'away', u'go', u'exeunt', u'<<this', u'electronic', u'version', u'of', u'the', u'complete', u'works', u'of', u'william', u'shakespeare', u'is', u'copyright', u'1990-1993', u'by', u'world', u'library', u'inc', u'and', u'is', u'provided', u'by', u'project', u'gutenberg', u'etext', u'of', u'carnegie', u'mellon', u'university', u'with', u'permission', u'electronic', u'and', u'machine', u'readable', u'copies', u'may', u'be', u'distributed', u'so', u'long', u'as', u'such', u'copies', u'1', u'are', u'for', u'your', u'or', u'others', u'personal', u'use', u'only', u'and', u'2', u'are', u'not', u'distributed', u'or', u'used', u'commercially', u'prohibited', u'commercial', u'distribution', u'includes', u'by', u'any', u'service', u'that', u'charges', u'for', u'download', u'time', u'or', u'for', u'membership.>>', u'act', u'iv', u'scene', u'i', u'a', u'house', u'in', u'rome', u'antony', u'octavius', u'and', u'lepidus', u'seated', u'at', u'a', u'table', u'antony', u'these', u'many', u'then', u'shall', u'die', u'their', u'names', u'are', u\"prick'd\", u'octavius', u'your', u'brother', u'too', u'must', u'die;', u'consent', u'you', u'lepidus', u'lepidus', u'i', u'do', u'consent-', u'octavius', u'prick', u'him', u'down', u'antony', u'lepidus', u'upon', u'condition', u'publius', u'shall', u'not', u'live', u'who', u'is', u'your', u\"sister's\", u'son', u'mark', u'antony', u'antony', u'he', u'shall', u'not', u'live;', u'look', u'with', u'a', u'spot', u'i', u'damn', u'him', u'but', u'lepidus', u'go', u'you', u'to', u\"caesar's\", u'house', u'fetch', u'the', u'will', u'hither', u'and', u'we', u'shall', u'determine', u'how', u'to', u'cut', u'off', u'some', u'charge', u'in', u'legacies', u'lepidus', u'what', u'shall', u'i', u'find', u'you', u'here', u'octavius', u'or', u'here', u'or', u'at', u'the', u'capitol', u'exit', u'lepidus', u'antony', u'this', u'is', u'a', u'slight', u'unmeritable', u'man', u'meet', u'to', u'be', u'sent', u'on', u'errands', u'is', u'it', u'fit', u'the', u'three-fold', u'world', u'divided', u'he', u'should', u'stand', u'one', u'of', u'the', u'three', u'to', u'share', u'it', u'octavius', u'so', u'you', u'thought', u'him', u'and', u'took', u'his', u'voice', u'who', u'should', u'be', u\"prick'd\", u'to', u'die', u'in', u'our', u'black', u'sentence', u'and', u'proscription', u'antony', u'octavius', u'i', u'have', u'seen', u'more', u'days', u'than', u'you', u'and', u'though', u'we', u'lay', u'these', u'honors', u'on', u'this', u'man', u'to', u'ease', u'ourselves', u'of', u'divers', u'slanderous', u'loads', u'he', u'shall', u'but', u'bear', u'them', u'as', u'the', u'ass', u'bears', u'gold', u'to', u'groan', u'and', u'sweat', u'under', u'the', u'business', u'either', u'led', u'or', u'driven', u'as', u'we', u'point', u'the', u'way;', u'and', u'having', u'brought', u'our', u'treasure', u'where', u'we', u'will', u'then', u'take', u'we', u'down', u'his', u'load', u'and', u'turn', u'him', u'off', u'like', u'to', u'the', u'empty', u'ass', u'to', u'shake', u'his', u'ears', u'and', u'graze', u'in', u'commons', u'octavius', u'you', u'may', u'do', u'your', u'will', u'but', u\"he's\", u'a', u'tried', u'and', u'valiant', u'soldier', u'antony', u'so', u'is', u'my', u'horse', u'octavius', u'and', u'for', u'that', u'i', u'do', u'appoint', u'him', u'store', u'of', u'provender', u'it', u'is', u'a', u'creature', u'that', u'i', u'teach', u'to', u'fight', u'to', u'wind', u'to', u'stop', u'to', u'run', u'directly', u'on', u'his', u'corporal', u'motion', u\"govern'd\", u'by', u'my', u'spirit', u'and', u'in', u'some', u'taste', u'is', u'lepidus', u'but', u'so:', u'he', u'must', u'be', u'taught', u'and', u\"train'd\", u'and', u'bid', u'go', u'forth;', u'a', u'barren-spirited', u'fellow', u'one', u'that', u'feeds', u'on', u'objects', u'arts', u'and', u'imitations', u'which', u'out', u'of', u'use', u'and', u'staled', u'by', u'other', u'men', u'begin', u'his', u'fashion', u'do', u'not', u'talk', u'of', u'him', u'but', u'as', u'a', u'property', u'and', u'now', u'octavius', u'listen', u'great', u'things', u'brutus', u'and', u'cassius', u'are', u'levying', u'powers;', u'we', u'must', u'straight', u'make', u'head;', u'therefore', u'let', u'our', u'alliance', u'be', u'combined', u'our', u'best', u'friends', u'made', u'our', u'means', u\"stretch'd;\", u'and', u'let', u'us', u'presently', u'go', u'sit', u'in', u'council', u'how', u'covert', u'matters', u'may', u'be', u'best', u'disclosed', u'and', u'open', u'perils', u'surest', u'answered', u'octavius', u'let', u'us', u'do', u'so', u'for', u'we', u'are', u'at', u'the', u'stake', u'and', u\"bay'd\", u'about', u'with', u'many', u'enemies;', u'and', u'some', u'that', u'smile', u'have', u'in', u'their', u'hearts', u'i', u'fear', u'millions', u'of', u'mischiefs', u'exeunt', u'scene', u'ii', u'camp', u'near', u'sardis', u'before', u'brutus', u'tent', u'drum', u'enter', u'brutus', u'lucilius', u'lucius', u'and', u'soldiers;', u'titinius', u'and', u'pindarus', u'meet', u'them', u'brutus', u'stand', u'ho', u'lucilius', u'give', u'the', u'word', u'ho', u'and', u'stand', u'brutus', u'what', u'now', u'lucilius', u'is', u'cassius', u'near', u'lucilius', u'he', u'is', u'at', u'hand', u'and', u'pindarus', u'is', u'come', u'to', u'do', u'you', u'salutation', u'from', u'his', u'master', u'brutus', u'he', u'greets', u'me', u'well', u'your', u'master', u'pindarus', u'in', u'his', u'own', u'change', u'or', u'by', u'ill', u'officers', u'hath', u'given', u'me', u'some', u'worthy', u'cause', u'to', u'wish', u'things', u'done', u'undone;', u'but', u'if', u'he', u'be', u'at', u'hand', u'i', u'shall', u'be', u'satisfied', u'pindarus', u'i', u'do', u'not', u'doubt', u'but', u'that', u'my', u'noble', u'master', u'will', u'appear', u'such', u'as', u'he', u'is', u'full', u'of', u'regard', u'and', u'honor', u'brutus', u'he', u'is', u'not', u'doubted', u'a', u'word', u'lucilius', u'how', u'he', u'received', u'you', u'let', u'me', u'be', u'resolved', u'lucilius', u'with', u'courtesy', u'and', u'with', u'respect', u'enough', u'but', u'not', u'with', u'such', u'familiar', u'instances', u'nor', u'with', u'such', u'free', u'and', u'friendly', u'conference', u'as', u'he', u'hath', u'used', u'of', u'old', u'brutus', u'thou', u'hast', u'described', u'a', u'hot', u'friend', u'cooling', u'ever', u'note', u'lucilius', u'when', u'love', u'begins', u'to', u'sicken', u'and', u'decay', u'it', u'useth', u'an', u'enforced', u'ceremony', u'there', u'are', u'no', u'tricks', u'in', u'plain', u'and', u'simple', u'faith;', u'but', u'hollow', u'men', u'like', u'horses', u'hot', u'at', u'hand', u'make', u'gallant', u'show', u'and', u'promise', u'of', u'their', u'mettle;', u'but', u'when', u'they', u'should', u'endure', u'the', u'bloody', u'spur', u'they', u'fall', u'their', u'crests', u'and', u'like', u'deceitful', u'jades', u'sink', u'in', u'the', u'trial', u'comes', u'his', u'army', u'on', u'lucilius', u'they', u'meant', u'his', u'night', u'in', u'sard', u'is', u'to', u'be', u\"quarter'd;\", u'the', u'greater', u'part', u'the', u'horse', u'in', u'general', u'are', u'come', u'with', u'cassius', u'low', u'march', u'within', u'brutus', u'hark', u'he', u'is', u'arrived', u'march', u'gently', u'on', u'to', u'meet', u'him', u'enter', u'cassius', u'and', u'his', u'powers', u'cassius', u'stand', u'ho', u'brutus', u'stand', u'ho', u'speak', u'the', u'word', u'along', u'first', u'soldier', u'stand', u'second', u'soldier', u'stand', u'third', u'soldier', u'stand', u'cassius', u'most', u'noble', u'brother', u'you', u'have', u'done', u'me', u'wrong', u'brutus', u'judge', u'me', u'you', u'gods', u'wrong', u'i', u'mine', u'enemies', u'and', u'if', u'not', u'so', u'how', u'should', u'i', u'wrong', u'a', u'brother', u'cassius', u'brutus', u'this', u'sober', u'form', u'of', u'yours', u'hides', u'wrongs', u'and', u'when', u'you', u'do', u'them-', u'brutus', u'cassius', u'be', u'content', u'speak', u'your', u'griefs', u'softly', u'i', u'do', u'know', u'you', u'well', u'before', u'the', u'eyes', u'of', u'both', u'our', u'armies', u'here', u'which', u'should', u'perceive', u'nothing', u'but', u'love', u'from', u'us', u'let', u'us', u'not', u'wrangle', u'bid', u'them', u'move', u'away;', u'then', u'in', u'my', u'tent', u'cassius', u'enlarge', u'your', u'griefs', u'and', u'i', u'will', u'give', u'you', u'audience', u'cassius', u'pindarus', u'bid', u'our', u'commanders', u'lead', u'their', u'charges', u'off', u'a', u'little', u'from', u'this', u'ground', u'brutus', u'lucilius', u'do', u'you', u'the', u'like', u'and', u'let', u'no', u'man', u'come', u'to', u'our', u'tent', u'till', u'we', u'have', u'done', u'our', u'conference', u'let', u'lucius', u'and', u'titinius', u'guard', u'our', u'door', u'exeunt', u'scene', u'iii', u'brutus', u'tent', u'enter', u'brutus', u'and', u'cassius', u'cassius', u'that', u'you', u'have', u\"wrong'd\", u'me', u'doth', u'appear', u'in', u'this:', u'you', u'have', u\"condemn'd\", u'and', u'noted', u'lucius', u'pella', u'for', u'taking', u'bribes', u'here', u'of', u'the', u'sardians', u'wherein', u'my', u'letters', u'praying', u'on', u'his', u'side', u'because', u'i', u'knew', u'the', u'man', u'were', u'slighted', u'off', u'brutus', u'you', u\"wrong'd\", u'yourself', u'to', u'write', u'in', u'such', u'a', u'case', u'cassius', u'in', u'such', u'a', u'time', u'as', u'this', u'it', u'is', u'not', u'meet', u'that', u'every', u'nice', u'offense', u'should', u'bear', u'his', u'comment', u'brutus', u'let', u'me', u'tell', u'you', u'cassius', u'you', u'yourself', u'are', u'much', u\"condemn'd\", u'to', u'have', u'an', u'itching', u'palm', u'to', u'sell', u'and', u'mart', u'your', u'offices', u'for', u'gold', u'to', u'undeservers', u'cassius', u'i', u'an', u'itching', u'palm', u'you', u'know', u'that', u'you', u'are', u'brutus', u'that', u'speaks', u'this', u'or', u'by', u'the', u'gods', u'this', u'speech', u'were', u'else', u'your', u'last', u'brutus', u'the', u'name', u'of', u'cassius', u'honors', u'this', u'corruption', u'and', u'chastisement', u'doth', u'therefore', u'hide', u'his', u'head', u'cassius', u'chastisement', u'brutus', u'remember', u'march', u'the', u'ides', u'of', u'march', u'remember', u'did', u'not', u'great', u'julius', u'bleed', u'for', u'justice', u'sake', u'what', u'villain', u\"touch'd\", u'his', u'body', u'that', u'did', u'stab', u'and', u'not', u'for', u'justice', u'what', u'shall', u'one', u'of', u'us', u'that', u'struck', u'the', u'foremost', u'man', u'of', u'all', u'this', u'world', u'but', u'for', u'supporting', u'robbers', u'shall', u'we', u'now', u'contaminate', u'our', u'fingers', u'with', u'base', u'bribes', u'and', u'sell', u'the', u'mighty', u'space', u'of', u'our', u'large', u'honors', u'for', u'so', u'much', u'trash', u'as', u'may', u'be', u'grasped', u'thus', u'i', u'had', u'rather', u'be', u'a', u'dog', u'and', u'bay', u'the', u'moon', u'than', u'such', u'a', u'roman', u'cassius', u'brutus', u'bait', u'not', u'me', u\"i'll\", u'not', u'endure', u'it', u'you', u'forget', u'yourself', u'to', u'hedge', u'me', u'in', u'i', u'am', u'a', u'soldier', u'i', u'older', u'in', u'practice', u'abler', u'than', u'yourself', u'to', u'make', u'conditions', u'brutus', u'go', u'to', u'you', u'are', u'not', u'cassius', u'cassius', u'i', u'am', u'brutus', u'i', u'say', u'you', u'are', u'not', u'cassius', u'urge', u'me', u'no', u'more', u'i', u'shall', u'forget', u'myself;', u'have', u'mind', u'upon', u'your', u'health', u'tempt', u'me', u'no', u'farther', u'brutus', u'away', u'slight', u'man', u'cassius', u\"is't\", u'possible', u'brutus', u'hear', u'me', u'for', u'i', u'will', u'speak', u'must', u'i', u'give', u'way', u'and', u'room', u'to', u'your', u'rash', u'choler', u'shall', u'i', u'be', u'frighted', u'when', u'a', u'madman', u'stares', u'cassius', u'o', u'gods', u'ye', u'gods', u'must', u'i', u'endure', u'all', u'this', u'brutus', u'all', u'this', u'ay', u'more', u'fret', u'till', u'your', u'proud', u'heart', u'break', u'go', u'show', u'your', u'slaves', u'how', u'choleric', u'you', u'are', u'and', u'make', u'your', u'bondmen', u'tremble', u'must', u'i', u'bouge', u'must', u'i', u'observe', u'you', u'must', u'i', u'stand', u'and', u'crouch', u'under', u'your', u'testy', u'humor', u'by', u'the', u'gods', u'you', u'shall', u'digest', u'the', u'venom', u'of', u'your', u'spleen', u'though', u'it', u'do', u'split', u'you', u'for', u'from', u'this', u'day', u'forth', u\"i'll\", u'use', u'you', u'for', u'my', u'mirth', u'yea', u'for', u'my', u'laughter', u'when', u'you', u'are', u'waspish', u'cassius', u'is', u'it', u'come', u'to', u'this', u'brutus', u'you', u'say', u'you', u'are', u'a', u'better', u'soldier:', u'let', u'it', u'appear', u'so', u'make', u'your', u'vaunting', u'true', u'and', u'it', u'shall', u'please', u'me', u'well', u'for', u'mine', u'own', u'part', u'i', u'shall', u'be', u'glad', u'to', u'learn', u'of', u'noble', u'men', u'cassius', u'you', u'wrong', u'me', u'every', u'way', u'you', u'wrong', u'me', u'brutus', u'i', u'said', u'an', u'elder', u'soldier', u'not', u'a', u'better', u'did', u'i', u'say', u'better', u'brutus', u'if', u'you', u'did', u'i', u'care', u'not', u'cassius', u'when', u'caesar', u'lived', u'he', u'durst', u'not', u'thus', u'have', u'moved', u'me', u'brutus', u'peace', u'peace', u'you', u'durst', u'not', u'so', u'have', u'tempted', u'him', u'cassius', u'i', u'durst', u'not', u'brutus', u'no', u'cassius', u'what', u'durst', u'not', u'tempt', u'him', u'brutus', u'for', u'your', u'life', u'you', u'durst', u'not', u'cassius', u'do', u'not', u'presume', u'too', u'much', u'upon', u'my', u'love;', u'i', u'may', u'do', u'that', u'i', u'shall', u'be', u'sorry', u'for', u'brutus', u'you', u'have', u'done', u'that', u'you', u'should', u'be', u'sorry', u'for', u'there', u'is', u'no', u'terror', u'cassius', u'in', u'your', u'threats', u'for', u'i', u'am', u\"arm'd\", u'so', u'strong', u'in', u'honesty', u'that', u'they', u'pass', u'by', u'me', u'as', u'the', u'idle', u'wind', u'which', u'i', u'respect', u'not', u'i', u'did', u'send', u'to', u'you', u'for', u'certain', u'sums', u'of', u'gold', u'which', u'you', u'denied', u'me', u'for', u'i', u'can', u'raise', u'no', u'money', u'by', u'vile', u'means', u'by', u'heaven', u'i', u'had', u'rather', u'coin', u'my', u'heart', u'and', u'drop', u'my', u'blood', u'for', u'drachmas', u'than', u'to', u'wring', u'from', u'the', u'hard', u'hands', u'of', u'peasants', u'their', u'vile', u'trash', u'by', u'any', u'indirection', u'i', u'did', u'send', u'to', u'you', u'for', u'gold', u'to', u'pay', u'my', u'legions', u'which', u'you', u'denied', u'me', u'was', u'that', u'done', u'like', u'cassius', u'should', u'i', u'have', u\"answer'd\", u'caius', u'cassius', u'so', u'when', u'marcus', u'brutus', u'grows', u'so', u'covetous', u'to', u'lock', u'such', u'rascal', u'counters', u'from', u'his', u'friends', u'be', u'ready', u'gods', u'with', u'all', u'your', u'thunderbolts', u'dash', u'him', u'to', u'pieces', u'cassius', u'i', u'denied', u'you', u'not', u'brutus', u'you', u'did', u'cassius', u'i', u'did', u'not', u'he', u'was', u'but', u'a', u'fool', u'that', u'brought', u'my', u'answer', u'back', u'brutus', u'hath', u'rived', u'my', u'heart', u'a', u'friend', u'should', u'bear', u'his', u\"friend's\", u'infirmities', u'but', u'brutus', u'makes', u'mine', u'greater', u'than', u'they', u'are', u'brutus', u'i', u'do', u'not', u'till', u'you', u'practise', u'them', u'on', u'me', u'cassius', u'you', u'love', u'me', u'not', u'brutus', u'i', u'do', u'not', u'like', u'your', u'faults', u'cassius', u'a', u'friendly', u'eye', u'could', u'never', u'see', u'such', u'faults', u'brutus', u'a', u\"flatterer's\", u'would', u'not', u'though', u'they', u'do', u'appear', u'as', u'huge', u'as', u'high', u'olympus', u'cassius', u'come', u'antony', u'and', u'young', u'octavius', u'come', u'revenge', u'yourselves', u'alone', u'on', u'cassius', u'for', u'cassius', u'is', u'aweary', u'of', u'the', u'world:', u'hated', u'by', u'one', u'he', u'loves;', u'braved', u'by', u'his', u'brother;', u\"check'd\", u'like', u'a', u'bondman;', u'all', u'his', u'faults', u'observed', u'set', u'in', u'a', u'notebook', u\"learn'd\", u'and', u\"conn'd\", u'by', u'rote', u'to', u'cast', u'into', u'my', u'teeth', u'o', u'i', u'could', u'weep', u'my', u'spirit', u'from', u'mine', u'eyes', u'there', u'is', u'my', u'dagger', u'and', u'here', u'my', u'naked', u'breast;', u'within', u'a', u'heart', u'dearer', u'than', u\"pluto's\", u'mine', u'richer', u'than', u'gold', u'if', u'that', u'thou', u'best', u'a', u'roman', u'take', u'it', u'forth;', u'i', u'that', u'denied', u'thee', u'gold', u'will', u'give', u'my', u'heart', u'strike', u'as', u'thou', u'didst', u'at', u'caesar', u'for', u'i', u'know', u'when', u'thou', u'didst', u'hate', u'him', u'worst', u'thou', u'lovedst', u'him', u'better', u'than', u'ever', u'thou', u'lovedst', u'cassius', u'brutus', u'sheathe', u'your', u'dagger', u'be', u'angry', u'when', u'you', u'will', u'it', u'shall', u'have', u'scope;', u'do', u'what', u'you', u'will', u'dishonor', u'shall', u'be', u'humor', u'o', u'cassius', u'you', u'are', u'yoked', u'with', u'a', u'lamb', u'that', u'carries', u'anger', u'as', u'the', u'flint', u'bears', u'fire', u'who', u'much', u'enforced', u'shows', u'a', u'hasty', u'spark', u'and', u'straight', u'is', u'cold', u'again', u'cassius', u'hath', u'cassius', u'lived', u'to', u'be', u'but', u'mirth', u'and', u'laughter', u'to', u'his', u'brutus', u'when', u'grief', u'and', u'blood', u\"ill-temper'd\", u'vexeth', u'him', u'brutus', u'when', u'i', u'spoke', u'that', u'i', u'was', u\"ill-temper'd\", u'too', u'cassius', u'do', u'you', u'confess', u'so', u'much', u'give', u'me', u'your', u'hand', u'brutus', u'and', u'my', u'heart', u'too', u'cassius', u'o', u'brutus', u'brutus', u\"what's\", u'the', u'matter', u'cassius', u'have', u'not', u'you', u'love', u'enough', u'to', u'bear', u'with', u'me', u'when', u'that', u'rash', u'humor', u'which', u'my', u'mother', u'gave', u'me', u'makes', u'me', u'forgetful', u'brutus', u'yes', u'cassius', u'and', u'from', u'henceforth', u'when', u'you', u'are', u'overearnest', u'with', u'your', u'brutus', u\"he'll\", u'think', u'your', u'mother', u'chides', u'and', u'leave', u'you', u'so', u'poet', u'within', u'let', u'me', u'go', u'in', u'to', u'see', u'the', u'generals', u'there', u'is', u'some', u'grudge', u'between', u'em', u'tis', u'not', u'meet', u'they', u'be', u'alone', u'lucilius', u'within', u'you', u'shall', u'not', u'come', u'to', u'them', u'poet', u'within', u'nothing', u'but', u'death', u'shall', u'stay', u'me', u'enter', u'poet', u'followed', u'by', u'lucilius', u'titinius', u'and', u'lucius', u'cassius', u'how', u'now', u\"what's\", u'the', u'matter', u'poet', u'for', u'shame', u'you', u'generals', u'what', u'do', u'you', u'mean', u'love', u'and', u'be', u'friends', u'as', u'two', u'such', u'men', u'should', u'be;', u'for', u'i', u'have', u'seen', u'more', u'years', u\"i'm\", u'sure', u'than', u'ye', u'cassius', u'ha', u'ha', u'how', u'vilely', u'doth', u'this', u'cynic', u'rhyme', u'brutus', u'get', u'you', u'hence', u'sirrah;', u'saucy', u'fellow', u'hence', u'cassius', u'bear', u'with', u'him', u'brutus;', u'tis', u'his', u'fashion', u'brutus', u\"i'll\", u'know', u'his', u'humor', u'when', u'he', u'knows', u'his', u'time', u'what', u'should', u'the', u'wars', u'do', u'with', u'these', u'jigging', u'fools', u'companion', u'hence', u'cassius', u'away', u'away', u'be', u'gone', u'exit', u'poet', u'brutus', u'lucilius', u'and', u'titinius', u'bid', u'the', u'commanders', u'prepare', u'to', u'lodge', u'their', u'companies', u'tonight', u'cassius', u'and', u'come', u'yourselves', u'and', u'bring', u'messala', u'with', u'you', u'immediately', u'to', u'us', u'exeunt', u'lucilius', u'and', u'titinius', u'brutus', u'lucius', u'a', u'bowl', u'of', u'wine', u'exit', u'lucius', u'cassius', u'i', u'did', u'not', u'think', u'you', u'could', u'have', u'been', u'so', u'angry', u'brutus', u'o', u'cassius', u'i', u'am', u'sick', u'of', u'many', u'griefs', u'cassius', u'of', u'your', u'philosophy', u'you', u'make', u'no', u'use', u'if', u'you', u'give', u'place', u'to', u'accidental', u'evils', u'brutus', u'no', u'man', u'bears', u'sorrow', u'better', u'portia', u'is', u'dead', u'cassius', u'ha', u'portia', u'brutus', u'she', u'is', u'dead', u'cassius', u'how', u'scaped', u'killing', u'when', u'i', u\"cross'd\", u'you', u'so', u'o', u'insupportable', u'and', u'touching', u'loss', u'upon', u'what', u'sickness', u'brutus', u'impatient', u'of', u'my', u'absence', u'and', u'grief', u'that', u'young', u'octavius', u'with', u'mark', u'antony', u'have', u'made', u'themselves', u'so', u'strong-', u'for', u'with', u'her', u'death', u'that', u'tidings', u'came-', u'with', u'this', u'she', u'fell', u'distract', u'and', u'her', u'attendants', u'absent', u\"swallow'd\", u'fire', u'cassius', u'and', u'died', u'so', u'brutus', u'even', u'so', u'cassius', u'o', u'ye', u'immortal', u'gods', u're-enter', u'lucius', u'with', u'wine', u'and', u'taper', u'brutus', u'speak', u'no', u'more', u'of', u'her', u'give', u'me', u'a', u'bowl', u'of', u'wine', u'in', u'this', u'i', u'bury', u'all', u'unkindness', u'cassius', u'drinks', u'cassius', u'my', u'heart', u'is', u'thirsty', u'for', u'that', u'noble', u'pledge', u'fill', u'lucius', u'till', u'the', u'wine', u\"o'erswell\", u'the', u'cup;', u'i', u'cannot', u'drink', u'too', u'much', u'of', u'brutus', u'love', u'drinks', u'brutus', u'come', u'in', u'titinius', u'exit', u'lucius', u're-enter', u'titinius', u'with', u'messala', u'welcome', u'good', u'messala', u'now', u'sit', u'we', u'close', u'about', u'this', u'taper', u'here', u'and', u'call', u'in', u'question', u'our', u'necessities', u'cassius', u'portia', u'art', u'thou', u'gone', u'brutus', u'no', u'more', u'i', u'pray', u'you', u'messala', u'i', u'have', u'here', u'received', u'letters', u'that', u'young', u'octavius', u'and', u'mark', u'antony', u'come', u'down', u'upon', u'us', u'with', u'a', u'mighty', u'power', u'bending', u'their', u'expedition', u'toward', u'philippi', u'messala', u'myself', u'have', u'letters', u'of', u'the', u'selfsame', u'tenure', u'brutus', u'with', u'what', u'addition', u'messala', u'that', u'by', u'proscription', u'and', u'bills', u'of', u'outlawry', u'octavius', u'antony', u'and', u'lepidus', u'have', u'put', u'to', u'death', u'an', u'hundred', u'senators', u'brutus', u'there', u'in', u'our', u'letters', u'do', u'not', u'well', u'agree;', u'mine', u'speak', u'of', u'seventy', u'senators', u'that', u'died', u'by', u'their', u'proscriptions', u'cicero', u'being', u'one', u'cassius', u'cicero', u'one', u'messala', u'cicero', u'is', u'dead', u'and', u'by', u'that', u'order', u'of', u'proscription', u'had', u'you', u'your', u'letters', u'from', u'your', u'wife', u'my', u'lord', u'brutus', u'no', u'messala', u'messala', u'nor', u'nothing', u'in', u'your', u'letters', u'writ', u'of', u'her', u'brutus', u'nothing', u'messala', u'messala', u'that', u'methinks', u'is', u'strange', u'brutus', u'why', u'ask', u'you', u'hear', u'you', u'aught', u'of', u'her', u'in', u'yours', u'messala', u'no', u'my', u'lord', u'brutus', u'now', u'as', u'you', u'are', u'a', u'roman', u'tell', u'me', u'true', u'messala', u'then', u'like', u'a', u'roman', u'bear', u'the', u'truth', u'i', u'tell:', u'for', u'certain', u'she', u'is', u'dead', u'and', u'by', u'strange', u'manner', u'brutus', u'why', u'farewell', u'portia', u'we', u'must', u'die', u'messala', u'with', u'meditating', u'that', u'she', u'must', u'die', u'once', u'i', u'have', u'the', u'patience', u'to', u'endure', u'it', u'now', u'messala', u'even', u'so', u'great', u'men', u'great', u'losses', u'should', u'endure', u'cassius', u'i', u'have', u'as', u'much', u'of', u'this', u'in', u'art', u'as', u'you', u'but', u'yet', u'my', u'nature', u'could', u'not', u'bear', u'it', u'so', u'brutus', u'well', u'to', u'our', u'work', u'alive', u'what', u'do', u'you', u'think', u'of', u'marching', u'to', u'philippi', u'presently', u'cassius', u'i', u'do', u'not', u'think', u'it', u'good', u'brutus', u'your', u'reason', u'cassius', u'this', u'it', u'is:', u'tis', u'better', u'that', u'the', u'enemy', u'seek', u'us;', u'so', u'shall', u'he', u'waste', u'his', u'means', u'weary', u'his', u'soldiers', u'doing', u'himself', u'offense', u'whilst', u'we', u'lying', u'still', u'are', u'full', u'of', u'rest', u'defense', u'and', u'nimbleness', u'brutus', u'good', u'reasons', u'must', u'of', u'force', u'give', u'place', u'to', u'better', u'the', u'people', u'twixt', u'philippi', u'and', u'this', u'ground', u'do', u'stand', u'but', u'in', u'a', u'forced', u'affection', u'for', u'they', u'have', u'grudged', u'us', u'contribution', u'the', u'enemy', u'marching', u'along', u'by', u'them', u'by', u'them', u'shall', u'make', u'a', u'fuller', u'number', u'up', u'come', u'on', u\"refresh'd\", u'new-added', u'and', u'encouraged;', u'from', u'which', u'advantage', u'shall', u'we', u'cut', u'him', u'off', u'if', u'at', u'philippi', u'we', u'do', u'face', u'him', u'there', u'these', u'people', u'at', u'our', u'back', u'cassius', u'hear', u'me', u'good', u'brother', u'brutus', u'under', u'your', u'pardon', u'you', u'must', u'note', u'beside', u'that', u'we', u'have', u'tried', u'the', u'utmost', u'of', u'our', u'friends', u'our', u'legions', u'are', u'brim-full', u'our', u'cause', u'is', u'ripe:', u'the', u'enemy', u'increaseth', u'every', u'day;', u'we', u'at', u'the', u'height', u'are', u'ready', u'to', u'decline', u'there', u'is', u'a', u'tide', u'in', u'the', u'affairs', u'of', u'men', u'which', u'taken', u'at', u'the', u'flood', u'leads', u'on', u'to', u'fortune;', u'omitted', u'all', u'the', u'voyage', u'of', u'their', u'life', u'is', u'bound', u'in', u'shallows', u'and', u'in', u'miseries', u'on', u'such', u'a', u'full', u'sea', u'are', u'we', u'now', u'afloat', u'and', u'we', u'must', u'take', u'the', u'current', u'when', u'it', u'serves', u'or', u'lose', u'our', u'ventures', u'cassius', u'then', u'with', u'your', u'will', u'go', u'on;', u\"we'll\", u'along', u'ourselves', u'and', u'meet', u'them', u'at', u'philippi', u'brutus', u'the', u'deep', u'of', u'night', u'is', u'crept', u'upon', u'our', u'talk', u'and', u'nature', u'must', u'obey', u'necessity', u'which', u'we', u'will', u'niggard', u'with', u'a', u'little', u'rest', u'there', u'is', u'no', u'more', u'to', u'say', u'cassius', u'no', u'more', u'good', u'night', u'early', u'tomorrow', u'will', u'we', u'rise', u'and', u'hence', u'brutus', u'lucius', u're-enter', u'lucius', u'my', u'gown', u'exit', u'lucius', u'farewell', u'good', u'messala;', u'good', u'night', u'titinius;', u'noble', u'noble', u'cassius', u'good', u'night', u'and', u'good', u'repose', u'cassius', u'o', u'my', u'dear', u'brother', u'this', u'was', u'an', u'ill', u'beginning', u'of', u'the', u'night', u'never', u'come', u'such', u'division', u'tween', u'our', u'souls', u'let', u'it', u'not', u'brutus', u'brutus', u'everything', u'is', u'well', u'cassius', u'good', u'night', u'my', u'lord', u'brutus', u'good', u'night', u'good', u'brother', u'titinius', u'messala', u'good', u'night', u'lord', u'brutus', u'brutus', u'farewell', u'everyone', u'exeunt', u'all', u'but', u'brutus', u're-enter', u'lucius', u'with', u'the', u'gown', u'give', u'me', u'the', u'gown', u'where', u'is', u'thy', u'instrument', u'lucius', u'here', u'in', u'the', u'tent', u'brutus', u'what', u'thou', u\"speak'st\", u'drowsily', u'poor', u'knave', u'i', u'blame', u'thee', u'not', u'thou', u'art', u\"o'erwatch'd\", u'call', u'claudio', u'and', u'some', u'other', u'of', u'my', u'men', u\"i'll\", u'have', u'them', u'sleep', u'on', u'cushions', u'in', u'my', u'tent', u'lucius', u'varro', u'and', u'claudio', u'enter', u'varro', u'and', u'claudio', u'varro', u'calls', u'my', u'lord', u'brutus', u'i', u'pray', u'you', u'sirs', u'lie', u'in', u'my', u'tent', u'and', u'sleep;', u'it', u'may', u'be', u'i', u'shall', u'raise', u'you', u'by', u'and', u'by', u'on', u'business', u'to', u'my', u'brother', u'cassius', u'varro', u'so', u'please', u'you', u'we', u'will', u'stand', u'and', u'watch', u'your', u'pleasure', u'brutus', u'i', u'would', u'not', u'have', u'it', u'so', u'lie', u'down', u'good', u'sirs', u'it', u'may', u'be', u'i', u'shall', u'otherwise', u'bethink', u'me', u'look', u'lucius', u\"here's\", u'the', u'book', u'i', u'sought', u'for', u'so;', u'i', u'put', u'it', u'in', u'the', u'pocket', u'of', u'my', u'gown', u'varro', u'and', u'claudio', u'lie', u'down', u'lucius', u'i', u'was', u'sure', u'your', u'lordship', u'did', u'not', u'give', u'it', u'me', u'brutus', u'bear', u'with', u'me', u'good', u'boy', u'i', u'am', u'much', u'forgetful', u'canst', u'thou', u'hold', u'up', u'thy', u'heavy', u'eyes', u'awhile', u'and', u'touch', u'thy', u'instrument', u'a', u'strain', u'or', u'two', u'lucius', u'ay', u'my', u'lord', u\"an't\", u'please', u'you', u'brutus', u'it', u'does', u'my', u'boy', u'i', u'trouble', u'thee', u'too', u'much', u'but', u'thou', u'art', u'willing', u'lucius', u'it', u'is', u'my', u'duty', u'sir', u'brutus', u'i', u'should', u'not', u'urge', u'thy', u'duty', u'past', u'thy', u'might;', u'i', u'know', u'young', u'bloods', u'look', u'for', u'a', u'time', u'of', u'rest', u'lucius', u'i', u'have', u'slept', u'my', u'lord', u'already', u'brutus', u'it', u'was', u'well', u'done', u'and', u'thou', u'shalt', u'sleep', u'again;', u'i', u'will', u'not', u'hold', u'thee', u'long', u'if', u'i', u'do', u'live', u'i', u'will', u'be', u'good', u'to', u'thee', u'music', u'and', u'a', u'song', u'this', u'is', u'a', u'sleepy', u'tune', u'o', u'murtherous', u'slumber', u'layest', u'thou', u'thy', u'leaden', u'mace', u'upon', u'my', u'boy', u'that', u'plays', u'thee', u'music', u'gentle', u'knave', u'good', u'night', u'i', u'will', u'not', u'do', u'thee', u'so', u'much', u'wrong', u'to', u'wake', u'thee', u'if', u'thou', u'dost', u'nod', u'thou', u\"break'st\", u'thy', u'instrument;', u\"i'll\", u'take', u'it', u'from', u'thee;', u'and', u'good', u'boy', u'good', u'night', u'let', u'me', u'see', u'let', u'me', u'see;', u'is', u'not', u'the', u'leaf', u\"turn'd\", u'down', u'where', u'i', u'left', u'reading', u'here', u'it', u'is', u'i', u'think', u'sits', u'down', u'enter', u'the', u'ghost', u'of', u'caesar', u'how', u'ill', u'this', u'taper', u'burns', u'ha', u'who', u'comes', u'here', u'i', u'think', u'it', u'is', u'the', u'weakness', u'of', u'mine', u'eyes', u'that', u'shapes', u'this', u'monstrous', u'apparition', u'it', u'comes', u'upon', u'me', u'art', u'thou', u'anything', u'art', u'thou', u'some', u'god', u'some', u'angel', u'or', u'some', u'devil', u'that', u'makest', u'my', u'blood', u'cold', u'and', u'my', u'hair', u'to', u'stare', u'speak', u'to', u'me', u'what', u'thou', u'art', u'ghost', u'thy', u'evil', u'spirit', u'brutus', u'brutus', u'why', u'comest', u'thou', u'ghost', u'to', u'tell', u'thee', u'thou', u'shalt', u'see', u'me', u'at', u'philippi', u'brutus', u'well', u'then', u'i', u'shall', u'see', u'thee', u'again', u'ghost', u'ay', u'at', u'philippi', u'brutus', u'why', u'i', u'will', u'see', u'thee', u'at', u'philippi', u'then', u'exit', u'ghost', u'now', u'i', u'have', u'taken', u'heart', u'thou', u'vanishest', u'ill', u'spirit', u'i', u'would', u'hold', u'more', u'talk', u'with', u'thee', u'boy', u'lucius', u'varro', u'claudio', u'sirs', u'awake', u'claudio', u'lucius', u'the', u'strings', u'my', u'lord', u'are', u'false', u'brutus', u'he', u'thinks', u'he', u'still', u'is', u'at', u'his', u'instrument', u'lucius', u'awake', u'lucius', u'my', u'lord', u'brutus', u'didst', u'thou', u'dream', u'lucius', u'that', u'thou', u'so', u'criedst', u'out', u'lucius', u'my', u'lord', u'i', u'do', u'not', u'know', u'that', u'i', u'did', u'cry', u'brutus', u'yes', u'that', u'thou', u'didst', u'didst', u'thou', u'see', u'anything', u'lucius', u'nothing', u'my', u'lord', u'brutus', u'sleep', u'again', u'lucius', u'sirrah', u'claudio', u'to', u'varro', u'fellow', u'thou', u'awake', u'varro', u'my', u'lord', u'claudio', u'my', u'lord', u'brutus', u'why', u'did', u'you', u'so', u'cry', u'out', u'sirs', u'in', u'your', u'sleep', u'varro', u'claudio', u'did', u'we', u'my', u'lord', u'brutus', u'ay', u'saw', u'you', u'anything', u'varro', u'no', u'my', u'lord', u'i', u'saw', u'nothing', u'claudio', u'nor', u'i', u'my', u'lord', u'brutus', u'go', u'and', u'commend', u'me', u'to', u'my', u'brother', u'cassius;', u'bid', u'him', u'set', u'on', u'his', u'powers', u'betimes', u'before', u'and', u'we', u'will', u'follow', u'varro', u'claudio', u'it', u'shall', u'be', u'done', u'my', u'lord', u'exeunt', u'<<this', u'electronic', u'version', u'of', u'the', u'complete', u'works', u'of', u'william', u'shakespeare', u'is', u'copyright', u'1990-1993', u'by', u'world', u'library', u'inc', u'and', u'is', u'provided', u'by', u'project', u'gutenberg', u'etext', u'of', u'carnegie', u'mellon', u'university', u'with', u'permission', u'electronic', u'and', u'machine', u'readable', u'copies', u'may', u'be', u'distributed', u'so', u'long', u'as', u'such', u'copies', u'1', u'are', u'for', u'your', u'or', u'others', u'personal', u'use', u'only', u'and', u'2', u'are', u'not', u'distributed', u'or', u'used', u'commercially', u'prohibited', u'commercial', u'distribution', u'includes', u'by', u'any', u'service', u'that', u'charges', u'for', u'download', u'time', u'or', u'for', u'membership.>>', u'act', u'v', u'scene', u'i', u'the', u'plains', u'of', u'philippi', u'enter', u'octavius', u'antony', u'and', u'their', u'army', u'octavius', u'now', u'antony', u'our', u'hopes', u'are', u'answered', u'you', u'said', u'the', u'enemy', u'would', u'not', u'come', u'down', u'but', u'keep', u'the', u'hills', u'and', u'upper', u'regions', u'it', u'proves', u'not', u'so', u'their', u'battles', u'are', u'at', u'hand;', u'they', u'mean', u'to', u'warn', u'us', u'at', u'philippi', u'here', u'answering', u'before', u'we', u'do', u'demand', u'of', u'them', u'antony', u'tut', u'i', u'am', u'in', u'their', u'bosoms', u'and', u'i', u'know', u'wherefore', u'they', u'do', u'it', u'they', u'could', u'be', u'content', u'to', u'visit', u'other', u'places', u'and', u'come', u'down', u'with', u'fearful', u'bravery', u'thinking', u'by', u'this', u'face', u'to', u'fasten', u'in', u'our', u'thoughts', u'that', u'they', u'have', u'courage;', u'but', u'tis', u'not', u'so', u'enter', u'a', u'messenger', u'messenger', u'prepare', u'you', u'generals', u'the', u'enemy', u'comes', u'on', u'in', u'gallant', u'show;', u'their', u'bloody', u'sign', u'of', u'battle', u'is', u'hung', u'out', u'and', u'something', u'to', u'be', u'done', u'immediately', u'antony', u'octavius', u'lead', u'your', u'battle', u'softly', u'on', u'upon', u'the', u'left', u'hand', u'of', u'the', u'even', u'field', u'octavius', u'upon', u'the', u'right', u'hand', u'i', u'keep', u'thou', u'the', u'left', u'antony', u'why', u'do', u'you', u'cross', u'me', u'in', u'this', u'exigent', u'octavius', u'i', u'do', u'not', u'cross', u'you', u'but', u'i', u'will', u'do', u'so', u'march', u'drum', u'enter', u'brutus', u'cassius', u'and', u'their', u'army;', u'lucilius', u'titinius', u'messala', u'and', u'others', u'brutus', u'they', u'stand', u'and', u'would', u'have', u'parley', u'cassius', u'stand', u'fast', u'titinius;', u'we', u'must', u'out', u'and', u'talk', u'octavius', u'mark', u'antony', u'shall', u'we', u'give', u'sign', u'of', u'battle', u'antony', u'no', u'caesar', u'we', u'will', u'answer', u'on', u'their', u'charge', u'make', u'forth', u'the', u'generals', u'would', u'have', u'some', u'words', u'octavius', u'stir', u'not', u'until', u'the', u'signal', u'not', u'until', u'the', u'signal', u'brutus', u'words', u'before', u'blows', u'is', u'it', u'so', u'countrymen', u'octavius', u'not', u'that', u'we', u'love', u'words', u'better', u'as', u'you', u'do', u'brutus', u'good', u'words', u'are', u'better', u'than', u'bad', u'strokes', u'octavius', u'antony', u'in', u'your', u'bad', u'strokes', u'brutus', u'you', u'give', u'good', u'words', u'witness', u'the', u'hole', u'you', u'made', u'in', u\"caesar's\", u'heart', u'crying', u'long', u'live', u'hail', u'caesar', u'cassius', u'antony', u'the', u'posture', u'of', u'your', u'blows', u'are', u'yet', u'unknown;', u'but', u'for', u'your', u'words', u'they', u'rob', u'the', u'hybla', u'bees', u'and', u'leave', u'them', u'honeyless', u'antony', u'not', u'stingless', u'too', u'brutus', u'o', u'yes', u'and', u'soundless', u'too', u'for', u'you', u'have', u\"stol'n\", u'their', u'buzzing', u'antony', u'and', u'very', u'wisely', u'threat', u'before', u'you', u'sting', u'antony', u'villains', u'you', u'did', u'not', u'so', u'when', u'your', u'vile', u'daggers', u\"hack'd\", u'one', u'another', u'in', u'the', u'sides', u'of', u'caesar', u'you', u\"show'd\", u'your', u'teeth', u'like', u'apes', u'and', u\"fawn'd\", u'like', u'hounds', u'and', u\"bow'd\", u'like', u'bondmen', u'kissing', u\"caesar's\", u'feet;', u'whilst', u'damned', u'casca', u'like', u'a', u'cur', u'behind', u'strooke', u'caesar', u'on', u'the', u'neck', u'o', u'you', u'flatterers', u'cassius', u'flatterers', u'now', u'brutus', u'thank', u'yourself', u'this', u'tongue', u'had', u'not', u'offended', u'so', u'today', u'if', u'cassius', u'might', u'have', u'ruled', u'octavius', u'come', u'come', u'the', u'cause', u'if', u'arguing', u'make', u'us', u'sweat', u'the', u'proof', u'of', u'it', u'will', u'turn', u'to', u'redder', u'drops', u'look', u'i', u'draw', u'a', u'sword', u'against', u'conspirators;', u'when', u'think', u'you', u'that', u'the', u'sword', u'goes', u'up', u'again', u'never', u'till', u\"caesar's\", u'three', u'and', u'thirty', u'wounds', u'be', u'well', u'avenged', u'or', u'till', u'another', u'caesar', u'have', u'added', u'slaughter', u'to', u'the', u'sword', u'of', u'traitors', u'brutus', u'caesar', u'thou', u'canst', u'not', u'die', u'by', u'traitors', u'hands', u'unless', u'thou', u\"bring'st\", u'them', u'with', u'thee', u'octavius', u'so', u'i', u'hope', u'i', u'was', u'not', u'born', u'to', u'die', u'on', u'brutus', u'sword', u'brutus', u'o', u'if', u'thou', u'wert', u'the', u'noblest', u'of', u'thy', u'strain', u'young', u'man', u'thou', u'couldst', u'not', u'die', u'more', u'honorable', u'cassius', u'a', u'peevish', u'school', u'boy', u'worthless', u'of', u'such', u'honor', u\"join'd\", u'with', u'a', u'masker', u'and', u'a', u'reveler', u'antony', u'old', u'cassius', u'still', u'octavius', u'come', u'antony', u'away', u'defiance', u'traitors', u'hurl', u'we', u'in', u'your', u'teeth', u'if', u'you', u'dare', u'fight', u'today', u'come', u'to', u'the', u'field;', u'if', u'not', u'when', u'you', u'have', u'stomachs', u'exeunt', u'octavius', u'antony', u'and', u'their', u'army', u'cassius', u'why', u'now', u'blow', u'and', u'swell', u'billow', u'and', u'swim', u'bark', u'the', u'storm', u'is', u'up', u'and', u'all', u'is', u'on', u'the', u'hazard', u'brutus', u'ho', u'lucilius', u'hark', u'a', u'word', u'with', u'you', u'lucilius', u'stands', u'forth', u'my', u'lord', u'brutus', u'and', u'lucilius', u'converse', u'apart', u'cassius', u'messala', u'messala', u'stands', u'forth', u'what', u'says', u'my', u'general', u'cassius', u'messala', u'this', u'is', u'my', u'birthday', u'as', u'this', u'very', u'day', u'was', u'cassius', u'born', u'give', u'me', u'thy', u'hand', u'messala', u'be', u'thou', u'my', u'witness', u'that', u'against', u'my', u'will', u'as', u'pompey', u'was', u'am', u'i', u\"compell'd\", u'to', u'set', u'upon', u'one', u'battle', u'all', u'our', u'liberties', u'you', u'know', u'that', u'i', u'held', u'epicurus', u'strong', u'and', u'his', u'opinion', u'now', u'i', u'change', u'my', u'mind', u'and', u'partly', u'credit', u'things', u'that', u'do', u'presage', u'coming', u'from', u'sardis', u'on', u'our', u'former', u'ensign', u'two', u'mighty', u'eagles', u'fell', u'and', u'there', u'they', u\"perch'd\", u'gorging', u'and', u'feeding', u'from', u'our', u'soldiers', u'hands', u'who', u'to', u'philippi', u'here', u'consorted', u'us', u'this', u'morning', u'are', u'they', u'fled', u'away', u'and', u'gone', u'and', u'in', u'their', u'steads', u'do', u'ravens', u'crows', u'and', u'kites', u'fly', u\"o'er\", u'our', u'heads', u'and', u'downward', u'look', u'on', u'us', u'as', u'we', u'were', u'sickly', u'prey', u'their', u'shadows', u'seem', u'a', u'canopy', u'most', u'fatal', u'under', u'which', u'our', u'army', u'lies', u'ready', u'to', u'give', u'up', u'the', u'ghost', u'messala', u'believe', u'not', u'so', u'cassius', u'i', u'but', u'believe', u'it', u'partly', u'for', u'i', u'am', u'fresh', u'of', u'spirit', u'and', u'resolved', u'to', u'meet', u'all', u'perils', u'very', u'constantly', u'brutus', u'even', u'so', u'lucilius', u'cassius', u'now', u'most', u'noble', u'brutus', u'the', u'gods', u'today', u'stand', u'friendly', u'that', u'we', u'may', u'lovers', u'in', u'peace', u'lead', u'on', u'our', u'days', u'to', u'age', u'but', u'since', u'the', u'affairs', u'of', u'men', u'rest', u'still', u'incertain', u\"let's\", u'reason', u'with', u'the', u'worst', u'that', u'may', u'befall', u'if', u'we', u'do', u'lose', u'this', u'battle', u'then', u'is', u'this', u'the', u'very', u'last', u'time', u'we', u'shall', u'speak', u'together', u'what', u'are', u'you', u'then', u'determined', u'to', u'do', u'brutus', u'even', u'by', u'the', u'rule', u'of', u'that', u'philosophy', u'by', u'which', u'i', u'did', u'blame', u'cato', u'for', u'the', u'death', u'which', u'he', u'did', u'give', u'himself-', u'i', u'know', u'not', u'how', u'but', u'i', u'do', u'find', u'it', u'cowardly', u'and', u'vile', u'for', u'fear', u'of', u'what', u'might', u'fall', u'so', u'to', u'prevent', u'the', u'time', u'of', u'life-', u'arming', u'myself', u'with', u'patience', u'to', u'stay', u'the', u'providence', u'of', u'some', u'high', u'powers', u'that', u'govern', u'us', u'below', u'cassius', u'then', u'if', u'we', u'lose', u'this', u'battle', u'you', u'are', u'contented', u'to', u'be', u'led', u'in', u'triumph', u'thorough', u'the', u'streets', u'of', u'rome', u'brutus', u'no', u'cassius', u'no', u'think', u'not', u'thou', u'noble', u'roman', u'that', u'ever', u'brutus', u'will', u'go', u'bound', u'to', u'rome;', u'he', u'bears', u'too', u'great', u'a', u'mind', u'but', u'this', u'same', u'day', u'must', u'end', u'that', u'work', u'the', u'ides', u'of', u'march', u'begun', u'and', u'whether', u'we', u'shall', u'meet', u'again', u'i', u'know', u'not', u'therefore', u'our', u'everlasting', u'farewell', u'take', u'forever', u'and', u'forever', u'farewell', u'cassius', u'if', u'we', u'do', u'meet', u'again', u'why', u'we', u'shall', u'smile;', u'if', u'not', u'why', u'then', u'this', u'parting', u'was', u'well', u'made', u'cassius', u'forever', u'and', u'forever', u'farewell', u'brutus', u'if', u'we', u'do', u'meet', u'again', u\"we'll\", u'smile', u'indeed;', u'if', u'not', u'tis', u'true', u'this', u'parting', u'was', u'well', u'made', u'brutus', u'why', u'then', u'lead', u'on', u'o', u'that', u'a', u'man', u'might', u'know', u'the', u'end', u'of', u'this', u\"day's\", u'business', u'ere', u'it', u'come', u'but', u'it', u'sufficeth', u'that', u'the', u'day', u'will', u'end', u'and', u'then', u'the', u'end', u'is', u'known', u'come', u'ho', u'away', u'exeunt', u'scene', u'ii', u'the', u'field', u'of', u'battle', u'alarum', u'enter', u'brutus', u'and', u'messala', u'brutus', u'ride', u'ride', u'messala', u'ride', u'and', u'give', u'these', u'bills', u'unto', u'the', u'legions', u'on', u'the', u'other', u'side', u'loud', u'alarum', u'let', u'them', u'set', u'on', u'at', u'once', u'for', u'i', u'perceive', u'but', u'cold', u'demeanor', u'in', u\"octavia's\", u'wing', u'and', u'sudden', u'push', u'gives', u'them', u'the', u'overthrow', u'ride', u'ride', u'messala', u'let', u'them', u'all', u'come', u'down', u'exeunt', u'scene', u'iii', u'another', u'part', u'of', u'the', u'field', u'alarums', u'enter', u'cassius', u'and', u'titinius', u'cassius', u'o', u'look', u'titinius', u'look', u'the', u'villains', u'fly', u'myself', u'have', u'to', u'mine', u'own', u\"turn'd\", u'enemy', u'this', u'ensign', u'here', u'of', u'mine', u'was', u'turning', u'back;', u'i', u'slew', u'the', u'coward', u'and', u'did', u'take', u'it', u'from', u'him', u'titinius', u'o', u'cassius', u'brutus', u'gave', u'the', u'word', u'too', u'early', u'who', u'having', u'some', u'advantage', u'on', u'octavius', u'took', u'it', u'too', u'eagerly', u'his', u'soldiers', u'fell', u'to', u'spoil', u'whilst', u'we', u'by', u'antony', u'are', u'all', u'enclosed', u'enter', u'pindarus', u'pindarus', u'fly', u'further', u'off', u'my', u'lord', u'fly', u'further', u'off;', u'mark', u'antony', u'is', u'in', u'your', u'tents', u'my', u'lord;', u'fly', u'therefore', u'noble', u'cassius', u'fly', u'far', u'off', u'cassius', u'this', u'hill', u'is', u'far', u'enough', u'look', u'look', u'titinius:', u'are', u'those', u'my', u'tents', u'where', u'i', u'perceive', u'the', u'fire', u'titinius', u'they', u'are', u'my', u'lord', u'cassius', u'titinius', u'if', u'thou', u'lovest', u'me', u'mount', u'thou', u'my', u'horse', u'and', u'hide', u'thy', u'spurs', u'in', u'him', u'till', u'he', u'have', u'brought', u'thee', u'up', u'to', u'yonder', u'troops', u'and', u'here', u'again', u'that', u'i', u'may', u'rest', u'assured', u'whether', u'yond', u'troops', u'are', u'friend', u'or', u'enemy', u'titinius', u'i', u'will', u'be', u'here', u'again', u'even', u'with', u'a', u'thought', u'exit', u'cassius', u'go', u'pindarus', u'get', u'higher', u'on', u'that', u'hill;', u'my', u'sight', u'was', u'ever', u'thick;', u'regard', u'titinius', u'and', u'tell', u'me', u'what', u'thou', u'notest', u'about', u'the', u'field', u'pindarus', u'ascends', u'the', u'hill', u'this', u'day', u'i', u'breathed', u'first:', u'time', u'is', u'come', u'round', u'and', u'where', u'i', u'did', u'begin', u'there', u'shall', u'i', u'end;', u'my', u'life', u'is', u'run', u'his', u'compass', u'sirrah', u'what', u'news', u'pindarus', u'above', u'o', u'my', u'lord', u'cassius', u'what', u'news', u'pindarus', u'above', u'titinius', u'is', u'enclosed', u'round', u'about', u'with', u'horsemen', u'that', u'make', u'to', u'him', u'on', u'the', u'spur;', u'yet', u'he', u'spurs', u'on', u'now', u'they', u'are', u'almost', u'on', u'him', u'now', u'titinius', u'now', u'some', u'light', u'o', u'he', u'lights', u'too', u\"he's\", u\"ta'en\", u'shout', u'and', u'hark', u'they', u'shout', u'for', u'joy', u'cassius', u'come', u'down;', u'behold', u'no', u'more', u'o', u'coward', u'that', u'i', u'am', u'to', u'live', u'so', u'long', u'to', u'see', u'my', u'best', u'friend', u\"ta'en\", u'before', u'my', u'face', u'pindarus', u'descends', u'come', u'hither', u'sirrah', u'in', u'parthia', u'did', u'i', u'take', u'thee', u'prisoner', u'and', u'then', u'i', u'swore', u'thee', u'saving', u'of', u'thy', u'life', u'that', u'whatsoever', u'i', u'did', u'bid', u'thee', u'do', u'thou', u'shouldst', u'attempt', u'it', u'come', u'now', u'keep', u'thine', u'oath;', u'now', u'be', u'a', u'freeman', u'and', u'with', u'this', u'good', u'sword', u'that', u'ran', u'through', u\"caesar's\", u'bowels', u'search', u'this', u'bosom', u'stand', u'not', u'to', u'answer:', u'here', u'take', u'thou', u'the', u'hilts;', u'and', u'when', u'my', u'face', u'is', u\"cover'd\", u'as', u'tis', u'now', u'guide', u'thou', u'the', u'sword', u'pindarus', u'stabs', u'him', u'caesar', u'thou', u'art', u'revenged', u'even', u'with', u'the', u'sword', u'that', u\"kill'd\", u'thee', u'dies', u'pindarus', u'so', u'i', u'am', u'free', u'yet', u'would', u'not', u'so', u'have', u'been', u'durst', u'i', u'have', u'done', u'my', u'will', u'o', u'cassius', u'far', u'from', u'this', u'country', u'pindarus', u'shall', u'run', u'where', u'never', u'roman', u'shall', u'take', u'note', u'of', u'him', u'exit', u're-enter', u'titinius', u'with', u'messala', u'messala', u'it', u'is', u'but', u'change', u'titinius', u'for', u'octavius', u'is', u'overthrown', u'by', u'noble', u'brutus', u'power', u'as', u'cassius', u'legions', u'are', u'by', u'antony', u'titinius', u'these', u'tidings', u'would', u'well', u'comfort', u'cassius', u'messala', u'where', u'did', u'you', u'leave', u'him', u'titinius', u'all', u'disconsolate', u'with', u'pindarus', u'his', u'bondman', u'on', u'this', u'hill', u'messala', u'is', u'not', u'that', u'he', u'that', u'lies', u'upon', u'the', u'ground', u'titinius', u'he', u'lies', u'not', u'like', u'the', u'living', u'o', u'my', u'heart', u'messala', u'is', u'not', u'that', u'he', u'titinius', u'no', u'this', u'was', u'he', u'messala', u'but', u'cassius', u'is', u'no', u'more', u'o', u'setting', u'sun', u'as', u'in', u'thy', u'red', u'rays', u'thou', u'dost', u'sink', u'to', u'night', u'so', u'in', u'his', u'red', u'blood', u'cassius', u'day', u'is', u'set', u'the', u'sun', u'of', u'rome', u'is', u'set', u'our', u'day', u'is', u'gone;', u'clouds', u'dews', u'and', u'dangers', u'come;', u'our', u'deeds', u'are', u'done', u'mistrust', u'of', u'my', u'success', u'hath', u'done', u'this', u'deed', u'messala', u'mistrust', u'of', u'good', u'success', u'hath', u'done', u'this', u'deed', u'o', u'hateful', u'error', u\"melancholy's\", u'child', u'why', u'dost', u'thou', u'show', u'to', u'the', u'apt', u'thoughts', u'of', u'men', u'the', u'things', u'that', u'are', u'not', u'o', u'error', u'soon', u'conceived', u'thou', u'never', u'comest', u'unto', u'a', u'happy', u'birth', u'but', u\"kill'st\", u'the', u'mother', u'that', u\"engender'd\", u'thee', u'titinius', u'what', u'pindarus', u'where', u'art', u'thou', u'pindarus', u'messala', u'seek', u'him', u'titinius', u'whilst', u'i', u'go', u'to', u'meet', u'the', u'noble', u'brutus', u'thrusting', u'this', u'report', u'into', u'his', u'ears', u'i', u'may', u'say', u'thrusting', u'it', u'for', u'piercing', u'steel', u'and', u'darts', u'envenomed', u'shall', u'be', u'as', u'welcome', u'to', u'the', u'ears', u'of', u'brutus', u'as', u'tidings', u'of', u'this', u'sight', u'titinius', u'hie', u'you', u'messala', u'and', u'i', u'will', u'seek', u'for', u'pindarus', u'the', u'while', u'exit', u'messala', u'why', u'didst', u'thou', u'send', u'me', u'forth', u'brave', u'cassius', u'did', u'i', u'not', u'meet', u'thy', u'friends', u'and', u'did', u'not', u'they', u'put', u'on', u'my', u'brows', u'this', u'wreath', u'of', u'victory', u'and', u'bid', u'me', u'give', u'it', u'thee', u'didst', u'thou', u'not', u'hear', u'their', u'shouts', u'alas', u'thou', u'hast', u'misconstrued', u'everything', u'but', u'hold', u'thee', u'take', u'this', u'garland', u'on', u'thy', u'brow;', u'thy', u'brutus', u'bid', u'me', u'give', u'it', u'thee', u'and', u'i', u'will', u'do', u'his', u'bidding', u'brutus', u'come', u'apace', u'and', u'see', u'how', u'i', u'regarded', u'caius', u'cassius', u'by', u'your', u'leave', u'gods', u'this', u'is', u'a', u\"roman's\", u'part', u'come', u'cassius', u'sword', u'and', u'find', u'titinius', u'heart', u'kills', u'himself', u'alarum', u're-enter', u'messala', u'with', u'brutus', u'young', u'cato', u'and', u'others', u'brutus', u'where', u'where', u'messala', u'doth', u'his', u'body', u'lie', u'messala', u'lo', u'yonder', u'and', u'titinius', u'mourning', u'it', u'brutus', u'titinius', u'face', u'is', u'upward', u'cato', u'he', u'is', u'slain', u'brutus', u'o', u'julius', u'caesar', u'thou', u'art', u'mighty', u'yet', u'thy', u'spirit', u'walks', u'abroad', u'and', u'turns', u'our', u'swords', u'in', u'our', u'own', u'proper', u'entrails', u'low', u'alarums', u'cato', u'brave', u'titinius', u'look', u\"whe'er\", u'he', u'have', u'not', u\"crown'd\", u'dead', u'cassius', u'brutus', u'are', u'yet', u'two', u'romans', u'living', u'such', u'as', u'these', u'the', u'last', u'of', u'all', u'the', u'romans', u'fare', u'thee', u'well', u'it', u'is', u'impossible', u'that', u'ever', u'rome', u'should', u'breed', u'thy', u'fellow', u'friends', u'i', u'owe', u'moe', u'tears', u'to', u'this', u'dead', u'man', u'than', u'you', u'shall', u'see', u'me', u'pay', u'i', u'shall', u'find', u'time', u'cassius', u'i', u'shall', u'find', u'time', u'come', u'therefore', u'and', u'to', u'thasos', u'send', u'his', u'body;', u'his', u'funerals', u'shall', u'not', u'be', u'in', u'our', u'camp', u'lest', u'it', u'discomfort', u'us', u'lucilius', u'come', u'and', u'come', u'young', u'cato;', u'let', u'us', u'to', u'the', u'field', u'labio', u'and', u'flavio', u'set', u'our', u'battles', u'on', u'tis', u'three', u\"o'clock\", u'and', u'romans', u'yet', u'ere', u'night', u'we', u'shall', u'try', u'fortune', u'in', u'a', u'second', u'fight', u'exeunt', u'scene', u'iv', u'another', u'part', u'of', u'the', u'field', u'alarum', u'enter', u'fighting', u'soldiers', u'of', u'both', u'armies;', u'then', u'brutus', u'young', u'cato', u'lucilius', u'and', u'others', u'brutus', u'yet', u'countrymen', u'o', u'yet', u'hold', u'up', u'your', u'heads', u'cato', u'what', u'bastard', u'doth', u'not', u'who', u'will', u'go', u'with', u'me', u'i', u'will', u'proclaim', u'my', u'name', u'about', u'the', u'field', u'i', u'am', u'the', u'son', u'of', u'marcus', u'cato', u'ho', u'a', u'foe', u'to', u'tyrants', u'and', u'my', u\"country's\", u'friend', u'i', u'am', u'the', u'son', u'of', u'marcus', u'cato', u'ho', u'brutus', u'and', u'i', u'am', u'brutus', u'marcus', u'brutus', u'i;', u'brutus', u'my', u\"country's\", u'friend;', u'know', u'me', u'for', u'brutus', u'exit', u'lucilius', u'o', u'young', u'and', u'noble', u'cato', u'art', u'thou', u'down', u'why', u'now', u'thou', u'diest', u'as', u'bravely', u'as', u'titinius', u'and', u'mayst', u'be', u\"honor'd\", u'being', u\"cato's\", u'son', u'first', u'soldier', u'yield', u'or', u'thou', u'diest', u'lucilius', u'only', u'i', u'yield', u'to', u'die', u'offers', u'money', u'there', u'is', u'so', u'much', u'that', u'thou', u'wilt', u'kill', u'me', u'straight:', u'kill', u'brutus', u'and', u'be', u\"honor'd\", u'in', u'his', u'death', u'first', u'soldier', u'we', u'must', u'not', u'a', u'noble', u'prisoner', u'second', u'soldier', u'room', u'ho', u'tell', u'antony', u'brutus', u'is', u\"ta'en\", u'first', u'soldier', u\"i'll\", u'tell', u'the', u'news', u'here', u'comes', u'the', u'general', u'enter', u'antony', u'brutus', u'is', u\"ta'en\", u'brutus', u'is', u\"ta'en\", u'my', u'lord', u'antony', u'where', u'is', u'he', u'lucilius', u'safe', u'antony', u'brutus', u'is', u'safe', u'enough', u'i', u'dare', u'assure', u'thee', u'that', u'no', u'enemy', u'shall', u'ever', u'take', u'alive', u'the', u'noble', u'brutus;', u'the', u'gods', u'defend', u'him', u'from', u'so', u'great', u'a', u'shame', u'when', u'you', u'do', u'find', u'him', u'or', u'alive', u'or', u'dead', u'he', u'will', u'be', u'found', u'like', u'brutus', u'like', u'himself', u'antony', u'this', u'is', u'not', u'brutus', u'friend', u'but', u'i', u'assure', u'you', u'a', u'prize', u'no', u'less', u'in', u'worth', u'keep', u'this', u'man', u'safe', u'give', u'him', u'all', u'kindness;', u'i', u'had', u'rather', u'have', u'such', u'men', u'my', u'friends', u'than', u'enemies', u'go', u'on', u'and', u'see', u'wheer', u'brutus', u'be', u'alive', u'or', u'dead', u'and', u'bring', u'us', u'word', u'unto', u'octavius', u'tent', u'how', u'everything', u'is', u'chanced', u'exeunt', u'scene', u'v', u'another', u'part', u'of', u'the', u'field', u'enter', u'brutus', u'dardanius', u'clitus', u'strato', u'and', u'volumnius', u'brutus', u'come', u'poor', u'remains', u'of', u'friends', u'rest', u'on', u'this', u'rock', u'clitus', u'statilius', u\"show'd\", u'the', u'torchlight', u'but', u'my', u'lord', u'he', u'came', u'not', u'back', u'he', u'is', u'or', u\"ta'en\", u'or', u'slain', u'brutus', u'sit', u'thee', u'down', u'clitus', u'slaying', u'is', u'the', u'word:', u'it', u'is', u'a', u'deed', u'in', u'fashion', u'hark', u'thee', u'clitus', u'whispers', u'clitus', u'what', u'i', u'my', u'lord', u'no', u'not', u'for', u'all', u'the', u'world', u'brutus', u'peace', u'then', u'no', u'words', u'clitus', u\"i'll\", u'rather', u'kill', u'myself', u'brutus', u'hark', u'thee', u'dardanius', u'whispers', u'dardanius', u'shall', u'i', u'do', u'such', u'a', u'deed', u'clitus', u'o', u'dardanius', u'dardanius', u'o', u'clitus', u'clitus', u'what', u'ill', u'request', u'did', u'brutus', u'make', u'to', u'thee', u'dardanius', u'to', u'kill', u'him', u'clitus', u'look', u'he', u'meditates', u'clitus', u'now', u'is', u'that', u'noble', u'vessel', u'full', u'of', u'grief', u'that', u'it', u'runs', u'over', u'even', u'at', u'his', u'eyes', u'brutus', u'come', u'hither', u'good', u'volumnius', u'list', u'a', u'word', u'volumnius', u'what', u'says', u'my', u'lord', u'brutus', u'why', u'this', u'volumnius:', u'the', u'ghost', u'of', u'caesar', u'hath', u\"appear'd\", u'to', u'me', u'two', u'several', u'times', u'by', u'night;', u'at', u'sardis', u'once', u'and', u'this', u'last', u'night', u'here', u'in', u'philippi', u'fields', u'i', u'know', u'my', u'hour', u'is', u'come', u'volumnius', u'not', u'so', u'my', u'lord', u'brutus', u'nay', u'i', u'am', u'sure', u'it', u'is', u'volumnius', u'thou', u'seest', u'the', u'world', u'volumnius', u'how', u'it', u'goes;', u'our', u'enemies', u'have', u'beat', u'us', u'to', u'the', u'pit;', u'low', u'alarums', u'it', u'is', u'more', u'worthy', u'to', u'leap', u'in', u'ourselves', u'than', u'tarry', u'till', u'they', u'push', u'us', u'good', u'volumnius', u'thou', u\"know'st\", u'that', u'we', u'two', u'went', u'to', u'school', u'together;', u'even', u'for', u'that', u'our', u'love', u'of', u'old', u'i', u'prithee', u'hold', u'thou', u'my', u'sword-hilts', u'whilst', u'i', u'run', u'on', u'it', u'volumnius', u\"that's\", u'not', u'an', u'office', u'for', u'a', u'friend', u'my', u'lord', u'alarum', u'still', u'clitus', u'fly', u'fly', u'my', u'lord', u'there', u'is', u'no', u'tarrying', u'here', u'brutus', u'farewell', u'to', u'you', u'and', u'you', u'and', u'you', u'volumnius', u'strato', u'thou', u'hast', u'been', u'all', u'this', u'while', u'asleep;', u'farewell', u'to', u'thee', u'too', u'strato', u'countrymen', u'my', u'heart', u'doth', u'joy', u'that', u'yet', u'in', u'all', u'my', u'life', u'i', u'found', u'no', u'man', u'but', u'he', u'was', u'true', u'to', u'me', u'i', u'shall', u'have', u'glory', u'by', u'this', u'losing', u'day', u'more', u'than', u'octavius', u'and', u'mark', u'antony', u'by', u'this', u'vile', u'conquest', u'shall', u'attain', u'unto', u'so', u'fare', u'you', u'well', u'at', u'once', u'for', u'brutus', u'tongue', u'hath', u'almost', u'ended', u'his', u\"life's\", u'history', u'night', u'hangs', u'upon', u'mine', u'eyes', u'my', u'bones', u'would', u'rest', u'that', u'have', u'but', u\"labor'd\", u'to', u'attain', u'this', u'hour', u'alarum', u'cry', u'within', u'fly', u'fly', u'fly', u'clitus', u'fly', u'my', u'lord', u'fly', u'brutus', u'hence', u'i', u'will', u'follow', u'exeunt', u'clitus', u'dardanius', u'and', u'volumnius', u'i', u'prithee', u'strato', u'stay', u'thou', u'by', u'thy', u'lord', u'thou', u'art', u'a', u'fellow', u'of', u'a', u'good', u'respect;', u'thy', u'life', u'hath', u'had', u'some', u'smatch', u'of', u'honor', u'in', u'it', u'hold', u'then', u'my', u'sword', u'and', u'turn', u'away', u'thy', u'face', u'while', u'i', u'do', u'run', u'upon', u'it', u'wilt', u'thou', u'strato', u'strato', u'give', u'me', u'your', u'hand', u'first', u'fare', u'you', u'well', u'my', u'lord', u'brutus', u'farewell', u'good', u'strato', u'runs', u'on', u'his', u'sword', u'caesar', u'now', u'be', u'still;', u'i', u\"kill'd\", u'not', u'thee', u'with', u'half', u'so', u'good', u'a', u'will', u'dies', u'alarum', u'retreat', u'enter', u'octavius', u'antony', u'messala', u'lucilius', u'and', u'the', u'army', u'octavius', u'what', u'man', u'is', u'that', u'messala', u'my', u\"master's\", u'man', u'strato', u'where', u'is', u'thy', u'master', u'strato', u'free', u'from', u'the', u'bondage', u'you', u'are', u'in', u'messala:', u'the', u'conquerors', u'can', u'but', u'make', u'a', u'fire', u'of', u'him;', u'for', u'brutus', u'only', u'overcame', u'himself', u'and', u'no', u'man', u'else', u'hath', u'honor', u'by', u'his', u'death', u'lucilius', u'so', u'brutus', u'should', u'be', u'found', u'i', u'thank', u'thee', u'brutus', u'that', u'thou', u'hast', u'proved', u'lucilius', u'saying', u'true', u'octavius', u'all', u'that', u'served', u'brutus', u'i', u'will', u'entertain', u'them', u'fellow', u'wilt', u'thou', u'bestow', u'thy', u'time', u'with', u'me', u'strato', u'ay', u'if', u'messala', u'will', u'prefer', u'me', u'to', u'you', u'octavius', u'do', u'so', u'good', u'messala', u'messala', u'how', u'died', u'my', u'master', u'strato', u'strato', u'i', u'held', u'the', u'sword', u'and', u'he', u'did', u'run', u'on', u'it', u'messala', u'octavius', u'then', u'take', u'him', u'to', u'follow', u'thee', u'that', u'did', u'the', u'latest', u'service', u'to', u'my', u'master', u'antony', u'this', u'was', u'the', u'noblest', u'roman', u'of', u'them', u'all', u'all', u'the', u'conspirators', u'save', u'only', u'he', u'did', u'that', u'they', u'did', u'in', u'envy', u'of', u'great', u'caesar;', u'he', u'only', u'in', u'a', u'general', u'honest', u'thought', u'and', u'common', u'good', u'to', u'all', u'made', u'one', u'of', u'them', u'his', u'life', u'was', u'gentle', u'and', u'the', u'elements', u'so', u\"mix'd\", u'in', u'him', u'that', u'nature', u'might', u'stand', u'up', u'and', u'say', u'to', u'all', u'the', u'world', u'this', u'was', u'a', u'man', u'octavius', u'according', u'to', u'his', u'virtue', u'let', u'us', u'use', u'him', u'with', u'all', u'respect', u'and', u'rites', u'of', u'burial', u'within', u'my', u'tent', u'his', u'bones', u'tonight', u'shall', u'lie', u'most', u'like', u'a', u'soldier', u'ordered', u'honorably', u'so', u'call', u'the', u'field', u'to', u'rest', u'and', u\"let's\", u'away', u'to', u'part', u'the', u'glories', u'of', u'this', u'happy', u'day', u'exeunt', u'the', u'end']\n"
     ]
    }
   ],
   "source": [
    "# your turn\n",
    "wordswordswords = (JuliusRDD.flatMap(lambda w: w.split(' ')).map(lambda w: w.lower()).filter(lambda k: k!='')\n",
    "                             .map(lambda k: k.strip(r'[\",.?!\\'()]')))\n",
    "print wordswordswords.collect()"
   ]
  },
  {
   "cell_type": "code",
   "execution_count": 109,
   "metadata": {},
   "outputs": [
    {
     "data": {
      "text/plain": [
       "21245"
      ]
     },
     "execution_count": 109,
     "metadata": {},
     "output_type": "execute_result"
    }
   ],
   "source": [
    "wordswordswords.count()"
   ]
  },
  {
   "cell_type": "markdown",
   "metadata": {},
   "source": [
    "Now print the first 20 words of Julius Caesar as a Python list."
   ]
  },
  {
   "cell_type": "code",
   "execution_count": 110,
   "metadata": {},
   "outputs": [
    {
     "data": {
      "text/plain": [
       "[u'1599',\n",
       " u'the',\n",
       " u'tragedy',\n",
       " u'of',\n",
       " u'julius',\n",
       " u'caesar',\n",
       " u'by',\n",
       " u'william',\n",
       " u'shakespeare',\n",
       " u'dramatis',\n",
       " u'personae',\n",
       " u'julius',\n",
       " u'caesar',\n",
       " u'roman',\n",
       " u'statesman',\n",
       " u'and',\n",
       " u'general',\n",
       " u'octavius',\n",
       " u'triumvir',\n",
       " u'after']"
      ]
     },
     "execution_count": 110,
     "metadata": {},
     "output_type": "execute_result"
    }
   ],
   "source": [
    "# your turn\n",
    "wordswordswords.take(20)"
   ]
  },
  {
   "cell_type": "markdown",
   "metadata": {},
   "source": [
    "Now print the first 20 words of Julius Caesar, **after removing all the stopwords**. *Hint: use `filter()`*."
   ]
  },
  {
   "cell_type": "code",
   "execution_count": 111,
   "metadata": {},
   "outputs": [
    {
     "data": {
      "text/plain": [
       "[u'1599',\n",
       " u'tragedy',\n",
       " u'julius',\n",
       " u'caesar',\n",
       " u'william',\n",
       " u'shakespeare',\n",
       " u'dramatis',\n",
       " u'personae',\n",
       " u'julius',\n",
       " u'caesar',\n",
       " u'roman',\n",
       " u'statesman',\n",
       " u'general',\n",
       " u'octavius',\n",
       " u'triumvir',\n",
       " u\"caesar's\",\n",
       " u'death',\n",
       " u'augustus',\n",
       " u'caesar',\n",
       " u'emperor']"
      ]
     },
     "execution_count": 111,
     "metadata": {},
     "output_type": "execute_result"
    }
   ],
   "source": [
    "# your turn\n",
    "wordswordswords = wordswordswords.filter(lambda r: r not in stopwords)\n",
    "wordswordswords.take(20)"
   ]
  },
  {
   "cell_type": "markdown",
   "metadata": {},
   "source": [
    "Now, use the word counting MapReduce code you've seen before. Count the number of times each word occurs and print the top 20 results as a list of tuples of the form `(word, count)`. *Hint: use `takeOrdered()` instead of `take()`*"
   ]
  },
  {
   "cell_type": "code",
   "execution_count": 112,
   "metadata": {},
   "outputs": [
    {
     "data": {
      "text/plain": [
       "[(u'', 44),\n",
       " (u'1', 5),\n",
       " (u'1599', 1),\n",
       " (u'1990-1993', 5),\n",
       " (u'2', 5),\n",
       " (u'<<this', 5),\n",
       " (u'abide', 2),\n",
       " (u'abler', 1),\n",
       " (u'abridged', 1),\n",
       " (u'abroad', 2),\n",
       " (u'absence', 1),\n",
       " (u'absent', 1),\n",
       " (u'abuse', 1),\n",
       " (u'abuse-', 1),\n",
       " (u'accents', 1),\n",
       " (u'accidental', 1),\n",
       " (u'accoutred', 1),\n",
       " (u'acquainted', 1),\n",
       " (u'across;', 1),\n",
       " (u'act', 7)]"
      ]
     },
     "execution_count": 112,
     "metadata": {},
     "output_type": "execute_result"
    }
   ],
   "source": [
    "# your turn\n",
    "wordswordswords.map(lambda w: (w, 1)).reduceByKey(lambda x,y: x+y).takeOrdered(20)\n",
    "#need a way to sort by values instead of alphabetically and also remove this extra trash"
   ]
  },
  {
   "cell_type": "markdown",
   "metadata": {},
   "source": [
    "Plot a bar graph. For each of the top 20 words on the X axis, represent the count on the Y axis."
   ]
  },
  {
   "cell_type": "code",
   "execution_count": null,
   "metadata": {
    "collapsed": true
   },
   "outputs": [],
   "source": [
    "# your turn\n",
    "\n"
   ]
  },
  {
   "cell_type": "markdown",
   "metadata": {},
   "source": [
    "### Using partitions for parallelization"
   ]
  },
  {
   "cell_type": "markdown",
   "metadata": {},
   "source": [
    "In order to make your code more efficient, you want to use all of the available processing power, even on a single laptop. If your machine has multiple cores, you can tune the number of partitions to use all of them! From http://www.stat.berkeley.edu/scf/paciorek-spark-2014.html:\n",
    "\n",
    ">You want each partition to be able to fit in the memory availalbe on a node, and if you have multi-core nodes, you want that as many partitions as there are cores be able to fit in memory.\n",
    "\n",
    ">For load-balancing you'll want at least as many partitions as total computational cores in your cluster and probably rather more partitions. The Spark documentation suggests 2-4 partitions (which they also seem to call slices) per CPU. Often there are 100-10,000 partitions. Another rule of thumb is that tasks should take at least 100 ms. If less than that, you may want to repartition to have fewer partitions."
   ]
  },
  {
   "cell_type": "code",
   "execution_count": 103,
   "metadata": {
    "collapsed": true
   },
   "outputs": [],
   "source": [
    "shakesrdd=sc.textFile(\"./sparklect/shakes/*.txt\", minPartitions=4)"
   ]
  },
  {
   "cell_type": "code",
   "execution_count": 104,
   "metadata": {},
   "outputs": [
    {
     "data": {
      "text/plain": [
       "[u'1601',\n",
       " u'AS YOU LIKE IT',\n",
       " u'',\n",
       " u'by William Shakespeare',\n",
       " u'',\n",
       " u'',\n",
       " u'',\n",
       " u'DRAMATIS PERSONAE.',\n",
       " u'',\n",
       " u'']"
      ]
     },
     "execution_count": 104,
     "metadata": {},
     "output_type": "execute_result"
    }
   ],
   "source": [
    "shakesrdd.take(10)"
   ]
  },
  {
   "cell_type": "markdown",
   "metadata": {},
   "source": [
    "Now calculate the top 20 words in all of the files that you just read."
   ]
  },
  {
   "cell_type": "code",
   "execution_count": 113,
   "metadata": {},
   "outputs": [
    {
     "data": {
      "text/plain": [
       "[(u'', 10280),\n",
       " (u' ', 35),\n",
       " (u'  ', 1),\n",
       " (u'     ', 1),\n",
       " (u'      ', 1),\n",
       " (u'                                                         ', 1),\n",
       " (u'                                                          Exeunt', 9),\n",
       " (u'                                                          Exeunt ', 1),\n",
       " (u'                                                          Music.', 1),\n",
       " (u'                                                         Exeunt.', 31),\n",
       " (u'                                                         Sleeps.', 1),\n",
       " (u'                                                         [Exit.]', 3),\n",
       " (u'                                                         [Reads]', 1),\n",
       " (u'                                                         [Rises]', 1),\n",
       " (u\"                                                        'EDGAR.'\", 1),\n",
       " (u'                                                        He dies.', 1),\n",
       " (u'                                                        tempest.', 1),\n",
       " (u'                                                       Descends.', 1),\n",
       " (u'                                                       Hautboys.', 1),\n",
       " (u'                                                       [Exeunt.]', 2)]"
      ]
     },
     "execution_count": 113,
     "metadata": {},
     "output_type": "execute_result"
    }
   ],
   "source": [
    "# your turn\n",
    "shakesrdd.map(lambda w: (w, 1)).reduceByKey(lambda x,y: x+y).takeOrdered(20)"
   ]
  },
  {
   "cell_type": "markdown",
   "metadata": {},
   "source": [
    "## Optional topic 1: DataFrames\n",
    "\n",
    "Pandas and Spark dataframes can be easily converted to each other, making it easier to work with different data formats. This section shows some examples of each."
   ]
  },
  {
   "cell_type": "markdown",
   "metadata": {},
   "source": [
    "Convert Spark DataFrame to Pandas\n",
    "\n",
    "`pandas_df = spark_df.toPandas()`\n",
    "\n",
    "Create a Spark DataFrame from Pandas\n",
    "\n",
    "`spark_df = context.createDataFrame(pandas_df)`\n",
    "\n",
    "Must fit in memory.\n",
    "\n",
    "![](https://ogirardot.files.wordpress.com/2015/05/rdd-vs-dataframe.png?w=640&h=360)\n",
    "\n",
    "VERY IMPORTANT: DataFrames in Spark are like RDD in the sense that they’re an immutable data structure."
   ]
  },
  {
   "cell_type": "code",
   "execution_count": null,
   "metadata": {
    "collapsed": true
   },
   "outputs": [],
   "source": [
    "df=pd.read_csv(\"sparklect/01_heights_weights_genders.csv\")\n",
    "df.head()"
   ]
  },
  {
   "cell_type": "markdown",
   "metadata": {},
   "source": [
    "Convert this pandas dataframe to a Spark dataframe"
   ]
  },
  {
   "cell_type": "code",
   "execution_count": null,
   "metadata": {
    "collapsed": true
   },
   "outputs": [],
   "source": [
    "from pyspark.sql import SQLContext\n",
    "sqlsc=SQLContext(sc)\n",
    "sparkdf = sqlsc.createDataFrame(df)\n",
    "sparkdf"
   ]
  },
  {
   "cell_type": "code",
   "execution_count": null,
   "metadata": {
    "collapsed": true
   },
   "outputs": [],
   "source": [
    "sparkdf.show(5)"
   ]
  },
  {
   "cell_type": "code",
   "execution_count": null,
   "metadata": {
    "collapsed": true
   },
   "outputs": [],
   "source": [
    "type(sparkdf.Gender)"
   ]
  },
  {
   "cell_type": "code",
   "execution_count": null,
   "metadata": {
    "collapsed": true
   },
   "outputs": [],
   "source": [
    "temp = sparkdf.map(lambda r: r.Gender)\n",
    "print type(temp)\n",
    "temp.take(10)"
   ]
  },
  {
   "cell_type": "markdown",
   "metadata": {},
   "source": [
    "## Optional topic 2: Machine Learning using Spark\n",
    "\n",
    "While we don't go in-depth into machine learning using spark here, this sample code will help you get started."
   ]
  },
  {
   "cell_type": "code",
   "execution_count": null,
   "metadata": {
    "collapsed": true
   },
   "outputs": [],
   "source": [
    "from pyspark.mllib.classification import LogisticRegressionWithLBFGS\n",
    "from pyspark.mllib.regression import LabeledPoint"
   ]
  },
  {
   "cell_type": "markdown",
   "metadata": {},
   "source": [
    "Now create a data set from the Spark dataframe"
   ]
  },
  {
   "cell_type": "code",
   "execution_count": null,
   "metadata": {
    "collapsed": true
   },
   "outputs": [],
   "source": [
    "data=sparkdf.map(lambda row: LabeledPoint(row.Gender=='Male',[row.Height, row.Weight]))\n",
    "data.take(5)"
   ]
  },
  {
   "cell_type": "code",
   "execution_count": null,
   "metadata": {
    "collapsed": true
   },
   "outputs": [],
   "source": [
    "data2=sparkdf.map(lambda row: LabeledPoint(row[0]=='Male',row[1:]))\n",
    "data2.take(1)[0].label, data2.take(1)[0].features"
   ]
  },
  {
   "cell_type": "markdown",
   "metadata": {},
   "source": [
    "Split the data set into training and test sets"
   ]
  },
  {
   "cell_type": "code",
   "execution_count": null,
   "metadata": {
    "collapsed": true
   },
   "outputs": [],
   "source": [
    "train, test = data.randomSplit([0.7,0.3])\n",
    "train.cache()\n",
    "test.cache()"
   ]
  },
  {
   "cell_type": "code",
   "execution_count": null,
   "metadata": {
    "collapsed": true
   },
   "outputs": [],
   "source": [
    "type(train)"
   ]
  },
  {
   "cell_type": "markdown",
   "metadata": {},
   "source": [
    "Train the logistic regression model using MLIB"
   ]
  },
  {
   "cell_type": "code",
   "execution_count": null,
   "metadata": {
    "collapsed": true
   },
   "outputs": [],
   "source": [
    "model = LogisticRegressionWithLBFGS.train(train)"
   ]
  },
  {
   "cell_type": "code",
   "execution_count": null,
   "metadata": {
    "collapsed": true
   },
   "outputs": [],
   "source": [
    "model.weights"
   ]
  },
  {
   "cell_type": "markdown",
   "metadata": {},
   "source": [
    "Run it on the test data"
   ]
  },
  {
   "cell_type": "code",
   "execution_count": null,
   "metadata": {
    "collapsed": true
   },
   "outputs": [],
   "source": [
    "results = test.map(lambda lp: (lp.label, float(model.predict(lp.features))))\n",
    "print results.take(10)\n",
    "type(results)                       "
   ]
  },
  {
   "cell_type": "markdown",
   "metadata": {},
   "source": [
    "Measure accuracy and other metrics"
   ]
  },
  {
   "cell_type": "code",
   "execution_count": null,
   "metadata": {
    "collapsed": true
   },
   "outputs": [],
   "source": [
    "test_accuracy=results.filter(lambda (a,p): a==p).count()/float(results.count())\n",
    "test_accuracy"
   ]
  },
  {
   "cell_type": "code",
   "execution_count": null,
   "metadata": {
    "collapsed": true
   },
   "outputs": [],
   "source": [
    "from pyspark.mllib.evaluation import BinaryClassificationMetrics\n",
    "metrics = BinaryClassificationMetrics(results)"
   ]
  },
  {
   "cell_type": "code",
   "execution_count": null,
   "metadata": {
    "collapsed": true
   },
   "outputs": [],
   "source": [
    "print type(metrics)\n",
    "metrics.areaUnderROC"
   ]
  },
  {
   "cell_type": "code",
   "execution_count": null,
   "metadata": {
    "collapsed": true
   },
   "outputs": [],
   "source": [
    "type(model)"
   ]
  },
  {
   "cell_type": "code",
   "execution_count": null,
   "metadata": {
    "collapsed": true
   },
   "outputs": [],
   "source": [
    "!rm -rf mylogistic.model"
   ]
  },
  {
   "cell_type": "code",
   "execution_count": null,
   "metadata": {
    "collapsed": true
   },
   "outputs": [],
   "source": [
    "model.save(sc, \"mylogistic.model\")"
   ]
  },
  {
   "cell_type": "markdown",
   "metadata": {},
   "source": [
    "The pipeline API automates a lot of this stuff, allowing us to work directly on dataframes. It is not all supported in Python, as yet. "
   ]
  },
  {
   "cell_type": "markdown",
   "metadata": {},
   "source": [
    "Also see:\n",
    "\n",
    "- http://jordicasanellas.weebly.com/data-science-blog/machine-learning-with-spark\n",
    "- http://spark.apache.org/docs/latest/mllib-guide.html\n",
    "- http://www.techpoweredmath.com/spark-dataframes-mllib-tutorial/\n",
    "- http://spark.apache.org/docs/latest/api/python/\n",
    "- http://spark.apache.org/docs/latest/programming-guide.html"
   ]
  },
  {
   "cell_type": "markdown",
   "metadata": {},
   "source": [
    "`rdd.saveAsTextFile()` saves an RDD as a string."
   ]
  },
  {
   "cell_type": "code",
   "execution_count": null,
   "metadata": {
    "collapsed": true
   },
   "outputs": [],
   "source": [
    "sc.stop()"
   ]
  },
  {
   "cell_type": "code",
   "execution_count": null,
   "metadata": {
    "collapsed": true
   },
   "outputs": [],
   "source": []
  }
 ],
 "metadata": {
  "kernelspec": {
   "display_name": "Python 2",
   "language": "python",
   "name": "python2"
  },
  "language_info": {
   "codemirror_mode": {
    "name": "ipython",
    "version": 2
   },
   "file_extension": ".py",
   "mimetype": "text/x-python",
   "name": "python",
   "nbconvert_exporter": "python",
   "pygments_lexer": "ipython2",
   "version": "2.7.13"
  }
 },
 "nbformat": 4,
 "nbformat_minor": 1
}
